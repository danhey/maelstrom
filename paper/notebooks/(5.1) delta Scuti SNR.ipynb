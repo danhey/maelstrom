{
 "cells": [
  {
   "cell_type": "code",
   "execution_count": 1,
   "metadata": {},
   "outputs": [],
   "source": [
    "import pandas as pd\n",
    "import matplotlib.pyplot as plt\n",
    "import numpy as np\n",
    "\n",
    "red = '#e41a1c'\n",
    "blue = '#377eb8'\n",
    "green = '#4daf4a'\n",
    "purple = '#984ea3'\n",
    "orange = '#ff7f00'\n",
    "\n",
    "%run paper/setup.py"
   ]
  },
  {
   "cell_type": "code",
   "execution_count": 2,
   "metadata": {},
   "outputs": [],
   "source": [
    "df = pd.read_csv('../../Dropbox (Sydney Uni)/Shared/pulsator_fraction/all_stars_with_gaia_mathur_green.csv')"
   ]
  },
  {
   "cell_type": "code",
   "execution_count": 3,
   "metadata": {},
   "outputs": [],
   "source": [
    "puls = df[df['pulsating']==1]"
   ]
  },
  {
   "cell_type": "code",
   "execution_count": 4,
   "metadata": {},
   "outputs": [
    {
     "data": {
      "text/plain": [
       "1875.038162"
      ]
     },
     "execution_count": 4,
     "metadata": {},
     "output_type": "execute_result"
    }
   ],
   "source": [
    "puls['snrmed'].max()"
   ]
  },
  {
   "cell_type": "code",
   "execution_count": 63,
   "metadata": {},
   "outputs": [
    {
     "data": {
      "image/png": "[encoded data removed]",
      "text/plain": [
       "<Figure size 500x309.017 with 1 Axes>"
      ]
     },
     "metadata": {
      "needs_background": "light"
     },
     "output_type": "display_data"
    }
   ],
   "source": [
    "plt.figure(figsize=mnras_size(240.))\n",
    "\n",
    "plt.hist(puls['snrmed'], bins=20, alpha=0.1, linewidth=0.5, edgecolor='black')\n",
    "#          alpha=0.2, color='k');\n",
    "# n, bins, patches = plt.hist(puls['snrmed'], bins=20, histtype='step', linewidth=2, cumulative=True)\n",
    "\n",
    "\n",
    "percs = np.percentile(puls['snrmed'], [15.87, 50, 84.13])\n",
    "for perc, val, color in zip(percs, ['16th', '50th', '84th'], [red, blue,green]):\n",
    "    plt.axvline(perc, c=color, linewidth=0.7)\n",
    "    plt.text(perc, 300, val, rotation=-90, c=color)\n",
    "    \n",
    "# plt.axvline(50, c=red)\n",
    "# plt.axvline(500, c=green)\n",
    "# plt.axvline(1000, c=blue)\n",
    "\n",
    "plt.xlabel('SNR')\n",
    "plt.ylabel('Counts')\n",
    "plt.xlim(0,1750)\n",
    "\n",
    "plt.savefig(overleaf_path + 'snr_dist.pdf', \n",
    "            dpi=300, bbox_inches='tight', pad_inches=0)\n",
    "# plt.savefig('dsct_snr_dist.png', dpi=300, bbox_inches='tight')"
   ]
  },
  {
   "cell_type": "code",
   "execution_count": 61,
   "metadata": {},
   "outputs": [
    {
     "data": {
      "text/plain": [
       "array([7.94312885, 2.02900574, 0.96680069])"
      ]
     },
     "execution_count": 61,
     "metadata": {},
     "output_type": "execute_result"
    }
   ],
   "source": [
    "np.exp(-1.0048 * np.log(percs) + 6.6173)"
   ]
  },
  {
   "cell_type": "raw",
   "metadata": {},
   "source": [
    "df = pd.read_csv('/Users/danielhey/Dropbox (Sydney Uni)/Shared/pulsator_fraction/luminosities/dsct_fraction_rev_12_Elham_V.csv')"
   ]
  },
  {
   "cell_type": "code",
   "execution_count": 35,
   "metadata": {},
   "outputs": [
    {
     "data": {
      "text/plain": [
       "Text(0, 0.5, 'Counts')"
      ]
     },
     "execution_count": 35,
     "metadata": {},
     "output_type": "execute_result"
    },
    {
     "data": {
      "image/png": "[encoded data removed]",
      "text/plain": [
       "<Figure size 432x288 with 1 Axes>"
      ]
     },
     "metadata": {
      "needs_background": "light"
     },
     "output_type": "display_data"
    }
   ],
   "source": [
    "plt.hist(np.log10(df[df['pulsating']==1]['amp'] * 0.835), bins=50, histtype='step')\n",
    "plt.xlabel('log10 Amplitude')\n",
    "plt.ylabel('Counts')\n",
    "# plt.savefig('amplitude.png', dpi=300)"
   ]
  },
  {
   "cell_type": "code",
   "execution_count": 12,
   "metadata": {},
   "outputs": [
    {
     "name": "stderr",
     "output_type": "stream",
     "text": [
      "Warning: 31% (6168/19692) of the cadences will be ignored due to the quality mask (quality_bitmask=175).\n",
      "/Users/danielhey/Dropbox (Sydney Uni)/code/lightkurve/lightkurve/collections.py:212: LightkurveWarning: Stitching a `LightCurveFileCollection` which contains both SAP and PDCSAP_FLUX. Plotting PDCSAP_FLUX. You can remove this warning by using `LightCurveFileCollection.PDCSAP_FLUX.stitch()`.\n",
      "  LightkurveWarning)\n"
     ]
    }
   ],
   "source": [
    "import lightkurve as lk\n",
    "\n",
    "lc = lk.search_lightcurvefile('TIC 260353074', mission='TESS').download_all().stitch().remove_nans()"
   ]
  },
  {
   "cell_type": "code",
   "execution_count": 50,
   "metadata": {},
   "outputs": [],
   "source": [
    "lc_files = lk.search_lightcurvefile('TIC 260353074', mission='TESS')#.download_all().stitch().remove_nans()"
   ]
  },
  {
   "cell_type": "code",
   "execution_count": 53,
   "metadata": {},
   "outputs": [
    {
     "data": {
      "text/plain": [
       "SearchResult containing 12 data products.\n",
       "\n",
       "target_name                     productFilename                     description  distance\n",
       "----------- ------------------------------------------------------- ------------ --------\n",
       "  260353074 tess2018234235059-s0002-0000000260353074-0121-s_lc.fits Light curves      0.0\n",
       "  260353074 tess2018263035959-s0003-0000000260353074-0123-s_lc.fits Light curves      0.0\n",
       "  260353074 tess2018292075959-s0004-0000000260353074-0124-s_lc.fits Light curves      0.0\n",
       "  260353074 tess2018319095959-s0005-0000000260353074-0125-s_lc.fits Light curves      0.0\n",
       "  260353074 tess2018349182459-s0006-0000000260353074-0126-s_lc.fits Light curves      0.0\n",
       "  260353074 tess2019006130736-s0007-0000000260353074-0131-s_lc.fits Light curves      0.0\n",
       "  260353074 tess2019032160000-s0008-0000000260353074-0136-s_lc.fits Light curves      0.0\n",
       "  260353074 tess2019058134432-s0009-0000000260353074-0139-s_lc.fits Light curves      0.0\n",
       "  260353074 tess2019085135100-s0010-0000000260353074-0140-s_lc.fits Light curves      0.0\n",
       "  260353074 tess2019112060037-s0011-0000000260353074-0143-s_lc.fits Light curves      0.0\n",
       "  260353074 tess2019140104343-s0012-0000000260353074-0144-s_lc.fits Light curves      0.0\n",
       "  260353074 tess2019169103026-s0013-0000000260353074-0146-s_lc.fits Light curves      0.0"
      ]
     },
     "execution_count": 53,
     "metadata": {},
     "output_type": "execute_result"
    }
   ],
   "source": [
    "lc_files"
   ]
  },
  {
   "cell_type": "code",
   "execution_count": 20,
   "metadata": {},
   "outputs": [],
   "source": [
    "pg = lc.to_periodogram(minimum_frequency=50)"
   ]
  },
  {
   "cell_type": "code",
   "execution_count": 23,
   "metadata": {},
   "outputs": [
    {
     "data": {
      "text/plain": [
       "<matplotlib.axes._subplots.AxesSubplot at 0x1c30189eb8>"
      ]
     },
     "execution_count": 23,
     "metadata": {},
     "output_type": "execute_result"
    },
    {
     "name": "stderr",
     "output_type": "stream",
     "text": [
      "/Users/danielhey/anaconda3/lib/python3.7/site-packages/IPython/core/events.py:88: UserWarning: Creating legend with loc=\"best\" can be slow with large amounts of data.\n",
      "  func(*args, **kwargs)\n",
      "/Users/danielhey/anaconda3/lib/python3.7/site-packages/IPython/core/pylabtools.py:128: UserWarning: Creating legend with loc=\"best\" can be slow with large amounts of data.\n",
      "  fig.canvas.print_figure(bytes_io, **kw)\n"
     ]
    },
    {
     "data": {
      "image/png": "[encoded data removed]",
      "text/plain": [
       "<Figure size 848.5x400 with 1 Axes>"
      ]
     },
     "metadata": {},
     "output_type": "display_data"
    }
   ],
   "source": [
    "pg.plot()"
   ]
  },
  {
   "cell_type": "code",
   "execution_count": 36,
   "metadata": {},
   "outputs": [
    {
     "data": {
      "text/plain": [
       "2.790782101466884e-06"
      ]
     },
     "execution_count": 36,
     "metadata": {},
     "output_type": "execute_result"
    }
   ],
   "source": [
    "lc = lk.search_lightcurvefile('TIC 260353074', mission='TESS').download_all().stitch().remove_nans()"
   ]
  },
  {
   "cell_type": "code",
   "execution_count": 49,
   "metadata": {},
   "outputs": [
    {
     "data": {
      "text/plain": [
       "Text(0, 0.5, 'Counts')"
      ]
     },
     "execution_count": 49,
     "metadata": {},
     "output_type": "execute_result"
    },
    {
     "data": {
      "image/png": "[encoded data removed]",
      "text/plain": [
       "<Figure size 432x288 with 1 Axes>"
      ]
     },
     "metadata": {
      "needs_background": "light"
     },
     "output_type": "display_data"
    }
   ],
   "source": [
    "vals = (df[df['pulsating']==1]['amp'] * 0.835 * 1e-3) / np.mean(pg.power.value)\n",
    "plt.hist(np.log10(vals), bins=50, histtype='step')\n",
    "plt.xlabel('log10 Amplitude')\n",
    "plt.ylabel('Counts')\n",
    "\n",
    "# plt.savefig('amplitude.png', dpi=300)"
   ]
  },
  {
   "cell_type": "code",
   "execution_count": 55,
   "metadata": {},
   "outputs": [
    {
     "data": {
      "text/plain": [
       "333.5061702132836"
      ]
     },
     "execution_count": 55,
     "metadata": {},
     "output_type": "execute_result"
    }
   ],
   "source": [
    "np.median(df[df['pulsating']==1]['amp'] * 0.835 * 1e-3) / np.mean(pg.power.value)"
   ]
  },
  {
   "cell_type": "code",
   "execution_count": 62,
   "metadata": {},
   "outputs": [
    {
     "data": {
      "text/plain": [
       "29.6"
      ]
     },
     "execution_count": 62,
     "metadata": {},
     "output_type": "execute_result"
    }
   ],
   "source": [
    "5.6 + 24"
   ]
  },
  {
   "cell_type": "code",
   "execution_count": null,
   "metadata": {},
   "outputs": [],
   "source": [
    "from astroquery.mast import Catalogs\n",
    "\n",
    "catalog_data = Catalogs.query_criteria(catalog=\"Tic\",ra=[90.004-24, 90+24], dec=[-66.547], objType=\"STAR\")\n",
    "print(catalog_data)"
   ]
  },
  {
   "cell_type": "code",
   "execution_count": 57,
   "metadata": {},
   "outputs": [
    {
     "data": {
      "text/plain": [
       "13"
      ]
     },
     "execution_count": 57,
     "metadata": {},
     "output_type": "execute_result"
    }
   ],
   "source": [
    "result = Catalogs.query_criteria_async(catalog=\"Tic\", dec=[-90,-78],Teff=[6000,10000],objType=\"STAR\")\n",
    "TICCatalog = result.get_data()"
   ]
  },
  {
   "cell_type": "code",
   "execution_count": null,
   "metadata": {},
   "outputs": [],
   "source": []
  }
 ],
 "metadata": {
  "kernelspec": {
   "display_name": "Python 3",
   "language": "python",
   "name": "python3"
  },
  "language_info": {
   "codemirror_mode": {
    "name": "ipython",
    "version": 3
   },
   "file_extension": ".py",
   "mimetype": "text/x-python",
   "name": "python",
   "nbconvert_exporter": "python",
   "pygments_lexer": "ipython3",
   "version": "3.7.3"
  }
 },
 "nbformat": 4,
 "nbformat_minor": 4
}

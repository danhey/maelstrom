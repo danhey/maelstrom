{
 "cells": [
  {
   "cell_type": "code",
   "execution_count": 6,
   "metadata": {},
   "outputs": [],
   "source": [
    "%run setup.py"
   ]
  },
  {
   "cell_type": "code",
   "execution_count": 2,
   "metadata": {},
   "outputs": [],
   "source": [
    "df = pd.read_csv('../../../../Dropbox (Sydney Uni)/Shared/pulsator_fraction/all_stars_with_gaia_mathur_green.csv')\n",
    "puls = df[df['pulsating']==1]"
   ]
  },
  {
   "cell_type": "markdown",
   "metadata": {},
   "source": [
    "Let's count the number of TESS CVZ stars with 2 min data"
   ]
  },
  {
   "cell_type": "code",
   "execution_count": 6,
   "metadata": {},
   "outputs": [],
   "source": [
    "files = []\n",
    "import glob\n",
    "\n",
    "for sector in list(range(1,14)):\n",
    "    files.extend(glob.glob('/Volumes/silo2/dhey3294/TESS/sector_' + str(sector) + '/tess*.fits'))\n",
    "\n",
    "tics = [a.split('_')[1].split('/')[-1].split('-')[2].lstrip('0') for a in files]\n",
    "unique_tics = np.unique(tics)"
   ]
  },
  {
   "cell_type": "code",
   "execution_count": 7,
   "metadata": {},
   "outputs": [],
   "source": [
    "df = pd.read_csv('../data/MAST_Crossmatch_TIC.csv', skiprows=4)\n",
    "cut = (df['Teff'] > 6500) & (df['Teff'] < 10000)\n",
    "\n",
    "unique_tics = df[cut]['target_name'].values"
   ]
  },
  {
   "cell_type": "markdown",
   "metadata": {},
   "source": [
    "And now search for delta Scuti stars"
   ]
  },
  {
   "cell_type": "code",
   "execution_count": 8,
   "metadata": {},
   "outputs": [],
   "source": [
    "from scipy.stats import skew\n",
    "\n",
    "def dsct_search(unique_tic):\n",
    "    try:\n",
    "        unique_tic = str(unique_tic)\n",
    "        indices = [i for i, x in enumerate(tics) if x == unique_tic]\n",
    "\n",
    "        lc = lk.TessLightCurveFile(files[indices[0]]).PDCSAP_FLUX.normalize()\n",
    "        for index in indices[1:]:\n",
    "            lc = lc.append(lk.TessLightCurveFile(files[index]).PDCSAP_FLUX.normalize())\n",
    "    except:\n",
    "        return None\n",
    "    lc = lc.remove_nans()\n",
    "    pg = lc.to_periodogram(normalization='amplitude')#.plot()\n",
    "    skewer = skew(pg.power.value[(pg.frequency.value > 20) & (pg.frequency.value < 100)])\n",
    "    if skewer > 5:\n",
    "        fig, axes = plt.subplots(3,1, figsize=[8,13])\n",
    "        lc.plot(ax=axes[0])\n",
    "        axes[1].plot(pg.frequency.value, pg.power.value, linewidth=0.7)\n",
    "        axes[2].plot(pg.frequency.value, pg.power.value, linewidth=0.7)\n",
    "        axes[2].set_xlim(0,100)\n",
    "        plt.savefig('dSct search/' + unique_tic + '.png', bbox_inches='tight')\n",
    "        plt.clf()\n",
    "        plt.close(fig)\n",
    "        return unique_tic, skewer, pg.power.value.max() / np.median(pg.power.value)\n",
    "    else:\n",
    "        return None"
   ]
  },
  {
   "cell_type": "code",
   "execution_count": 9,
   "metadata": {},
   "outputs": [
    {
     "name": "stderr",
     "output_type": "stream",
     "text": [
      "100%|██████████| 1651/1651 [00:00<00:00, 273610.02it/s]\n"
     ]
    }
   ],
   "source": [
    "from tqdm import tqdm\n",
    "\n",
    "dscts = []\n",
    "for unique_tic in tqdm(unique_tics):\n",
    "    dscts.append(dsct_search(unique_tic))"
   ]
  },
  {
   "cell_type": "code",
   "execution_count": 4,
   "metadata": {},
   "outputs": [
    {
     "data": {
      "text/plain": [
       "(0, 1750)"
      ]
     },
     "execution_count": 4,
     "metadata": {},
     "output_type": "execute_result"
    },
    {
     "data": {
      "image/png": "[encoded data removed]",
      "text/plain": [
       "<Figure size 432x288 with 1 Axes>"
      ]
     },
     "metadata": {},
     "output_type": "display_data"
    }
   ],
   "source": [
    "res = np.loadtxt('res.txt')\n",
    "\n",
    "snrs = np.array(np.array(res)[:,2], dtype=float)\n",
    "plt.hist(snrs[snrs<2000], bins=15);\n",
    "plt.xlim(0,1750)"
   ]
  },
  {
   "cell_type": "code",
   "execution_count": 11,
   "metadata": {},
   "outputs": [],
   "source": [
    "import matplotlib\n",
    "matplotlib.rcParams[\"font.size\"] = 7"
   ]
  },
  {
   "cell_type": "code",
   "execution_count": 12,
   "metadata": {},
   "outputs": [
    {
     "data": {
      "image/png": "[encoded data removed]",
      "text/plain": [
       "<Figure size 500x309.017 with 1 Axes>"
      ]
     },
     "metadata": {},
     "output_type": "display_data"
    }
   ],
   "source": [
    "import seaborn as sns\n",
    "sns.set_style('white')\n",
    "\n",
    "plt.figure(figsize=mnras_size(240.))\n",
    "\n",
    "_, bins, _ = plt.hist(np.log(snrs), bins=18, alpha=0.4, density=True, color=red, label=r'TESS');\n",
    "plt.hist(np.log(puls['snrmed']), bins=bins, alpha=0.4, color=blue, density=True, label=r'Kepler')\n",
    "plt.xlabel('log SNR')\n",
    "plt.ylabel('Probability density')\n",
    "plt.legend()\n",
    "\n",
    "plt.axvline(np.median(np.log(snrs)), c=red, linewidth=0.7, linestyle='dashed')\n",
    "plt.axvline(np.median(np.log(puls['snrmed'])), c=blue, linewidth=0.7, linestyle='dashed')\n",
    "\n",
    "plt.savefig(overleaf_path + 'dsct_tess_kepler_comparison.pdf', dpi=300, bbox_inches='tight', pad_inches=0)"
   ]
  },
  {
   "cell_type": "code",
   "execution_count": null,
   "metadata": {},
   "outputs": [],
   "source": []
  }
 ],
 "metadata": {
  "kernelspec": {
   "display_name": "Python 3",
   "language": "python",
   "name": "python3"
  },
  "language_info": {
   "codemirror_mode": {
    "name": "ipython",
    "version": 3
   },
   "file_extension": ".py",
   "mimetype": "text/x-python",
   "name": "python",
   "nbconvert_exporter": "python",
   "pygments_lexer": "ipython3",
   "version": "3.7.3"
  }
 },
 "nbformat": 4,
 "nbformat_minor": 4
}

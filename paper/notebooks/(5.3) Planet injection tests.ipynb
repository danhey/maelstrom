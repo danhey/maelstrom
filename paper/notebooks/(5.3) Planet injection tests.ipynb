{
 "cells": [
  {
   "cell_type": "code",
   "execution_count": 1,
   "metadata": {},
   "outputs": [],
   "source": [
    "%run ../setup.py"
   ]
  },
  {
   "cell_type": "code",
   "execution_count": 3,
   "metadata": {},
   "outputs": [],
   "source": [
    "t, y = np.loadtxt('../data/dsct_eigenfrequencies.txt', usecols=(0,1)).T\n",
    "y *= 1e3"
   ]
  },
  {
   "cell_type": "code",
   "execution_count": 4,
   "metadata": {},
   "outputs": [],
   "source": [
    "from maelstrom.utils import amplitude_spectrum"
   ]
  },
  {
   "cell_type": "code",
   "execution_count": 5,
   "metadata": {},
   "outputs": [
    {
     "name": "stderr",
     "output_type": "stream",
     "text": [
      "WARNING: AstropyDeprecationWarning: Importing LombScargle from astropy.stats has been deprecated and will no longer be supported in future. Please import this class from the astropy.timeseries module instead [astropy.stats.lombscargle]\n"
     ]
    },
    {
     "data": {
      "text/plain": [
       "[<matplotlib.lines.Line2D at 0x1c2123efd0>]"
      ]
     },
     "execution_count": 5,
     "metadata": {},
     "output_type": "execute_result"
    },
    {
     "data": {
      "image/png": "[encoded data removed]",
      "text/plain": [
       "<Figure size 432x288 with 1 Axes>"
      ]
     },
     "metadata": {
      "needs_background": "light"
     },
     "output_type": "display_data"
    }
   ],
   "source": [
    "plt.plot(*amplitude_spectrum(t,y, fmax=48), linewidth=0.5)"
   ]
  },
  {
   "cell_type": "code",
   "execution_count": 6,
   "metadata": {},
   "outputs": [],
   "source": [
    "from exoplanet.utils import eval_in_model\n",
    "from exoplanet.orbits import get_true_anomaly\n",
    "import pymc3 as pm\n",
    "import theano.tensor as tt\n",
    "from exoplanet.orbits import get_true_anomaly\n",
    "import exoplanet as xo\n",
    "import astropy.units as u\n",
    "import theano.tensor as tt\n",
    "import theano\n",
    "from tqdm import tqdm\n",
    "\n",
    "class SyntheticBinary(object):\n",
    "    \"\"\"\n",
    "    This class makes a synthetic light curve and injects a time delay signal corresponding to the input binary orbit parameters    \n",
    "    \"\"\"\n",
    "    def __init__(self, time, freq, amplitude, \n",
    "                 period, eccen, asini, varpi, phi):\n",
    "        self.time = time\n",
    "        self.freq = freq\n",
    "        self.amplitude = amplitude\n",
    "        self.period, self.eccen, self.asini, self.varpi, self.phi = period, eccen, asini, varpi, phi\n",
    "        \n",
    "        self.make_lightcurve()\n",
    "        self.flux = self.flux_true\n",
    "        \n",
    "    def make_lightcurve(self):\n",
    "        self.flux_true = np.zeros(len(self.time))\n",
    "        \n",
    "        with pm.Model() as model:\n",
    "            #M = tt.zeros_like(tt.constant(self.time) - self.tref) + 2.0 * np.pi * (tt.constant(self.time)) / self.period\n",
    "            M = 2.0 * np.pi * tt.constant(self.time) / self.period - self.phi\n",
    "            f = get_true_anomaly(M, self.eccen + tt.zeros_like(M))\n",
    "            tau_tens = ((1 - tt.square(self.eccen)) * tt.sin(f+self.varpi) / (1 + self.eccen*tt.cos(f))) * (self.asini / 86400.)\n",
    "            self.tau = eval_in_model(tau_tens)\n",
    "            \n",
    "        for j, A_j in tqdm(zip(self.freq, self.amplitude), total=len(self.freq)):\n",
    "            omega = 2 * np.pi * j\n",
    "            # Add time delay and random phase term\n",
    "            self.flux_true += A_j * np.sin(omega * (self.time - self.tau - np.random.rand()*2*np.pi))# + A_j * np.sin(omega * (self.time - self.tau))\n",
    "            \n",
    "    def add_noise(self, snr=5):\n",
    "        # Add noise\n",
    "        s_rms = self.amplitude.max() / (np.sqrt(np.pi / len(self.time)) * snr)\n",
    "        #print(s_rms, self.amplitude)\n",
    "        #print(np.random.normal(loc=0.0, scale=s_rms, size=len(self.time)))\n",
    "        self.flux = self.flux_true + np.random.normal(loc=0.0, scale=s_rms, size=len(self.time))\n",
    "        #self.flux_err = noise * np.std(self.flux_true)\n",
    "        #self.flux = self.flux_true + self.flux_err * np.random.randn(len(self.flux_true))"
   ]
  },
  {
   "cell_type": "code",
   "execution_count": 7,
   "metadata": {},
   "outputs": [],
   "source": [
    "from maelstrom.utils import mass_function\n",
    "import astropy.units as u"
   ]
  },
  {
   "cell_type": "code",
   "execution_count": 8,
   "metadata": {},
   "outputs": [],
   "source": [
    "\n",
    "from exoplanet.orbits import get_true_anomaly\n",
    "import exoplanet as xo\n",
    "import astropy.units as u\n",
    "import theano.tensor as tt\n",
    "import theano\n",
    "\n",
    "def gen_model(time, flux, freq, period_guess, a_guess, with_gp=False, with_eccen=False):\n",
    "    new_model = pm.Model()\n",
    "    with new_model:\n",
    "        # Period\n",
    "#         logP = pm.Normal(\"logP\", mu=np.log(period_guess), sd=50, shape=1, testval=np.log(period_guess))\n",
    "        logP = pm.Bound(pm.Normal,\n",
    "                                 lower=np.log(1),\n",
    "                                 upper=np.log(1500))(\"logP\", mu=np.log(period_guess), sd=5, shape=1, testval=np.log(period_guess))\n",
    "        period = pm.Deterministic(\"period\", pm.math.exp(logP))\n",
    "        asini = pm.Normal('asini', mu=a_guess, sd=3, testval=a_guess)\n",
    "        phi = xo.distributions.Angle('phi', testval=0)\n",
    "        mean = pm.Normal(\"mean\", mu=np.mean(flux), sd=10.0, testval=np.mean(flux))\n",
    "        logs_lc = pm.Normal('logs_lc', mu=np.log(np.median(np.abs(np.diff(flux)))), sd=1, testval=np.log(np.median(np.abs(np.diff(flux)))))\n",
    "        sigma = pm.Deterministic('sigma', tt.exp(2*logs_lc))\n",
    "        #     logs_lc = pm.HalfNormal(\"logs_lc\",  sigma=0.25, testval=0.05)\n",
    "        M = 2.0 * np.pi * (time) / period - phi\n",
    "\n",
    "        if with_eccen:\n",
    "            varpi = xo.distributions.Angle('varpi', testval=0)\n",
    "            eccen = pm.Uniform(\"ecc\", lower=0.0, upper=1.0, testval=0.001)\n",
    "            f = get_true_anomaly(M, eccen + tt.zeros_like(M))\n",
    "            psi = (1 - tt.square(eccen)) * tt.sin(f+varpi) / (1 + eccen*tt.cos(f))\n",
    "        else:\n",
    "            psi = tt.sin(M)\n",
    "\n",
    "        lognu = pm.Normal(\"lognu\", mu=np.log(freq), sd=0.1, shape=len(freq))\n",
    "        nu = pm.Deterministic(\"nu\", tt.exp(lognu))\n",
    "        tau = ((asini) / 86400) * psi[:, None]\n",
    "        arg = 2. * np.pi * nu * (time[:, None] - tau)\n",
    "        D = tt.concatenate((tt.cos(arg), tt.sin(arg)), axis=-1)\n",
    "        w = tt.slinalg.solve(tt.dot(D.T, D), tt.dot(D.T, flux))\n",
    "        pm.Deterministic('w', w)\n",
    "        lc_model = tt.dot(D, w)\n",
    "        full_lc = lc_model - mean\n",
    "\n",
    "        if with_gp:\n",
    "            logw0 = pm.Bound(pm.Normal,\n",
    "                             lower=np.log(2*np.pi/100.0),\n",
    "                             upper=np.log(2*np.pi/2))(\"logw0\", mu=np.log(2*np.pi/10), sd=10,\n",
    "                                                        testval=np.log(2*np.pi/10))\n",
    "            logpower = pm.Normal(\"logpower\", mu=np.log(np.var(flux)), sd=10)\n",
    "            logS0 = pm.Deterministic(\"logS0\", logpower - 4 * logw0)\n",
    "            kernel = xo.gp.terms.SHOTerm(log_S0=logS0, log_w0=logw0, Q=1/np.sqrt(2))\n",
    "            gp = xo.gp.GP(kernel, time, tt.exp(2*logs_lc) + tt.zeros(len(time)), J=2)\n",
    "\n",
    "            pm.Potential(\"obs\", gp.log_likelihood(flux - full_lc))\n",
    "        else:\n",
    "            pm.Normal('obs', mu=full_lc, \n",
    "                      sd=sigma, \n",
    "                      observed=flux)\n",
    "            \n",
    "        plt.plot(lc.time, xo.eval_in_model(psi * asini))\n",
    "        plt.plot(lc.time, lc.tau*86400)\n",
    "        plt.show()\n",
    "    return new_model"
   ]
  },
  {
   "cell_type": "code",
   "execution_count": null,
   "metadata": {},
   "outputs": [],
   "source": []
  },
  {
   "cell_type": "code",
   "execution_count": 9,
   "metadata": {},
   "outputs": [
    {
     "data": {
      "text/plain": [
       "2.028747079785426"
      ]
     },
     "execution_count": 9,
     "metadata": {},
     "output_type": "execute_result"
    }
   ],
   "source": [
    "np.exp(-1.0048*np.log(358.4)+6.6173)"
   ]
  },
  {
   "cell_type": "code",
   "execution_count": 6,
   "metadata": {},
   "outputs": [
    {
     "data": {
      "text/latex": [
       "$107.43573 \\; \\mathrm{s}$"
      ],
      "text/plain": [
       "<Quantity 107.43572996 s>"
      ]
     },
     "execution_count": 6,
     "metadata": {},
     "output_type": "execute_result"
    }
   ],
   "source": [
    "(0.2153*u.AU).to(u.m) / (299792458 * u.m / u.s)"
   ]
  },
  {
   "cell_type": "code",
   "execution_count": 10,
   "metadata": {},
   "outputs": [
    {
     "data": {
      "text/latex": [
       "$1.5741541 \\; \\mathrm{M_{\\odot}}$"
      ],
      "text/plain": [
       "<Quantity 1.57415409 solMass>"
      ]
     },
     "execution_count": 10,
     "metadata": {},
     "output_type": "execute_result"
    }
   ],
   "source": [
    "from maelstrom.utils import mass_function\n",
    "import astropy.units as u\n",
    "stellar_mass = 2.8\n",
    "((mass_function(51.4167*u.day,107*u.s).to(u.M_jup))**(1/3) * ((stellar_mass*u.M_sun).to(u.M_jup))**(2/3)).to(u.M_sun)"
   ]
  },
  {
   "cell_type": "code",
   "execution_count": 14,
   "metadata": {},
   "outputs": [
    {
     "data": {
      "text/latex": [
       "$1.5741541 \\; \\mathrm{M_{\\odot}}$"
      ],
      "text/plain": [
       "<Quantity 1.57415409 solMass>"
      ]
     },
     "execution_count": 14,
     "metadata": {},
     "output_type": "execute_result"
    }
   ],
   "source": [
    "mass_function(51.4167*u.day,107*u.s)**(1/3) * ((stellar_mass*u.M_sun))**(2/3)"
   ]
  },
  {
   "cell_type": "code",
   "execution_count": 11,
   "metadata": {},
   "outputs": [],
   "source": [
    "masses = [1,2,5,10]\n",
    "periods = [1000,1000,1000]\n",
    "asinis = [0.63, 1.3, 3.15, 6.3]"
   ]
  },
  {
   "cell_type": "code",
   "execution_count": 26,
   "metadata": {},
   "outputs": [
    {
     "name": "stderr",
     "output_type": "stream",
     "text": [
      "100%|██████████| 3/3 [00:00<00:00, 578.82it/s]\n"
     ]
    },
    {
     "data": {
      "image/png": "[encoded data removed]",
      "text/plain": [
       "<Figure size 432x288 with 1 Axes>"
      ]
     },
     "metadata": {
      "needs_background": "light"
     },
     "output_type": "display_data"
    }
   ],
   "source": [
    "freqs = np.array([30, 40, 50])#dsct_freq\n",
    "amps = np.array([0.8, 0.8, 1])#dsct_amp\n",
    "time = t\n",
    "period_t = 1000\n",
    "\n",
    "lc = SyntheticBinary(time, freqs, amps,\n",
    "                     1000, 0, 0.63, 0, 0)\n",
    "np.random.seed(23)\n",
    "lc.add_noise(snr=358.4)\n",
    "asini = 6.3\n",
    "model = gen_model(lc.time, lc.flux, freqs, period_t, asini)\n",
    "with model:\n",
    "    trace = pm.load_trace('traces/planet_test/1000d_' + str(asini))"
   ]
  },
  {
   "cell_type": "code",
   "execution_count": 28,
   "metadata": {},
   "outputs": [
    {
     "data": {
      "text/html": [
       "<div>\n",
       "<style scoped>\n",
       "    .dataframe tbody tr th:only-of-type {\n",
       "        vertical-align: middle;\n",
       "    }\n",
       "\n",
       "    .dataframe tbody tr th {\n",
       "        vertical-align: top;\n",
       "    }\n",
       "\n",
       "    .dataframe thead th {\n",
       "        text-align: right;\n",
       "    }\n",
       "</style>\n",
       "<table border=\"1\" class=\"dataframe\">\n",
       "  <thead>\n",
       "    <tr style=\"text-align: right;\">\n",
       "      <th></th>\n",
       "      <th>mean</th>\n",
       "      <th>sd</th>\n",
       "      <th>mc_error</th>\n",
       "      <th>hpd_2.5</th>\n",
       "      <th>hpd_97.5</th>\n",
       "      <th>n_eff</th>\n",
       "      <th>Rhat</th>\n",
       "    </tr>\n",
       "  </thead>\n",
       "  <tbody>\n",
       "    <tr>\n",
       "      <td>asini</td>\n",
       "      <td>6.073043</td>\n",
       "      <td>7.390379e-01</td>\n",
       "      <td>2.129896e-02</td>\n",
       "      <td>4.653193</td>\n",
       "      <td>7.481658</td>\n",
       "      <td>1124.397549</td>\n",
       "      <td>0.999625</td>\n",
       "    </tr>\n",
       "    <tr>\n",
       "      <td>mean</td>\n",
       "      <td>0.003185</td>\n",
       "      <td>1.600653e-03</td>\n",
       "      <td>3.854638e-05</td>\n",
       "      <td>0.000237</td>\n",
       "      <td>0.006296</td>\n",
       "      <td>1665.888180</td>\n",
       "      <td>0.999909</td>\n",
       "    </tr>\n",
       "    <tr>\n",
       "      <td>logs_lc</td>\n",
       "      <td>-0.425954</td>\n",
       "      <td>1.311768e-03</td>\n",
       "      <td>3.325541e-05</td>\n",
       "      <td>-0.428361</td>\n",
       "      <td>-0.423199</td>\n",
       "      <td>1473.459910</td>\n",
       "      <td>1.000670</td>\n",
       "    </tr>\n",
       "    <tr>\n",
       "      <td>lognu__0</td>\n",
       "      <td>3.401197</td>\n",
       "      <td>3.392154e-08</td>\n",
       "      <td>8.900933e-10</td>\n",
       "      <td>3.401197</td>\n",
       "      <td>3.401197</td>\n",
       "      <td>1415.997799</td>\n",
       "      <td>0.999502</td>\n",
       "    </tr>\n",
       "    <tr>\n",
       "      <td>lognu__1</td>\n",
       "      <td>3.688879</td>\n",
       "      <td>2.558051e-08</td>\n",
       "      <td>6.231906e-10</td>\n",
       "      <td>3.688879</td>\n",
       "      <td>3.688880</td>\n",
       "      <td>1768.888355</td>\n",
       "      <td>0.999922</td>\n",
       "    </tr>\n",
       "    <tr>\n",
       "      <td>lognu__2</td>\n",
       "      <td>3.912023</td>\n",
       "      <td>1.580393e-08</td>\n",
       "      <td>4.376953e-10</td>\n",
       "      <td>3.912023</td>\n",
       "      <td>3.912023</td>\n",
       "      <td>1235.094730</td>\n",
       "      <td>0.999522</td>\n",
       "    </tr>\n",
       "    <tr>\n",
       "      <td>logP__0</td>\n",
       "      <td>6.891302</td>\n",
       "      <td>3.847691e-02</td>\n",
       "      <td>1.966324e-03</td>\n",
       "      <td>6.820623</td>\n",
       "      <td>6.968703</td>\n",
       "      <td>296.949756</td>\n",
       "      <td>1.003496</td>\n",
       "    </tr>\n",
       "    <tr>\n",
       "      <td>period__0</td>\n",
       "      <td>984.414866</td>\n",
       "      <td>3.830813e+01</td>\n",
       "      <td>1.980916e+00</td>\n",
       "      <td>916.555670</td>\n",
       "      <td>1062.842973</td>\n",
       "      <td>286.264180</td>\n",
       "      <td>1.003772</td>\n",
       "    </tr>\n",
       "    <tr>\n",
       "      <td>phi</td>\n",
       "      <td>0.381184</td>\n",
       "      <td>7.901470e-01</td>\n",
       "      <td>3.991058e-02</td>\n",
       "      <td>-1.247833</td>\n",
       "      <td>1.849276</td>\n",
       "      <td>305.329808</td>\n",
       "      <td>1.002450</td>\n",
       "    </tr>\n",
       "    <tr>\n",
       "      <td>sigma</td>\n",
       "      <td>0.426601</td>\n",
       "      <td>1.119195e-03</td>\n",
       "      <td>2.837694e-05</td>\n",
       "      <td>0.424551</td>\n",
       "      <td>0.428957</td>\n",
       "      <td>1473.350702</td>\n",
       "      <td>1.000666</td>\n",
       "    </tr>\n",
       "    <tr>\n",
       "      <td>nu__0</td>\n",
       "      <td>30.000000</td>\n",
       "      <td>1.017646e-06</td>\n",
       "      <td>2.670280e-08</td>\n",
       "      <td>29.999998</td>\n",
       "      <td>30.000002</td>\n",
       "      <td>1415.997789</td>\n",
       "      <td>0.999502</td>\n",
       "    </tr>\n",
       "    <tr>\n",
       "      <td>nu__1</td>\n",
       "      <td>40.000001</td>\n",
       "      <td>1.023221e-06</td>\n",
       "      <td>2.492762e-08</td>\n",
       "      <td>39.999999</td>\n",
       "      <td>40.000003</td>\n",
       "      <td>1768.888363</td>\n",
       "      <td>0.999922</td>\n",
       "    </tr>\n",
       "    <tr>\n",
       "      <td>nu__2</td>\n",
       "      <td>50.000000</td>\n",
       "      <td>7.901967e-07</td>\n",
       "      <td>2.188476e-08</td>\n",
       "      <td>49.999998</td>\n",
       "      <td>50.000002</td>\n",
       "      <td>1235.094728</td>\n",
       "      <td>0.999522</td>\n",
       "    </tr>\n",
       "    <tr>\n",
       "      <td>w__0</td>\n",
       "      <td>0.251074</td>\n",
       "      <td>1.578828e-02</td>\n",
       "      <td>4.137205e-04</td>\n",
       "      <td>0.220124</td>\n",
       "      <td>0.281644</td>\n",
       "      <td>1421.272791</td>\n",
       "      <td>0.999503</td>\n",
       "    </tr>\n",
       "    <tr>\n",
       "      <td>w__1</td>\n",
       "      <td>0.779893</td>\n",
       "      <td>3.565417e-03</td>\n",
       "      <td>8.670904e-05</td>\n",
       "      <td>0.773149</td>\n",
       "      <td>0.786746</td>\n",
       "      <td>1775.156183</td>\n",
       "      <td>0.999984</td>\n",
       "    </tr>\n",
       "    <tr>\n",
       "      <td>w__2</td>\n",
       "      <td>-0.455592</td>\n",
       "      <td>1.443257e-02</td>\n",
       "      <td>4.009851e-04</td>\n",
       "      <td>-0.484657</td>\n",
       "      <td>-0.428484</td>\n",
       "      <td>1222.094898</td>\n",
       "      <td>0.999529</td>\n",
       "    </tr>\n",
       "    <tr>\n",
       "      <td>w__3</td>\n",
       "      <td>-0.759479</td>\n",
       "      <td>5.233925e-03</td>\n",
       "      <td>1.382517e-04</td>\n",
       "      <td>-0.769181</td>\n",
       "      <td>-0.748856</td>\n",
       "      <td>1401.826070</td>\n",
       "      <td>0.999504</td>\n",
       "    </tr>\n",
       "    <tr>\n",
       "      <td>w__4</td>\n",
       "      <td>0.170798</td>\n",
       "      <td>1.632039e-02</td>\n",
       "      <td>3.991508e-04</td>\n",
       "      <td>0.136756</td>\n",
       "      <td>0.199791</td>\n",
       "      <td>1748.236955</td>\n",
       "      <td>0.999934</td>\n",
       "    </tr>\n",
       "    <tr>\n",
       "      <td>w__5</td>\n",
       "      <td>-0.893569</td>\n",
       "      <td>7.361659e-03</td>\n",
       "      <td>2.045968e-04</td>\n",
       "      <td>-0.907020</td>\n",
       "      <td>-0.878282</td>\n",
       "      <td>1223.215147</td>\n",
       "      <td>0.999523</td>\n",
       "    </tr>\n",
       "  </tbody>\n",
       "</table>\n",
       "</div>"
      ],
      "text/plain": [
       "                 mean            sd      mc_error     hpd_2.5     hpd_97.5  \\\n",
       "asini        6.073043  7.390379e-01  2.129896e-02    4.653193     7.481658   \n",
       "mean         0.003185  1.600653e-03  3.854638e-05    0.000237     0.006296   \n",
       "logs_lc     -0.425954  1.311768e-03  3.325541e-05   -0.428361    -0.423199   \n",
       "lognu__0     3.401197  3.392154e-08  8.900933e-10    3.401197     3.401197   \n",
       "lognu__1     3.688879  2.558051e-08  6.231906e-10    3.688879     3.688880   \n",
       "lognu__2     3.912023  1.580393e-08  4.376953e-10    3.912023     3.912023   \n",
       "logP__0      6.891302  3.847691e-02  1.966324e-03    6.820623     6.968703   \n",
       "period__0  984.414866  3.830813e+01  1.980916e+00  916.555670  1062.842973   \n",
       "phi          0.381184  7.901470e-01  3.991058e-02   -1.247833     1.849276   \n",
       "sigma        0.426601  1.119195e-03  2.837694e-05    0.424551     0.428957   \n",
       "nu__0       30.000000  1.017646e-06  2.670280e-08   29.999998    30.000002   \n",
       "nu__1       40.000001  1.023221e-06  2.492762e-08   39.999999    40.000003   \n",
       "nu__2       50.000000  7.901967e-07  2.188476e-08   49.999998    50.000002   \n",
       "w__0         0.251074  1.578828e-02  4.137205e-04    0.220124     0.281644   \n",
       "w__1         0.779893  3.565417e-03  8.670904e-05    0.773149     0.786746   \n",
       "w__2        -0.455592  1.443257e-02  4.009851e-04   -0.484657    -0.428484   \n",
       "w__3        -0.759479  5.233925e-03  1.382517e-04   -0.769181    -0.748856   \n",
       "w__4         0.170798  1.632039e-02  3.991508e-04    0.136756     0.199791   \n",
       "w__5        -0.893569  7.361659e-03  2.045968e-04   -0.907020    -0.878282   \n",
       "\n",
       "                 n_eff      Rhat  \n",
       "asini      1124.397549  0.999625  \n",
       "mean       1665.888180  0.999909  \n",
       "logs_lc    1473.459910  1.000670  \n",
       "lognu__0   1415.997799  0.999502  \n",
       "lognu__1   1768.888355  0.999922  \n",
       "lognu__2   1235.094730  0.999522  \n",
       "logP__0     296.949756  1.003496  \n",
       "period__0   286.264180  1.003772  \n",
       "phi         305.329808  1.002450  \n",
       "sigma      1473.350702  1.000666  \n",
       "nu__0      1415.997789  0.999502  \n",
       "nu__1      1768.888363  0.999922  \n",
       "nu__2      1235.094728  0.999522  \n",
       "w__0       1421.272791  0.999503  \n",
       "w__1       1775.156183  0.999984  \n",
       "w__2       1222.094898  0.999529  \n",
       "w__3       1401.826070  0.999504  \n",
       "w__4       1748.236955  0.999934  \n",
       "w__5       1223.215147  0.999523  "
      ]
     },
     "execution_count": 28,
     "metadata": {},
     "output_type": "execute_result"
    }
   ],
   "source": [
    "pm.summary(trace)"
   ]
  },
  {
   "cell_type": "code",
   "execution_count": 30,
   "metadata": {},
   "outputs": [
    {
     "name": "stdout",
     "output_type": "stream",
     "text": [
      "9.74708341732789 1.2567683704560668 1.2272219680454945\n"
     ]
    }
   ],
   "source": [
    "df = pm.trace_to_dataframe(trace, varnames=['period', 'asini'])\n",
    "masses = (mass_function(df['period__0'].values*u.day, df['asini'].values*u.s).to(u.M_jup))**(1/3) * ((1.8*u.M_sun).to(u.M_jup))**(2/3)\n",
    "upper, med, lower = np.nanpercentile(masses, [84.13, 50, 15.86])\n",
    "print(med, upper-med, med-lower)"
   ]
  },
  {
   "cell_type": "code",
   "execution_count": 65,
   "metadata": {},
   "outputs": [
    {
     "name": "stderr",
     "output_type": "stream",
     "text": [
      "100%|██████████| 3/3 [00:00<00:00, 233.53it/s]\n"
     ]
    },
    {
     "data": {
      "image/png": "[encoded data removed]",
      "text/plain": [
       "<Figure size 432x288 with 1 Axes>"
      ]
     },
     "metadata": {
      "needs_background": "light"
     },
     "output_type": "display_data"
    },
    {
     "name": "stderr",
     "output_type": "stream",
     "text": [
      "optimizing logp for variables: [logs_lc, mean]\n",
      "19it [00:00, 35.38it/s, logp=-4.159078e+04]\n",
      "message: Optimization terminated successfully.\n",
      "logp: -78197.92944419385 -> -41590.77759907873\n",
      "optimizing logp for variables: [phi]\n",
      "91it [00:02, 35.78it/s, logp=-4.156959e+04]\n",
      "message: Desired error not necessarily achieved due to precision loss.\n",
      "logp: -41590.77759907873 -> -41569.58584362348\n",
      "optimizing logp for variables: [lognu]\n",
      "172it [00:04, 38.62it/s, logp=-4.156850e+04]\n",
      "message: Desired error not necessarily achieved due to precision loss.\n",
      "logp: -41569.58584362348 -> -41568.50070861713\n",
      "optimizing logp for variables: [lognu, logs_lc, mean, phi, asini, logP]\n",
      "94it [00:02, 33.19it/s, logp=-2.712410e+05]\n",
      "message: Desired error not necessarily achieved due to precision loss.\n",
      "logp: -41568.50070861713 -> -41568.50070861713\n",
      "optimizing logp for variables: [asini]\n",
      "5it [00:00, 18.57it/s, logp=-4.156844e+04]\n",
      "message: Optimization terminated successfully.\n",
      "logp: -41568.50070861713 -> -41568.4420774338\n",
      "optimizing logp for variables: [lognu, logs_lc, mean, phi, asini, logP]\n",
      "206it [00:05, 35.05it/s, logp=-4.156842e+04]\n",
      "message: Desired error not necessarily achieved due to precision loss.\n",
      "logp: -41568.4420774338 -> -41568.4159336467\n",
      "optimizing logp for variables: [logP]\n",
      "3it [00:00, 13.26it/s, logp=-4.156842e+04]\n",
      "message: Optimization terminated successfully.\n",
      "logp: -41568.4159336467 -> -41568.4159336467\n"
     ]
    },
    {
     "name": "stdout",
     "output_type": "stream",
     "text": [
      "{'logP_interval__': array([2.69257859]), 'asini': array(0.80417011), 'phi_angle__': array([ 3.09910996, -3.22421119]), 'mean': array(0.00324752), 'logs_lc': array(-0.42598997), 'lognu': array([3.4011974 , 3.68887948, 3.91202301]), 'logP': array([6.84946934]), 'period': array([943.38015911]), 'phi': array(2.37597601), 'sigma': array(0.42656951), 'nu': array([30.00000058, 40.00000121, 50.00000024]), 'w': array([ 0.63623912,  0.42156758, -0.99662832, -0.48704184,  0.6819688 ,\n",
      "        0.07106055])}\n",
      "1000 0.63\n"
     ]
    },
    {
     "name": "stderr",
     "output_type": "stream",
     "text": [
      "Sampling 2 chains: 100%|██████████| 204/204 [10:33<00:00,  9.11s/draws]\n",
      "Sampling 2 chains: 100%|██████████| 204/204 [09:26<00:00,  8.81s/draws]\n",
      "Sampling 2 chains: 100%|██████████| 404/404 [23:08<00:00, 11.76s/draws]\n",
      "Sampling 2 chains: 100%|██████████| 1204/1204 [1:27:44<00:00, 15.91s/draws]\n",
      "Sampling 2 chains: 100%|██████████| 1004/1004 [2:22:04<00:00, 25.24s/draws] \n",
      "Sampling 2 chains: 100%|██████████| 2000/2000 [2:16:09<00:00,  4.07draws/s]  \n",
      "ERROR:pymc3:There were 163 divergences after tuning. Increase `target_accept` or reparameterize.\n",
      "WARNING:pymc3:The acceptance probability does not match the target. It is 0.0745874706474897, but should be close to 0.9. Try to increase the number of tuning steps.\n",
      "ERROR:pymc3:There were 118 divergences after tuning. Increase `target_accept` or reparameterize.\n",
      "WARNING:pymc3:The acceptance probability does not match the target. It is 0.3132290653238866, but should be close to 0.9. Try to increase the number of tuning steps.\n",
      "WARNING:pymc3:The chain reached the maximum tree depth. Increase max_treedepth, increase target_accept or reparameterize.\n",
      "ERROR:pymc3:The gelman-rubin statistic is larger than 1.4 for some parameters. The sampler did not converge.\n",
      "ERROR:pymc3:The estimated number of effective samples is smaller than 200 for some parameters.\n",
      "100%|██████████| 3/3 [00:00<00:00, 526.94it/s]\n"
     ]
    },
    {
     "data": {
      "image/png": "[encoded data removed]",
      "text/plain": [
       "<Figure size 432x288 with 1 Axes>"
      ]
     },
     "metadata": {
      "needs_background": "light"
     },
     "output_type": "display_data"
    },
    {
     "name": "stderr",
     "output_type": "stream",
     "text": [
      "optimizing logp for variables: [logs_lc, mean]\n",
      "98it [00:02, 46.71it/s, logp=-4.159076e+04]\n",
      "message: Desired error not necessarily achieved due to precision loss.\n",
      "logp: -74541.04678994261 -> -41590.76373539162\n",
      "optimizing logp for variables: [phi]\n",
      "16it [00:00, 37.09it/s, logp=-4.157024e+04]\n",
      "message: Optimization terminated successfully.\n",
      "logp: -41590.76373539162 -> -41570.244754170846\n",
      "optimizing logp for variables: [lognu]\n",
      "97it [00:02, 41.17it/s, logp=-4.156989e+04]\n",
      "message: Desired error not necessarily achieved due to precision loss.\n",
      "logp: -41570.244754170846 -> -41569.887885041535\n",
      "optimizing logp for variables: [lognu, logs_lc, mean, phi, asini, logP]\n",
      "90it [00:02, 35.06it/s, logp=-2.716850e+05]\n",
      "message: Desired error not necessarily achieved due to precision loss.\n",
      "logp: -41569.887885041535 -> -41569.887885041535\n",
      "optimizing logp for variables: [asini]\n",
      "5it [00:00, 41.76it/s, logp=-4.156985e+04]\n",
      "message: Optimization terminated successfully.\n",
      "logp: -41569.887885041535 -> -41569.85015694809\n",
      "optimizing logp for variables: [lognu, logs_lc, mean, phi, asini, logP]\n",
      "149it [00:04, 36.08it/s, logp=-4.156947e+04]\n",
      "message: Desired error not necessarily achieved due to precision loss.\n",
      "logp: -41569.85015694809 -> -41569.47067179869\n",
      "optimizing logp for variables: [logP]\n",
      "79it [00:02, 35.03it/s, logp=-4.156947e+04]\n",
      "message: Desired error not necessarily achieved due to precision loss.\n",
      "logp: -41569.47067179869 -> -41569.47067179869\n"
     ]
    },
    {
     "name": "stdout",
     "output_type": "stream",
     "text": [
      "{'logP_interval__': array([2.5211684]), 'asini': array(1.18188849), 'phi_angle__': array([ 0.22726903, -4.46635785]), 'mean': array(0.00324796), 'logs_lc': array(-0.42598173), 'lognu': array([3.40119737, 3.68887947, 3.91202301]), 'logP': array([6.76920853]), 'period': array([870.62254579]), 'phi': array(3.09075186), 'sigma': array(0.42657655), 'nu': array([29.99999964, 40.00000079, 50.00000002]), 'w': array([ 0.25083399,  0.7801404 , -0.4562506 , -0.75974455,  0.17054801,\n",
      "       -0.89341709])}\n",
      "1000 1.3\n"
     ]
    },
    {
     "name": "stderr",
     "output_type": "stream",
     "text": [
      "Sampling 2 chains: 100%|██████████| 204/204 [10:33<00:00,  8.62s/draws]\n",
      "Sampling 2 chains: 100%|██████████| 204/204 [09:35<00:00, 10.51s/draws]\n",
      "Sampling 2 chains: 100%|██████████| 404/404 [23:11<00:00,  9.99s/draws]\n",
      "Sampling 2 chains: 100%|██████████| 1204/1204 [1:20:44<00:00, 11.29s/draws]\n",
      "Sampling 2 chains: 100%|██████████| 1004/1004 [1:53:31<00:00, 17.87s/draws] \n",
      "Sampling 2 chains: 100%|██████████| 2000/2000 [19:28<00:00,  7.08draws/s] \n",
      "ERROR:pymc3:There were 313 divergences after tuning. Increase `target_accept` or reparameterize.\n",
      "WARNING:pymc3:The acceptance probability does not match the target. It is 0.23540746430393636, but should be close to 0.9. Try to increase the number of tuning steps.\n",
      "WARNING:pymc3:The acceptance probability does not match the target. It is 1.9024986310766515e-157, but should be close to 0.9. Try to increase the number of tuning steps.\n",
      "ERROR:pymc3:The gelman-rubin statistic is larger than 1.4 for some parameters. The sampler did not converge.\n",
      "ERROR:pymc3:The estimated number of effective samples is smaller than 200 for some parameters.\n",
      "100%|██████████| 3/3 [00:00<00:00, 577.62it/s]\n"
     ]
    },
    {
     "data": {
      "image/png": "[encoded data removed]",
      "text/plain": [
       "<Figure size 432x288 with 1 Axes>"
      ]
     },
     "metadata": {
      "needs_background": "light"
     },
     "output_type": "display_data"
    },
    {
     "name": "stderr",
     "output_type": "stream",
     "text": [
      "optimizing logp for variables: [logs_lc, mean]\n",
      "19it [00:00, 38.82it/s, logp=-4.159076e+04]\n",
      "message: Optimization terminated successfully.\n",
      "logp: -74526.96894194031 -> -41590.76227887492\n",
      "optimizing logp for variables: [phi]\n",
      "10it [00:00, 24.53it/s, logp=-4.157025e+04]\n",
      "message: Optimization terminated successfully.\n",
      "logp: -41590.76227887492 -> -41570.247478377285\n",
      "optimizing logp for variables: [lognu]\n",
      "79it [00:02, 38.04it/s, logp=-4.156989e+04]\n",
      "message: Desired error not necessarily achieved due to precision loss.\n",
      "logp: -41570.247478377285 -> -41569.89060382406\n",
      "optimizing logp for variables: [lognu, logs_lc, mean, phi, asini, logP]\n",
      "103it [00:02, 35.28it/s, logp=-2.192736e+05]\n",
      "message: Desired error not necessarily achieved due to precision loss.\n",
      "logp: -41569.89060382406 -> -41569.89060382406\n",
      "optimizing logp for variables: [asini]\n",
      "5it [00:00, 19.24it/s, logp=-4.156985e+04]\n",
      "message: Optimization terminated successfully.\n",
      "logp: -41569.89060382406 -> -41569.84899495979\n",
      "optimizing logp for variables: [lognu, logs_lc, mean, phi, asini, logP]\n",
      "124it [00:03, 37.48it/s, logp=-4.156956e+04]\n",
      "message: Desired error not necessarily achieved due to precision loss.\n",
      "logp: -41569.84899495979 -> -41569.56450854585\n",
      "optimizing logp for variables: [logP]\n",
      "42it [00:01, 34.05it/s, logp=-4.156956e+04]\n",
      "message: Desired error not necessarily achieved due to precision loss.\n",
      "logp: -41569.56450854585 -> -41569.56450854585\n"
     ]
    },
    {
     "name": "stdout",
     "output_type": "stream",
     "text": [
      "{'logP_interval__': array([2.70035429]), 'asini': array(3.03502758), 'phi_angle__': array([4.17623067, 1.59971248]), 'mean': array(0.00324796), 'logs_lc': array(-0.42598214), 'lognu': array([3.40119737, 3.68887947, 3.91202301]), 'logP': array([6.85283522]), 'period': array([946.56081395]), 'phi': array(1.20498534), 'sigma': array(0.4265762), 'nu': array([29.99999963, 40.00000078, 50.00000001]), 'w': array([ 0.25069921,  0.78016624, -0.45630216, -0.75978892,  0.17041598,\n",
      "       -0.8933802 ])}\n",
      "1000 3.15\n"
     ]
    },
    {
     "name": "stderr",
     "output_type": "stream",
     "text": [
      "Sampling 2 chains: 100%|██████████| 204/204 [10:21<00:00,  8.41s/draws]\n",
      "Sampling 2 chains: 100%|██████████| 204/204 [09:31<00:00,  8.45s/draws]\n",
      "Sampling 2 chains: 100%|██████████| 404/404 [23:12<00:00, 15.31s/draws]\n",
      "Sampling 2 chains: 100%|██████████| 1204/1204 [1:36:52<00:00, 11.06s/draws] \n",
      "Sampling 2 chains: 100%|██████████| 1004/1004 [08:24<00:00,  1.22s/draws]\n",
      "Sampling 2 chains: 100%|██████████| 2000/2000 [12:46<00:00,  1.50draws/s]\n",
      "ERROR:pymc3:There were 3 divergences after tuning. Increase `target_accept` or reparameterize.\n",
      "WARNING:pymc3:The acceptance probability does not match the target. It is 0.823027659684003, but should be close to 0.9. Try to increase the number of tuning steps.\n",
      "ERROR:pymc3:There was 1 divergence after tuning. Increase `target_accept` or reparameterize.\n",
      "WARNING:pymc3:The acceptance probability does not match the target. It is 0.8088919502895353, but should be close to 0.9. Try to increase the number of tuning steps.\n",
      "ERROR:pymc3:The estimated number of effective samples is smaller than 200 for some parameters.\n",
      "100%|██████████| 3/3 [00:00<00:00, 556.74it/s]\n"
     ]
    },
    {
     "data": {
      "image/png": "[encoded data removed]",
      "text/plain": [
       "<Figure size 432x288 with 1 Axes>"
      ]
     },
     "metadata": {
      "needs_background": "light"
     },
     "output_type": "display_data"
    },
    {
     "name": "stderr",
     "output_type": "stream",
     "text": [
      "optimizing logp for variables: [logs_lc, mean]\n",
      "19it [00:00, 38.84it/s, logp=-4.159076e+04]\n",
      "message: Optimization terminated successfully.\n",
      "logp: -74529.95234319022 -> -41590.760004069096\n",
      "optimizing logp for variables: [phi]\n",
      "158it [00:04, 36.97it/s, logp=-4.157024e+04]\n",
      "message: Desired error not necessarily achieved due to precision loss.\n",
      "logp: -41590.760004069096 -> -41570.24489645806\n",
      "optimizing logp for variables: [lognu]\n",
      "73it [00:01, 41.56it/s, logp=-4.156989e+04]\n",
      "message: Desired error not necessarily achieved due to precision loss.\n",
      "logp: -41570.24489645806 -> -41569.88918133692\n",
      "optimizing logp for variables: [lognu, logs_lc, mean, phi, asini, logP]\n",
      "170it [00:04, 36.42it/s, logp=-4.156989e+04]\n",
      "message: Desired error not necessarily achieved due to precision loss.\n",
      "logp: -41569.88918133692 -> -41569.88918126891\n",
      "optimizing logp for variables: [asini]\n",
      "5it [00:00, 42.32it/s, logp=-4.156985e+04]\n",
      "message: Optimization terminated successfully.\n",
      "logp: -41569.88918126891 -> -41569.84672447267\n",
      "optimizing logp for variables: [lognu, logs_lc, mean, phi, asini, logP]\n",
      "194it [00:05, 36.25it/s, logp=-4.156960e+04]\n",
      "message: Desired error not necessarily achieved due to precision loss.\n",
      "logp: -41569.84672447267 -> -41569.601667606534\n",
      "optimizing logp for variables: [logP]\n",
      "3it [00:00, 14.50it/s, logp=-4.156960e+04]\n",
      "message: Optimization terminated successfully.\n",
      "logp: -41569.601667606534 -> -41569.601667606534\n"
     ]
    },
    {
     "name": "stdout",
     "output_type": "stream",
     "text": [
      "{'logP_interval__': array([2.76832878]), 'asini': array(6.17754434), 'phi_angle__': array([2.4414353 , 3.74691788]), 'mean': array(0.00324795), 'logs_lc': array(-0.42598229), 'lognu': array([3.40119737, 3.68887947, 3.91202301]), 'logP': array([6.88130293]), 'period': array([973.8944456]), 'phi': array(0.57748861), 'sigma': array(0.42657606), 'nu': array([29.99999962, 40.00000077, 50.00000002]), 'w': array([ 0.25062902,  0.78016349, -0.45609033, -0.75981193,  0.17040637,\n",
      "       -0.89346957])}\n",
      "1000 6.3\n"
     ]
    },
    {
     "name": "stderr",
     "output_type": "stream",
     "text": [
      "Sampling 2 chains: 100%|██████████| 204/204 [10:43<00:00,  8.99s/draws]\n",
      "Sampling 2 chains: 100%|██████████| 204/204 [09:11<00:00,  7.13s/draws]\n",
      "Sampling 2 chains: 100%|██████████| 404/404 [23:20<00:00, 12.99s/draws]\n",
      "Sampling 2 chains: 100%|██████████| 1204/1204 [1:25:41<00:00,  9.58s/draws]\n",
      "Sampling 2 chains: 100%|██████████| 1004/1004 [05:52<00:00,  2.22draws/s]\n",
      "Sampling 2 chains: 100%|██████████| 2000/2000 [08:36<00:00,  2.21draws/s]\n",
      "ERROR:pymc3:There were 2 divergences after tuning. Increase `target_accept` or reparameterize.\n",
      "ERROR:pymc3:There were 5 divergences after tuning. Increase `target_accept` or reparameterize.\n",
      "WARNING:pymc3:The acceptance probability does not match the target. It is 0.8362387082328742, but should be close to 0.9. Try to increase the number of tuning steps.\n"
     ]
    }
   ],
   "source": [
    "freqs = np.array([30, 40, 50])#dsct_freq\n",
    "amps = np.array([0.8, 0.8, 1])#dsct_amp\n",
    "time = t\n",
    "period_t = 1000\n",
    "\n",
    "for asini in asinis:\n",
    "    lc = SyntheticBinary(time, freqs, amps,\n",
    "                         period_t, 0, asini, 0, 0)\n",
    "    np.random.seed(23)\n",
    "    lc.add_noise(snr=358.4)\n",
    "    model = gen_model(lc.time, lc.flux, freqs, period_t, asini)\n",
    "    \n",
    "    with model:\n",
    "        map_params = xo.optimize(start=None, vars=[model.mean,model.logs_lc])\n",
    "        map_params = xo.optimize(start=map_params, vars=[model.phi])\n",
    "        map_params = xo.optimize(start=map_params, vars=[model.lognu])\n",
    "        map_params = xo.optimize(start=map_params)\n",
    "\n",
    "        map_params = xo.optimize(start=map_params, vars=[model.asini])\n",
    "        map_params = xo.optimize(start=map_params)\n",
    "        map_params = xo.optimize(start=map_params, vars=[model.logP])\n",
    "    print(map_params)\n",
    "    print(period_t, asini)\n",
    "    sampler = xo.PyMC3Sampler(start=100, window=100, finish=500, chains=2)\n",
    "    with model:\n",
    "        burnin = sampler.tune(tune=1000, step_kwargs=dict(target_accept=0.9), start=map_params)\n",
    "        trace = sampler.sample(draws=1000)\n",
    "    \n",
    "    pm.save_trace(trace, 'traces/planet_test/1000d_' + str(asini))"
   ]
  },
  {
   "cell_type": "code",
   "execution_count": 66,
   "metadata": {},
   "outputs": [
    {
     "data": {
      "text/html": [
       "<div>\n",
       "<style scoped>\n",
       "    .dataframe tbody tr th:only-of-type {\n",
       "        vertical-align: middle;\n",
       "    }\n",
       "\n",
       "    .dataframe tbody tr th {\n",
       "        vertical-align: top;\n",
       "    }\n",
       "\n",
       "    .dataframe thead th {\n",
       "        text-align: right;\n",
       "    }\n",
       "</style>\n",
       "<table border=\"1\" class=\"dataframe\">\n",
       "  <thead>\n",
       "    <tr style=\"text-align: right;\">\n",
       "      <th></th>\n",
       "      <th>mean</th>\n",
       "      <th>sd</th>\n",
       "      <th>mc_error</th>\n",
       "      <th>hpd_2.5</th>\n",
       "      <th>hpd_97.5</th>\n",
       "      <th>n_eff</th>\n",
       "      <th>Rhat</th>\n",
       "    </tr>\n",
       "  </thead>\n",
       "  <tbody>\n",
       "    <tr>\n",
       "      <th>asini</th>\n",
       "      <td>6.073043</td>\n",
       "      <td>7.390379e-01</td>\n",
       "      <td>2.129896e-02</td>\n",
       "      <td>4.653193</td>\n",
       "      <td>7.481658</td>\n",
       "      <td>1124.397549</td>\n",
       "      <td>0.999625</td>\n",
       "    </tr>\n",
       "    <tr>\n",
       "      <th>mean</th>\n",
       "      <td>0.003185</td>\n",
       "      <td>1.600653e-03</td>\n",
       "      <td>3.854638e-05</td>\n",
       "      <td>0.000237</td>\n",
       "      <td>0.006296</td>\n",
       "      <td>1665.888180</td>\n",
       "      <td>0.999909</td>\n",
       "    </tr>\n",
       "    <tr>\n",
       "      <th>logs_lc</th>\n",
       "      <td>-0.425954</td>\n",
       "      <td>1.311768e-03</td>\n",
       "      <td>3.325541e-05</td>\n",
       "      <td>-0.428361</td>\n",
       "      <td>-0.423199</td>\n",
       "      <td>1473.459910</td>\n",
       "      <td>1.000670</td>\n",
       "    </tr>\n",
       "    <tr>\n",
       "      <th>lognu__0</th>\n",
       "      <td>3.401197</td>\n",
       "      <td>3.392154e-08</td>\n",
       "      <td>8.900933e-10</td>\n",
       "      <td>3.401197</td>\n",
       "      <td>3.401197</td>\n",
       "      <td>1415.997799</td>\n",
       "      <td>0.999502</td>\n",
       "    </tr>\n",
       "    <tr>\n",
       "      <th>lognu__1</th>\n",
       "      <td>3.688879</td>\n",
       "      <td>2.558051e-08</td>\n",
       "      <td>6.231906e-10</td>\n",
       "      <td>3.688879</td>\n",
       "      <td>3.688880</td>\n",
       "      <td>1768.888355</td>\n",
       "      <td>0.999922</td>\n",
       "    </tr>\n",
       "    <tr>\n",
       "      <th>lognu__2</th>\n",
       "      <td>3.912023</td>\n",
       "      <td>1.580393e-08</td>\n",
       "      <td>4.376953e-10</td>\n",
       "      <td>3.912023</td>\n",
       "      <td>3.912023</td>\n",
       "      <td>1235.094730</td>\n",
       "      <td>0.999522</td>\n",
       "    </tr>\n",
       "    <tr>\n",
       "      <th>logP__0</th>\n",
       "      <td>6.891302</td>\n",
       "      <td>3.847691e-02</td>\n",
       "      <td>1.966324e-03</td>\n",
       "      <td>6.820623</td>\n",
       "      <td>6.968703</td>\n",
       "      <td>296.949756</td>\n",
       "      <td>1.003496</td>\n",
       "    </tr>\n",
       "    <tr>\n",
       "      <th>period__0</th>\n",
       "      <td>984.414866</td>\n",
       "      <td>3.830813e+01</td>\n",
       "      <td>1.980916e+00</td>\n",
       "      <td>916.555670</td>\n",
       "      <td>1062.842973</td>\n",
       "      <td>286.264180</td>\n",
       "      <td>1.003772</td>\n",
       "    </tr>\n",
       "    <tr>\n",
       "      <th>phi</th>\n",
       "      <td>0.381184</td>\n",
       "      <td>7.901470e-01</td>\n",
       "      <td>3.991058e-02</td>\n",
       "      <td>-1.247833</td>\n",
       "      <td>1.849276</td>\n",
       "      <td>305.329808</td>\n",
       "      <td>1.002450</td>\n",
       "    </tr>\n",
       "    <tr>\n",
       "      <th>sigma</th>\n",
       "      <td>0.426601</td>\n",
       "      <td>1.119195e-03</td>\n",
       "      <td>2.837694e-05</td>\n",
       "      <td>0.424551</td>\n",
       "      <td>0.428957</td>\n",
       "      <td>1473.350702</td>\n",
       "      <td>1.000666</td>\n",
       "    </tr>\n",
       "    <tr>\n",
       "      <th>nu__0</th>\n",
       "      <td>30.000000</td>\n",
       "      <td>1.017646e-06</td>\n",
       "      <td>2.670280e-08</td>\n",
       "      <td>29.999998</td>\n",
       "      <td>30.000002</td>\n",
       "      <td>1415.997789</td>\n",
       "      <td>0.999502</td>\n",
       "    </tr>\n",
       "    <tr>\n",
       "      <th>nu__1</th>\n",
       "      <td>40.000001</td>\n",
       "      <td>1.023221e-06</td>\n",
       "      <td>2.492762e-08</td>\n",
       "      <td>39.999999</td>\n",
       "      <td>40.000003</td>\n",
       "      <td>1768.888363</td>\n",
       "      <td>0.999922</td>\n",
       "    </tr>\n",
       "    <tr>\n",
       "      <th>nu__2</th>\n",
       "      <td>50.000000</td>\n",
       "      <td>7.901967e-07</td>\n",
       "      <td>2.188476e-08</td>\n",
       "      <td>49.999998</td>\n",
       "      <td>50.000002</td>\n",
       "      <td>1235.094728</td>\n",
       "      <td>0.999522</td>\n",
       "    </tr>\n",
       "    <tr>\n",
       "      <th>w__0</th>\n",
       "      <td>0.251074</td>\n",
       "      <td>1.578828e-02</td>\n",
       "      <td>4.137205e-04</td>\n",
       "      <td>0.220124</td>\n",
       "      <td>0.281644</td>\n",
       "      <td>1421.272791</td>\n",
       "      <td>0.999503</td>\n",
       "    </tr>\n",
       "    <tr>\n",
       "      <th>w__1</th>\n",
       "      <td>0.779893</td>\n",
       "      <td>3.565417e-03</td>\n",
       "      <td>8.670904e-05</td>\n",
       "      <td>0.773149</td>\n",
       "      <td>0.786746</td>\n",
       "      <td>1775.156183</td>\n",
       "      <td>0.999984</td>\n",
       "    </tr>\n",
       "    <tr>\n",
       "      <th>w__2</th>\n",
       "      <td>-0.455592</td>\n",
       "      <td>1.443257e-02</td>\n",
       "      <td>4.009851e-04</td>\n",
       "      <td>-0.484657</td>\n",
       "      <td>-0.428484</td>\n",
       "      <td>1222.094898</td>\n",
       "      <td>0.999529</td>\n",
       "    </tr>\n",
       "    <tr>\n",
       "      <th>w__3</th>\n",
       "      <td>-0.759479</td>\n",
       "      <td>5.233925e-03</td>\n",
       "      <td>1.382517e-04</td>\n",
       "      <td>-0.769181</td>\n",
       "      <td>-0.748856</td>\n",
       "      <td>1401.826070</td>\n",
       "      <td>0.999504</td>\n",
       "    </tr>\n",
       "    <tr>\n",
       "      <th>w__4</th>\n",
       "      <td>0.170798</td>\n",
       "      <td>1.632039e-02</td>\n",
       "      <td>3.991508e-04</td>\n",
       "      <td>0.136756</td>\n",
       "      <td>0.199791</td>\n",
       "      <td>1748.236955</td>\n",
       "      <td>0.999934</td>\n",
       "    </tr>\n",
       "    <tr>\n",
       "      <th>w__5</th>\n",
       "      <td>-0.893569</td>\n",
       "      <td>7.361659e-03</td>\n",
       "      <td>2.045968e-04</td>\n",
       "      <td>-0.907020</td>\n",
       "      <td>-0.878282</td>\n",
       "      <td>1223.215147</td>\n",
       "      <td>0.999523</td>\n",
       "    </tr>\n",
       "  </tbody>\n",
       "</table>\n",
       "</div>"
      ],
      "text/plain": [
       "                 mean            sd      mc_error     hpd_2.5     hpd_97.5  \\\n",
       "asini        6.073043  7.390379e-01  2.129896e-02    4.653193     7.481658   \n",
       "mean         0.003185  1.600653e-03  3.854638e-05    0.000237     0.006296   \n",
       "logs_lc     -0.425954  1.311768e-03  3.325541e-05   -0.428361    -0.423199   \n",
       "lognu__0     3.401197  3.392154e-08  8.900933e-10    3.401197     3.401197   \n",
       "lognu__1     3.688879  2.558051e-08  6.231906e-10    3.688879     3.688880   \n",
       "lognu__2     3.912023  1.580393e-08  4.376953e-10    3.912023     3.912023   \n",
       "logP__0      6.891302  3.847691e-02  1.966324e-03    6.820623     6.968703   \n",
       "period__0  984.414866  3.830813e+01  1.980916e+00  916.555670  1062.842973   \n",
       "phi          0.381184  7.901470e-01  3.991058e-02   -1.247833     1.849276   \n",
       "sigma        0.426601  1.119195e-03  2.837694e-05    0.424551     0.428957   \n",
       "nu__0       30.000000  1.017646e-06  2.670280e-08   29.999998    30.000002   \n",
       "nu__1       40.000001  1.023221e-06  2.492762e-08   39.999999    40.000003   \n",
       "nu__2       50.000000  7.901967e-07  2.188476e-08   49.999998    50.000002   \n",
       "w__0         0.251074  1.578828e-02  4.137205e-04    0.220124     0.281644   \n",
       "w__1         0.779893  3.565417e-03  8.670904e-05    0.773149     0.786746   \n",
       "w__2        -0.455592  1.443257e-02  4.009851e-04   -0.484657    -0.428484   \n",
       "w__3        -0.759479  5.233925e-03  1.382517e-04   -0.769181    -0.748856   \n",
       "w__4         0.170798  1.632039e-02  3.991508e-04    0.136756     0.199791   \n",
       "w__5        -0.893569  7.361659e-03  2.045968e-04   -0.907020    -0.878282   \n",
       "\n",
       "                 n_eff      Rhat  \n",
       "asini      1124.397549  0.999625  \n",
       "mean       1665.888180  0.999909  \n",
       "logs_lc    1473.459910  1.000670  \n",
       "lognu__0   1415.997799  0.999502  \n",
       "lognu__1   1768.888355  0.999922  \n",
       "lognu__2   1235.094730  0.999522  \n",
       "logP__0     296.949756  1.003496  \n",
       "period__0   286.264180  1.003772  \n",
       "phi         305.329808  1.002450  \n",
       "sigma      1473.350702  1.000666  \n",
       "nu__0      1415.997789  0.999502  \n",
       "nu__1      1768.888363  0.999922  \n",
       "nu__2      1235.094728  0.999522  \n",
       "w__0       1421.272791  0.999503  \n",
       "w__1       1775.156183  0.999984  \n",
       "w__2       1222.094898  0.999529  \n",
       "w__3       1401.826070  0.999504  \n",
       "w__4       1748.236955  0.999934  \n",
       "w__5       1223.215147  0.999523  "
      ]
     },
     "execution_count": 66,
     "metadata": {},
     "output_type": "execute_result"
    }
   ],
   "source": [
    "pm.summary(trace)"
   ]
  },
  {
   "cell_type": "code",
   "execution_count": 34,
   "metadata": {},
   "outputs": [
    {
     "name": "stderr",
     "output_type": "stream",
     "text": [
      "100%|██████████| 3/3 [00:00<00:00, 253.66it/s]\n"
     ]
    },
    {
     "data": {
      "image/png": "[encoded data removed]",
      "text/plain": [
       "<Figure size 432x288 with 1 Axes>"
      ]
     },
     "metadata": {
      "needs_background": "light"
     },
     "output_type": "display_data"
    }
   ],
   "source": [
    "period_t = 1000#periods[3]\n",
    "asinis = [0.712,3.56,7.12]\n",
    "freqs = np.array([30, 40, 50])#dsct_freq\n",
    "amps = np.array([0.8, 0.8, 1])#dsct_amp\n",
    "time = t\n",
    "\n",
    "lc = SyntheticBinary(time, freqs, amps,\n",
    "                         period_t, 0, 0.712, 0, 0)\n",
    "np.random.seed(23)\n",
    "lc.add_noise(snr=500)\n",
    "model = gen_model(lc.time, lc.flux, freqs, period_t, 0.712)\n",
    "    \n",
    "with model:\n",
    "    trace = pm.load_trace('traces/planet_test/1000d_7.12')"
   ]
  },
  {
   "cell_type": "code",
   "execution_count": 35,
   "metadata": {},
   "outputs": [
    {
     "name": "stdout",
     "output_type": "stream",
     "text": [
      "9.876952933618032 0.7746576694752783 0.7273053369797324\n"
     ]
    }
   ],
   "source": [
    "df = pm.trace_to_dataframe(trace, varnames=['period', 'asini'])\n",
    "masses = (mass_function(df['period__0'].values*u.day, df['asini'].values*u.s).to(u.M_jup))**(1/3) * ((1.5*u.M_sun).to(u.M_jup))**(2/3)\n",
    "upper, med, lower = np.percentile(masses, [84.13, 50, 15.86])\n",
    "print(med, upper-med, med-lower)"
   ]
  },
  {
   "cell_type": "code",
   "execution_count": null,
   "metadata": {},
   "outputs": [],
   "source": []
  },
  {
   "cell_type": "code",
   "execution_count": 11,
   "metadata": {},
   "outputs": [],
   "source": [
    "from astropy import constants as const\n",
    "import astropy.units as u\n",
    "\n",
    "def mass_function(period, asini):\n",
    "    consts = (4*np.pi**2 * (1*const.c**3)) / (1*const.G)\n",
    "    si = (asini**3) * consts / (period.to(u.s)**2)\n",
    "    return si.to(u.M_sun)"
   ]
  },
  {
   "cell_type": "code",
   "execution_count": 44,
   "metadata": {},
   "outputs": [
    {
     "data": {
      "text/latex": [
       "$1.0008053 \\; \\mathrm{M_{\\rm J}}$"
      ],
      "text/plain": [
       "<Quantity 1.00080531 jupiterMass>"
      ]
     },
     "execution_count": 44,
     "metadata": {},
     "output_type": "execute_result"
    }
   ],
   "source": [
    "\n",
    "\n",
    "\n",
    "stellar_mass = 1.8\n",
    "(mass_function(1000*u.day, 0.712*u.s).to(u.M_jup))**(1/3) * ((1.5*u.M_sun).to(u.M_jup))**(2/3)"
   ]
  }
 ],
 "metadata": {
  "kernelspec": {
   "display_name": "Python 3",
   "language": "python",
   "name": "python3"
  },
  "language_info": {
   "codemirror_mode": {
    "name": "ipython",
    "version": 3
   },
   "file_extension": ".py",
   "mimetype": "text/x-python",
   "name": "python",
   "nbconvert_exporter": "python",
   "pygments_lexer": "ipython3",
   "version": "3.7.3"
  }
 },
 "nbformat": 4,
 "nbformat_minor": 4
}

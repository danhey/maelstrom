{
 "cells": [
  {
   "cell_type": "code",
   "execution_count": 37,
   "metadata": {},
   "outputs": [],
   "source": [
    "%run paper/setup.py"
   ]
  },
  {
   "cell_type": "code",
   "execution_count": 38,
   "metadata": {},
   "outputs": [],
   "source": [
    "t, y = np.loadtxt('paper/data/dsct_eigenfrequencies.txt', usecols=(0,1)).T\n",
    "y *= 1e3"
   ]
  },
  {
   "cell_type": "code",
   "execution_count": 39,
   "metadata": {},
   "outputs": [],
   "source": [
    "from maelstrom.utils import amplitude_spectrum"
   ]
  },
  {
   "cell_type": "code",
   "execution_count": 40,
   "metadata": {},
   "outputs": [
    {
     "name": "stderr",
     "output_type": "stream",
     "text": [
      "WARNING: AstropyDeprecationWarning: Importing LombScargle from astropy.stats has been deprecated and will no longer be supported in future. Please import this class from the astropy.timeseries module instead [astropy.stats.lombscargle]\n"
     ]
    },
    {
     "data": {
      "text/plain": [
       "[<matplotlib.lines.Line2D at 0x1c2d30c6a0>]"
      ]
     },
     "execution_count": 40,
     "metadata": {},
     "output_type": "execute_result"
    },
    {
     "data": {
      "image/png": "[encoded data removed]",
      "text/plain": [
       "<Figure size 900x600 with 1 Axes>"
      ]
     },
     "metadata": {
      "needs_background": "light"
     },
     "output_type": "display_data"
    }
   ],
   "source": [
    "plt.plot(*amplitude_spectrum(t,y, fmax=48), linewidth=0.5)"
   ]
  },
  {
   "cell_type": "code",
   "execution_count": null,
   "metadata": {},
   "outputs": [],
   "source": []
  },
  {
   "cell_type": "code",
   "execution_count": 41,
   "metadata": {},
   "outputs": [],
   "source": [
    "from exoplanet.utils import eval_in_model\n",
    "from exoplanet.orbits import get_true_anomaly\n",
    "import pymc3 as pm\n",
    "import theano.tensor as tt\n",
    "from exoplanet.orbits import get_true_anomaly\n",
    "import exoplanet as xo\n",
    "import astropy.units as u\n",
    "import theano.tensor as tt\n",
    "import theano\n",
    "from tqdm import tqdm\n",
    "\n",
    "class SyntheticBinary(object):\n",
    "    \"\"\"\n",
    "    This class makes a synthetic light curve and injects a time delay signal corresponding to the input binary orbit parameters    \n",
    "    \"\"\"\n",
    "    def __init__(self, time, freq, amplitude, \n",
    "                 period, eccen, asini, varpi, phi):\n",
    "        self.time = time\n",
    "        self.freq = freq\n",
    "        self.amplitude = amplitude\n",
    "        self.period, self.eccen, self.asini, self.varpi, self.phi = period, eccen, asini, varpi, phi\n",
    "        \n",
    "        self.make_lightcurve()\n",
    "        self.flux = self.flux_true\n",
    "        \n",
    "    def make_lightcurve(self):\n",
    "        self.flux_true = np.zeros(len(self.time))\n",
    "        \n",
    "        with pm.Model() as model:\n",
    "            #M = tt.zeros_like(tt.constant(self.time) - self.tref) + 2.0 * np.pi * (tt.constant(self.time)) / self.period\n",
    "            M = 2.0 * np.pi * tt.constant(self.time) / self.period - self.phi\n",
    "            f = get_true_anomaly(M, self.eccen + tt.zeros_like(M))\n",
    "            tau_tens = ((1 - tt.square(self.eccen)) * tt.sin(f+self.varpi) / (1 + self.eccen*tt.cos(f))) * (self.asini / 86400.)\n",
    "            self.tau = eval_in_model(tau_tens)\n",
    "            \n",
    "        for j, A_j in tqdm(zip(self.freq, self.amplitude), total=len(self.freq)):\n",
    "            omega = 2 * np.pi * j\n",
    "            self.flux_true += A_j * np.sin(omega * (self.time - self.tau - np.random.rand()*2*np.pi))# + A_j * np.sin(omega * (self.time - self.tau))\n",
    "            \n",
    "    def add_noise(self, snr=5):\n",
    "        # Add noise\n",
    "        s_rms = self.amplitude.max() / (np.sqrt(np.pi / len(self.time)) * snr)\n",
    "        #print(s_rms, self.amplitude)\n",
    "        #print(np.random.normal(loc=0.0, scale=s_rms, size=len(self.time)))\n",
    "        self.flux = self.flux_true + np.random.normal(loc=0.0, scale=s_rms, size=len(self.time))\n",
    "        #self.flux_err = noise * np.std(self.flux_true)\n",
    "        #self.flux = self.flux_true + self.flux_err * np.random.randn(len(self.flux_true))"
   ]
  },
  {
   "cell_type": "code",
   "execution_count": 42,
   "metadata": {},
   "outputs": [],
   "source": [
    "from maelstrom.utils import mass_function\n",
    "import astropy.units as u"
   ]
  },
  {
   "cell_type": "code",
   "execution_count": 36,
   "metadata": {},
   "outputs": [],
   "source": [
    "masses = [1, 5, 10]\n",
    "periods = [10, 100, 1000]\n",
    "\n",
    "from exoplanet.orbits import get_true_anomaly\n",
    "import exoplanet as xo\n",
    "import astropy.units as u\n",
    "import theano.tensor as tt\n",
    "import theano\n",
    "\n",
    "def gen_model(time, flux, freq, period_guess, a_guess, with_gp=False, with_eccen=False):\n",
    "    new_model = pm.Model()\n",
    "    with new_model:\n",
    "        # Period\n",
    "#         logP = pm.Normal(\"logP\", mu=np.log(period_guess), sd=50, shape=1, testval=np.log(period_guess))\n",
    "        logP = pm.Bound(pm.Normal,\n",
    "                                 lower=np.log(1),\n",
    "                                 upper=np.log(1500))(\"logP\", mu=np.log(period_guess), sd=5, shape=1, testval=np.log(period_guess))\n",
    "        period = pm.Deterministic(\"period\", pm.math.exp(logP))\n",
    "        asini = pm.Normal('asini', mu=a_guess, sd=3, testval=a_guess)\n",
    "        phi = xo.distributions.Angle('phi', testval=0)\n",
    "        mean = pm.Normal(\"mean\", mu=np.mean(flux), sd=10.0, testval=np.mean(flux))\n",
    "        logs_lc = pm.Normal('logs_lc', mu=np.log(np.median(np.abs(np.diff(flux)))), sd=1, testval=np.log(np.median(np.abs(np.diff(flux)))))\n",
    "        sigma = pm.Deterministic('sigma', tt.exp(2*logs_lc))\n",
    "        #     logs_lc = pm.HalfNormal(\"logs_lc\",  sigma=0.25, testval=0.05)\n",
    "        M = 2.0 * np.pi * (time) / period - phi\n",
    "\n",
    "        if with_eccen:\n",
    "            varpi = xo.distributions.Angle('varpi', testval=0)\n",
    "            eccen = pm.Uniform(\"ecc\", lower=0.0, upper=1.0, testval=0.001)\n",
    "            f = get_true_anomaly(M, eccen + tt.zeros_like(M))\n",
    "            psi = (1 - tt.square(eccen)) * tt.sin(f+varpi) / (1 + eccen*tt.cos(f))\n",
    "        else:\n",
    "            psi = tt.sin(M)\n",
    "\n",
    "        lognu = pm.Normal(\"lognu\", mu=np.log(freq), sd=0.1, shape=len(freq))\n",
    "        nu = pm.Deterministic(\"nu\", tt.exp(lognu))\n",
    "        tau = ((asini) / 86400) * psi[:, None]\n",
    "        arg = 2. * np.pi * nu * (time[:, None] - tau)\n",
    "        D = tt.concatenate((tt.cos(arg), tt.sin(arg)), axis=-1)\n",
    "        w = tt.slinalg.solve(tt.dot(D.T, D), tt.dot(D.T, flux))\n",
    "        pm.Deterministic('w', w)\n",
    "        lc_model = tt.dot(D, w)\n",
    "        full_lc = lc_model - mean\n",
    "\n",
    "        if with_gp:\n",
    "            logw0 = pm.Bound(pm.Normal,\n",
    "                             lower=np.log(2*np.pi/100.0),\n",
    "                             upper=np.log(2*np.pi/2))(\"logw0\", mu=np.log(2*np.pi/10), sd=10,\n",
    "                                                        testval=np.log(2*np.pi/10))\n",
    "            logpower = pm.Normal(\"logpower\", mu=np.log(np.var(flux)), sd=10)\n",
    "            logS0 = pm.Deterministic(\"logS0\", logpower - 4 * logw0)\n",
    "            kernel = xo.gp.terms.SHOTerm(log_S0=logS0, log_w0=logw0, Q=1/np.sqrt(2))\n",
    "            gp = xo.gp.GP(kernel, time, tt.exp(2*logs_lc) + tt.zeros(len(time)), J=2)\n",
    "\n",
    "            pm.Potential(\"obs\", gp.log_likelihood(flux - full_lc))\n",
    "        else:\n",
    "            pm.Normal('obs', mu=full_lc, \n",
    "                      sd=sigma, \n",
    "                      observed=flux)\n",
    "            \n",
    "        plt.plot(lc.time, xo.eval_in_model(psi * asini))\n",
    "        plt.plot(lc.time, lc.tau*86400)\n",
    "        plt.show()\n",
    "    return new_model"
   ]
  },
  {
   "cell_type": "code",
   "execution_count": null,
   "metadata": {},
   "outputs": [],
   "source": []
  },
  {
   "cell_type": "code",
   "execution_count": 123,
   "metadata": {},
   "outputs": [
    {
     "name": "stderr",
     "output_type": "stream",
     "text": [
      "100%|██████████| 3/3 [00:00<00:00, 645.97it/s]\n"
     ]
    },
    {
     "data": {
      "image/png": "[encoded data removed]",
      "text/plain": [
       "<Figure size 432x288 with 1 Axes>"
      ]
     },
     "metadata": {
      "needs_background": "light"
     },
     "output_type": "display_data"
    },
    {
     "name": "stderr",
     "output_type": "stream",
     "text": [
      "optimizing logp for variables: [logs_lc, mean]\n",
      "155it [00:02, 52.22it/s, logp=-1.717168e+04]\n",
      "message: Desired error not necessarily achieved due to precision loss.\n",
      "logp: -70014.29413690792 -> -17171.6843444573\n",
      "optimizing logp for variables: [phi]\n",
      "15it [00:00, 28.44it/s, logp=-1.715077e+04]\n",
      "message: Optimization terminated successfully.\n",
      "logp: -17171.6843444573 -> -17150.772132277627\n",
      "optimizing logp for variables: [lognu]\n",
      "78it [00:02, 37.91it/s, logp=-1.714981e+04]\n",
      "message: Desired error not necessarily achieved due to precision loss.\n",
      "logp: -17150.772132277627 -> -17149.81045107338\n",
      "optimizing logp for variables: [lognu, logs_lc, mean, phi, asini, logP]\n",
      "99it [00:02, 37.56it/s, logp=-1.714981e+04]\n",
      "message: Desired error not necessarily achieved due to precision loss.\n",
      "logp: -17149.81045107338 -> -17149.81045103486\n",
      "optimizing logp for variables: [asini]\n",
      "6it [00:00, 21.23it/s, logp=-1.714922e+04]\n",
      "message: Optimization terminated successfully.\n",
      "logp: -17149.81045103486 -> -17149.218574774968\n",
      "optimizing logp for variables: [lognu, logs_lc, mean, phi, asini, logP]\n",
      "235it [00:06, 33.78it/s, logp=-1.714905e+04]\n",
      "message: Desired error not necessarily achieved due to precision loss.\n",
      "logp: -17149.218574774968 -> -17149.050540991077\n",
      "optimizing logp for variables: [logP]\n",
      "70it [00:01, 35.56it/s, logp=-1.714905e+04]\n",
      "message: Desired error not necessarily achieved due to precision loss.\n",
      "logp: -17149.050540991077 -> -17149.050540991077\n"
     ]
    },
    {
     "name": "stdout",
     "output_type": "stream",
     "text": [
      "{'logP': array([7.005084]), 'asini': array(1.25661533), 'phi_angle__': array([-2.95062089, -3.36063179]), 'mean': array(0.002328), 'logs_lc': array(-0.59247177), 'lognu': array([3.40119736, 3.68887947, 3.912023  ]), 'period': array([1102.22263405]), 'phi': array(-2.42106838), 'sigma': array(0.30576344), 'nu': array([29.99999927, 40.00000068, 49.99999992]), 'w': array([-0.04560949,  0.72262293,  0.38663501, -0.79819827,  0.34237649,\n",
      "        0.91963954])}\n",
      "1000 0.712\n"
     ]
    },
    {
     "name": "stderr",
     "output_type": "stream",
     "text": [
      "Sampling 2 chains: 100%|██████████| 204/204 [10:49<00:00,  8.02s/draws]\n",
      "Sampling 2 chains: 100%|██████████| 204/204 [09:24<00:00,  7.19s/draws]\n",
      "Sampling 2 chains: 100%|██████████| 404/404 [23:03<00:00,  9.27s/draws]\n",
      "Sampling 2 chains: 100%|██████████| 1204/1204 [2:13:18<00:00, 16.72s/draws] \n",
      "Sampling 2 chains: 100%|██████████| 1004/1004 [19:31<00:00,  1.95draws/s]\n",
      "Sampling 2 chains: 100%|██████████| 2000/2000 [09:13<00:00,  2.29draws/s]\n",
      "There were 131 divergences after tuning. Increase `target_accept` or reparameterize.\n",
      "There were 115 divergences after tuning. Increase `target_accept` or reparameterize.\n",
      "The estimated number of effective samples is smaller than 200 for some parameters.\n",
      "100%|██████████| 3/3 [00:00<00:00, 479.79it/s]\n"
     ]
    },
    {
     "data": {
      "image/png": "[encoded data removed]",
      "text/plain": [
       "<Figure size 432x288 with 1 Axes>"
      ]
     },
     "metadata": {
      "needs_background": "light"
     },
     "output_type": "display_data"
    },
    {
     "name": "stderr",
     "output_type": "stream",
     "text": [
      "optimizing logp for variables: [logs_lc, mean]\n",
      "20it [00:00, 41.72it/s, logp=-1.717167e+04]\n",
      "message: Optimization terminated successfully.\n",
      "logp: -66996.01376907315 -> -17171.66902772825\n",
      "optimizing logp for variables: [phi]\n",
      "14it [00:00, 27.88it/s, logp=-1.715116e+04]\n",
      "message: Optimization terminated successfully.\n",
      "logp: -17171.66902772825 -> -17151.155372086225\n",
      "optimizing logp for variables: [lognu]\n",
      "96it [00:02, 39.02it/s, logp=-1.715080e+04]\n",
      "message: Desired error not necessarily achieved due to precision loss.\n",
      "logp: -17151.155372086225 -> -17150.798790296736\n",
      "optimizing logp for variables: [lognu, logs_lc, mean, phi, asini, logP]\n",
      "90it [00:02, 34.94it/s, logp=-4.642961e+05]\n",
      "message: Desired error not necessarily achieved due to precision loss.\n",
      "logp: -17150.798790296736 -> -17150.798790296736\n",
      "optimizing logp for variables: [asini]\n",
      "5it [00:00, 19.65it/s, logp=-1.715076e+04]\n",
      "message: Optimization terminated successfully.\n",
      "logp: -17150.798790296736 -> -17150.755051131266\n",
      "optimizing logp for variables: [lognu, logs_lc, mean, phi, asini, logP]\n",
      "90it [00:02, 35.50it/s, logp=-1.715076e+04]\n",
      "message: Desired error not necessarily achieved due to precision loss.\n",
      "logp: -17150.755051131266 -> -17150.755049609405\n",
      "optimizing logp for variables: [logP]\n",
      "180it [00:04, 37.95it/s, logp=-1.715075e+04]\n",
      "message: Desired error not necessarily achieved due to precision loss.\n",
      "logp: -17150.755049609405 -> -17150.748794639534\n"
     ]
    },
    {
     "name": "stdout",
     "output_type": "stream",
     "text": [
      "{'logP': array([6.90697874]), 'asini': array(3.41180422), 'phi_angle__': array([0.20817954, 4.46728847]), 'mean': array(0.00232801), 'logs_lc': array(-0.59245688), 'lognu': array([3.40119737, 3.68887947, 3.91202301]), 'period': array([999.2237662]), 'phi': array(0.04656718), 'sigma': array(0.30577255), 'nu': array([29.99999974, 40.00000056, 50.00000002]), 'w': array([ 0.25184196,  0.78150974, -0.45616933, -0.75938806,  0.16609642,\n",
      "       -0.8924376 ])}\n",
      "1000 3.56\n"
     ]
    },
    {
     "name": "stderr",
     "output_type": "stream",
     "text": [
      "Sampling 2 chains: 100%|██████████| 204/204 [10:41<00:00,  7.25s/draws]\n",
      "Sampling 2 chains: 100%|██████████| 204/204 [09:47<00:00, 10.21s/draws]\n",
      "Sampling 2 chains: 100%|██████████| 404/404 [23:06<00:00, 10.25s/draws]\n",
      "Sampling 2 chains: 100%|██████████| 1204/1204 [1:43:02<00:00, 17.19s/draws] \n",
      "Sampling 2 chains: 100%|██████████| 1004/1004 [05:38<00:00,  1.24draws/s]\n",
      "Sampling 2 chains: 100%|██████████| 2000/2000 [11:22<00:00,  1.93draws/s]\n",
      "100%|██████████| 3/3 [00:00<00:00, 508.50it/s]\n"
     ]
    },
    {
     "data": {
      "image/png": "[encoded data removed]",
      "text/plain": [
       "<Figure size 432x288 with 1 Axes>"
      ]
     },
     "metadata": {
      "needs_background": "light"
     },
     "output_type": "display_data"
    },
    {
     "name": "stderr",
     "output_type": "stream",
     "text": [
      "optimizing logp for variables: [logs_lc, mean]\n",
      "20it [00:00, 40.91it/s, logp=-1.717167e+04]\n",
      "message: Optimization terminated successfully.\n",
      "logp: -67031.48620661865 -> -17171.66662744904\n",
      "optimizing logp for variables: [phi]\n",
      "84it [00:02, 38.45it/s, logp=-1.715115e+04]\n",
      "message: Desired error not necessarily achieved due to precision loss.\n",
      "logp: -17171.66662744904 -> -17151.151731246893\n",
      "optimizing logp for variables: [lognu]\n",
      "78it [00:02, 38.94it/s, logp=-1.715080e+04]\n",
      "message: Desired error not necessarily achieved due to precision loss.\n",
      "logp: -17151.151731246893 -> -17150.79659195646\n",
      "optimizing logp for variables: [lognu, logs_lc, mean, phi, asini, logP]\n",
      "98it [00:02, 35.72it/s, logp=-1.715080e+04]\n",
      "message: Desired error not necessarily achieved due to precision loss.\n",
      "logp: -17150.79659195646 -> -17150.796591918504\n",
      "optimizing logp for variables: [asini]\n",
      "5it [00:00, 20.11it/s, logp=-1.715075e+04]\n",
      "message: Optimization terminated successfully.\n",
      "logp: -17150.796591918504 -> -17150.752571724697\n",
      "optimizing logp for variables: [lognu, logs_lc, mean, phi, asini, logP]\n",
      "228it [00:06, 37.26it/s, logp=-1.715056e+04]\n",
      "message: Desired error not necessarily achieved due to precision loss.\n",
      "logp: -17150.752571724697 -> -17150.55893020751\n",
      "optimizing logp for variables: [logP]\n",
      "3it [00:00, 15.93it/s, logp=-1.715056e+04]\n",
      "message: Optimization terminated successfully.\n",
      "logp: -17150.55893020751 -> -17150.55893020751\n"
     ]
    },
    {
     "name": "stdout",
     "output_type": "stream",
     "text": [
      "{'logP': array([6.89258161]), 'asini': array(7.02295935), 'phi_angle__': array([1.4584349 , 4.22764327]), 'mean': array(0.00232812), 'logs_lc': array(-0.59246133), 'lognu': array([3.40119737, 3.68887947, 3.91202301]), 'period': array([984.94087373]), 'phi': array(0.33219198), 'sigma': array(0.30576982), 'nu': array([29.99999973, 40.00000055, 50.00000002]), 'w': array([ 0.25170646,  0.78153429, -0.45619484, -0.75943162,  0.16596657,\n",
      "       -0.8924102 ])}\n",
      "1000 7.12\n"
     ]
    },
    {
     "name": "stderr",
     "output_type": "stream",
     "text": [
      "Sampling 2 chains: 100%|██████████| 204/204 [10:51<00:00,  7.86s/draws]\n",
      "Sampling 2 chains: 100%|██████████| 204/204 [09:16<00:00,  8.90s/draws]\n",
      "Sampling 2 chains: 100%|██████████| 404/404 [23:17<00:00, 12.86s/draws]\n",
      "Sampling 2 chains: 100%|██████████| 1204/1204 [1:34:29<00:00, 15.83s/draws]\n",
      "Sampling 2 chains: 100%|██████████| 1004/1004 [03:52<00:00,  2.69draws/s]\n",
      "Sampling 2 chains: 100%|██████████| 2000/2000 [06:55<00:00,  3.22draws/s]\n",
      "There was 1 divergence after tuning. Increase `target_accept` or reparameterize.\n",
      "There were 4 divergences after tuning. Increase `target_accept` or reparameterize.\n"
     ]
    }
   ],
   "source": [
    "period_t = 100#periods[3]\n",
    "asinis = [0.712,3.56,7.12]\n",
    "freqs = np.array([30, 40, 50])#dsct_freq\n",
    "amps = np.array([0.8, 0.8, 1])#dsct_amp\n",
    "time = t\n",
    "\n",
    "for asini in asinis:\n",
    "    lc = SyntheticBinary(time, freqs, amps,\n",
    "                         period_t, 0, asini, 0, 0)\n",
    "    np.random.seed(23)\n",
    "    lc.add_noise(snr=500)\n",
    "    model = gen_model(lc.time, lc.flux, freqs, period_t, asini)\n",
    "    \n",
    "    with model:\n",
    "        map_params = xo.optimize(start=None, vars=[model.mean,model.logs_lc])\n",
    "        map_params = xo.optimize(start=map_params, vars=[model.phi])\n",
    "        map_params = xo.optimize(start=map_params, vars=[model.lognu])\n",
    "        map_params = xo.optimize(start=map_params)\n",
    "\n",
    "        map_params = xo.optimize(start=map_params, vars=[model.asini])\n",
    "        map_params = xo.optimize(start=map_params)\n",
    "        map_params = xo.optimize(start=map_params, vars=[model.logP])\n",
    "    print(map_params)\n",
    "    print(period_t, asini)\n",
    "    sampler = xo.PyMC3Sampler(start=100, window=100, finish=500, chains=2)\n",
    "    with model:\n",
    "        burnin = sampler.tune(tune=1000, step_kwargs=dict(target_accept=0.9), start=map_params)\n",
    "        trace = sampler.sample(draws=1000)\n",
    "    \n",
    "    pm.save_trace(trace, 'traces/planet_test/1000d_' + str(asini))"
   ]
  },
  {
   "cell_type": "code",
   "execution_count": 34,
   "metadata": {},
   "outputs": [
    {
     "name": "stderr",
     "output_type": "stream",
     "text": [
      "100%|██████████| 3/3 [00:00<00:00, 253.66it/s]\n"
     ]
    },
    {
     "data": {
      "image/png": "[encoded data removed]",
      "text/plain": [
       "<Figure size 432x288 with 1 Axes>"
      ]
     },
     "metadata": {
      "needs_background": "light"
     },
     "output_type": "display_data"
    }
   ],
   "source": [
    "period_t = 1000#periods[3]\n",
    "asinis = [0.712,3.56,7.12]\n",
    "freqs = np.array([30, 40, 50])#dsct_freq\n",
    "amps = np.array([0.8, 0.8, 1])#dsct_amp\n",
    "time = t\n",
    "\n",
    "lc = SyntheticBinary(time, freqs, amps,\n",
    "                         period_t, 0, 0.712, 0, 0)\n",
    "np.random.seed(23)\n",
    "lc.add_noise(snr=500)\n",
    "model = gen_model(lc.time, lc.flux, freqs, period_t, 0.712)\n",
    "    \n",
    "with model:\n",
    "    trace = pm.load_trace('traces/planet_test/1000d_7.12')"
   ]
  },
  {
   "cell_type": "code",
   "execution_count": 35,
   "metadata": {},
   "outputs": [
    {
     "name": "stdout",
     "output_type": "stream",
     "text": [
      "9.876952933618032 0.7746576694752783 0.7273053369797324\n"
     ]
    }
   ],
   "source": [
    "df = pm.trace_to_dataframe(trace, varnames=['period', 'asini'])\n",
    "masses = (mass_function(df['period__0'].values*u.day, df['asini'].values*u.s).to(u.M_jup))**(1/3) * ((1.5*u.M_sun).to(u.M_jup))**(2/3)\n",
    "upper, med, lower = np.percentile(masses, [84.13, 50, 15.86])\n",
    "print(med, upper-med, med-lower)"
   ]
  },
  {
   "cell_type": "code",
   "execution_count": null,
   "metadata": {},
   "outputs": [],
   "source": []
  },
  {
   "cell_type": "code",
   "execution_count": 19,
   "metadata": {},
   "outputs": [],
   "source": [
    "from astropy import constants as const\n",
    "import astropy.units as u\n",
    "\n",
    "def rev_mass_function(period, mass):\n",
    "    asini =( (4*np.pi**2 * (1*const.c**3)) / (1*const.G) * 1 / (period.to(u.s)**2) * mass.to(u.M_sun))**(-1/3)\n",
    "    return asini"
   ]
  },
  {
   "cell_type": "code",
   "execution_count": 6,
   "metadata": {},
   "outputs": [],
   "source": [
    "from astropy import constants as const\n",
    "import astropy.units as u\n",
    "\n",
    "def mass_function(period, asini):\n",
    "    consts = (4*np.pi**2 * (1*const.c**3)) / (1*const.G)\n",
    "    si = (asini**3) * consts / (period.to(u.s)**2)\n",
    "    return si.to(u.M_sun)"
   ]
  },
  {
   "cell_type": "code",
   "execution_count": 44,
   "metadata": {},
   "outputs": [
    {
     "data": {
      "text/latex": [
       "$1.0008053 \\; \\mathrm{M_{\\rm J}}$"
      ],
      "text/plain": [
       "<Quantity 1.00080531 jupiterMass>"
      ]
     },
     "execution_count": 44,
     "metadata": {},
     "output_type": "execute_result"
    }
   ],
   "source": [
    "\n",
    "\n",
    "\n",
    "stellar_mass = 1.8\n",
    "(mass_function(1000*u.day, 0.712*u.s).to(u.M_jup))**(1/3) * ((1.5*u.M_sun).to(u.M_jup))**(2/3)"
   ]
  },
  {
   "cell_type": "code",
   "execution_count": 102,
   "metadata": {},
   "outputs": [
    {
     "name": "stderr",
     "output_type": "stream",
     "text": [
      "100%|██████████| 3/3 [00:00<00:00, 788.16it/s]\n"
     ]
    }
   ],
   "source": [
    "# from maelstrom.utils import amplitude_spectrum\n",
    "from tqdm import tqdm\n",
    "# Fixed parameters\n",
    "\n",
    "period_t = 1000.\n",
    "asini_t = 7.12\n",
    "\n",
    "eccen_t = 0.\n",
    "varpi_t = 0.\n",
    "phi_t = 0.\n",
    "\n",
    "#n_freq = 1\n",
    "freqs = np.array([30, 40, 50])#dsct_freq\n",
    "amps = np.array([0.8, 0.8, 1])#dsct_amp\n",
    "\n",
    "# TESS 2 min cadence for 1 sector\n",
    "# time = np.arange(0, 27, 1.0 / (24 * 30))\n",
    "time = t\n",
    "\n",
    "lc = SyntheticBinary(time, freqs, amps,\n",
    "                     period_t, eccen_t, asini_t, varpi_t, phi_t)\n",
    "np.random.seed(23)\n",
    "lc.add_noise(snr=500)"
   ]
  },
  {
   "cell_type": "code",
   "execution_count": 103,
   "metadata": {},
   "outputs": [
    {
     "data": {
      "image/png": "[encoded data removed]",
      "text/plain": [
       "<Figure size 432x288 with 1 Axes>"
      ]
     },
     "metadata": {
      "needs_background": "light"
     },
     "output_type": "display_data"
    }
   ],
   "source": []
  },
  {
   "cell_type": "code",
   "execution_count": 76,
   "metadata": {},
   "outputs": [],
   "source": [
    "def get_phase(nu, t, y):\n",
    "    arg = 2*np.pi*nu[None, :]*t[:, None]\n",
    "    D = np.concatenate((np.sin(arg), np.cos(arg),\n",
    "                        np.ones((len(t), 1))), axis=1)\n",
    "    DT = D.T\n",
    "    DTD = np.dot(DT, D)\n",
    "    w = np.linalg.solve(DTD, np.dot(D.T, y))\n",
    "    return np.arctan2(w[:len(nu)], w[len(nu):2*len(nu)]) / (2*np.pi*nu)"
   ]
  },
  {
   "cell_type": "code",
   "execution_count": 77,
   "metadata": {},
   "outputs": [
    {
     "name": "stderr",
     "output_type": "stream",
     "text": [
      "100%|██████████| 1499/1499 [00:00<00:00, 2671.48it/s]\n"
     ]
    }
   ],
   "source": [
    "segment = 3\n",
    "t0s = np.arange(lc.time.min(), lc.time.max(), 1)\n",
    "phases = np.empty((len(t0s)-1, len(freqs)))\n",
    "phases[:] = np.nan\n",
    "for i, t0 in tqdm(enumerate(t0s[:-1]), total=len(t0s)-1):\n",
    "    m = (t0 <= lc.time) & (lc.time < t0s[i+1])\n",
    "#     if m.sum() < 100:\n",
    "#         continue\n",
    "    phases[i] = get_phase(freqs, lc.time[m], lc.flux[m])\n",
    "m = np.isfinite(phases[:, 0])\n",
    "# phases -= np.nanmean(phases, axis=0)\n",
    "full = np.mean(phases, axis=1)"
   ]
  },
  {
   "cell_type": "code",
   "execution_count": 78,
   "metadata": {},
   "outputs": [
    {
     "data": {
      "text/plain": [
       "(1043.798972297358, 2.7525948856971367)"
      ]
     },
     "execution_count": 78,
     "metadata": {},
     "output_type": "execute_result"
    },
    {
     "data": {
      "image/png": "[encoded data removed]",
      "text/plain": [
       "<Figure size 432x288 with 1 Axes>"
      ]
     },
     "metadata": {
      "needs_background": "light"
     },
     "output_type": "display_data"
    }
   ],
   "source": [
    "res = xo.estimators.lomb_scargle_estimator(t0s[:-1][m], full[m], min_period=800,#2*segment, \n",
    "                                           max_period=1200)\n",
    "f, p = res[\"periodogram\"]\n",
    "plt.plot(1 / f, p)\n",
    "plt.axvline(res[\"peaks\"][0][\"period\"], color=\"green\", linewidth=5, alpha=0.2)\n",
    "plt.xlabel(\"period\")\n",
    "plt.ylabel(\"power\")\n",
    "plt.yticks([]);\n",
    "\n",
    "period_guess = res[\"peaks\"][0][\"period\"]\n",
    "arg = 2*np.pi*t0s[:-1][m]/period_guess\n",
    "D = np.concatenate((np.sin(arg)[:, None],\n",
    "                    np.cos(arg)[:, None],\n",
    "                    np.ones((len(phases[m]), 1))), axis=-1)\n",
    "w = np.linalg.solve(np.dot(D.T, D), np.dot(D.T, phases[m, 0]))\n",
    "a_guess = np.sqrt(np.sum(w[:2]**2)) * 86400\n",
    "period_guess, a_guess"
   ]
  },
  {
   "cell_type": "code",
   "execution_count": null,
   "metadata": {},
   "outputs": [],
   "source": []
  },
  {
   "cell_type": "code",
   "execution_count": 73,
   "metadata": {},
   "outputs": [
    {
     "ename": "NameError",
     "evalue": "name 'ms' is not defined",
     "output_type": "error",
     "traceback": [
      "\u001b[0;31m---------------------------------------------------------------------------\u001b[0m",
      "\u001b[0;31mNameError\u001b[0m                                 Traceback (most recent call last)",
      "\u001b[0;32m<ipython-input-73-912d1c9a0f15>\u001b[0m in \u001b[0;36m<module>\u001b[0;34m\u001b[0m\n\u001b[1;32m      1\u001b[0m \u001b[0;32mfrom\u001b[0m \u001b[0mtqdm\u001b[0m \u001b[0;32mimport\u001b[0m \u001b[0mtqdm\u001b[0m\u001b[0;34m\u001b[0m\u001b[0;34m\u001b[0m\u001b[0m\n\u001b[1;32m      2\u001b[0m \u001b[0;34m\u001b[0m\u001b[0m\n\u001b[0;32m----> 3\u001b[0;31m \u001b[0mtime\u001b[0m\u001b[0;34m,\u001b[0m \u001b[0mmag\u001b[0m \u001b[0;34m=\u001b[0m \u001b[0mms\u001b[0m\u001b[0;34m.\u001b[0m\u001b[0mtime\u001b[0m\u001b[0;34m,\u001b[0m \u001b[0mms\u001b[0m\u001b[0;34m.\u001b[0m\u001b[0mflux\u001b[0m\u001b[0;34m\u001b[0m\u001b[0;34m\u001b[0m\u001b[0m\n\u001b[0m\u001b[1;32m      4\u001b[0m \u001b[0mfreq\u001b[0m \u001b[0;34m=\u001b[0m \u001b[0mfreqs\u001b[0m\u001b[0;34m\u001b[0m\u001b[0;34m\u001b[0m\u001b[0m\n\u001b[1;32m      5\u001b[0m \u001b[0;32mwith\u001b[0m \u001b[0mpm\u001b[0m\u001b[0;34m.\u001b[0m\u001b[0mModel\u001b[0m\u001b[0;34m(\u001b[0m\u001b[0;34m)\u001b[0m \u001b[0;32mas\u001b[0m \u001b[0msimple_model\u001b[0m\u001b[0;34m:\u001b[0m\u001b[0;34m\u001b[0m\u001b[0;34m\u001b[0m\u001b[0m\n",
      "\u001b[0;31mNameError\u001b[0m: name 'ms' is not defined"
     ]
    }
   ],
   "source": [
    "from tqdm import tqdm\n",
    "\n",
    "time, mag = ms.time, ms.flux\n",
    "freq = freqs\n",
    "with pm.Model() as simple_model:\n",
    "    \n",
    "    period = pm.Flat(\"period\", testval=10.0)\n",
    "    nu = pm.Flat(\"nu\", testval=15)\n",
    "    \n",
    "    phi = xo.distributions.Angle(\"phi\")\n",
    "    logasini = pm.Uniform(\"logasini\", lower=np.log(1), upper=np.log(1000),\n",
    "                          testval=np.log(10))\n",
    "    drift = pm.Normal(\"drift\", mu=0, sd=1.0)\n",
    "    \n",
    "    M = 2.0 * np.pi * time / period - phi\n",
    "    \n",
    "    factor = 2. * np.pi * nu\n",
    "    A = factor * (1 + drift) * time\n",
    "    B = -factor * (tt.exp(logasini) / 86400) * tt.sin(M)\n",
    "    \n",
    "    sinarg = tt.sin(A+B)\n",
    "    cosarg = tt.cos(A+B)\n",
    "    \n",
    "    DT = tt.stack((sinarg, cosarg, tt.ones_like(sinarg)))\n",
    "    w = tt.slinalg.solve(tt.dot(DT, DT.T), tt.dot(DT, mag))\n",
    "    pm.Deterministic(\"w\", w)\n",
    "    pm.Deterministic(\"phase\", tt.arctan2(w[1], w[0]))\n",
    "    lc_model = tt.dot(DT.T, w)\n",
    "        \n",
    "    pm.Normal(\"obs\", mu=lc_model, observed=mag)\n",
    "    \n",
    "    fit_params = [v for v in simple_model.vars if v.name not in [\"period\", \"nu\"]]\n",
    "\n",
    "def run_fit(p, nu):\n",
    "    with simple_model:\n",
    "        start = dict(simple_model.test_point)\n",
    "        start[\"period\"] = p\n",
    "        start[\"nu\"] = nu\n",
    "        point, info = xo.optimize(start, vars=fit_params, return_info=True, verbose=False)\n",
    "    return -info.fun, point\n",
    "\n",
    "#periods = np.exp(np.linspace(np.log(10), np.log(25), 50))\n",
    "periods = np.linspace(80, 120, 50)\n",
    "results = []\n",
    "for f in freq[:2]:\n",
    "    results.append([run_fit(p, f) for p in tqdm(periods)])"
   ]
  },
  {
   "cell_type": "code",
   "execution_count": 67,
   "metadata": {},
   "outputs": [
    {
     "data": {
      "image/png": "[encoded data removed]",
      "text/plain": [
       "<Figure size 432x288 with 1 Axes>"
      ]
     },
     "metadata": {
      "needs_background": "light"
     },
     "output_type": "display_data"
    }
   ],
   "source": [
    "ys = np.array([[r[0] for r in row] for row in results])\n",
    "sm = np.sum(ys, axis=0)\n",
    "period_ind = np.argmax(sm)\n",
    "plt.plot(periods[:-2], sm[:-2]);"
   ]
  },
  {
   "cell_type": "code",
   "execution_count": 68,
   "metadata": {},
   "outputs": [
    {
     "data": {
      "image/png": "[encoded data removed]",
      "text/plain": [
       "<Figure size 432x288 with 1 Axes>"
      ]
     },
     "metadata": {
      "needs_background": "light"
     },
     "output_type": "display_data"
    }
   ],
   "source": [
    "ys = np.array([[np.exp(r[1][\"logasini\"]) for r in row] for row in results])\n",
    "sm = np.median(ys, axis=0)\n",
    "period_ind = np.argmax(sm)\n",
    "plt.plot(periods[:-2], sm[:-2]);"
   ]
  },
  {
   "cell_type": "code",
   "execution_count": 69,
   "metadata": {},
   "outputs": [
    {
     "data": {
      "image/png": "[encoded data removed]",
      "text/plain": [
       "<Figure size 432x288 with 1 Axes>"
      ]
     },
     "metadata": {
      "needs_background": "light"
     },
     "output_type": "display_data"
    }
   ],
   "source": [
    "ys = np.array([[np.exp(r[1][\"logasini\"]) for r in row] for row in results])\n",
    "for i in ys:\n",
    "    plt.plot(periods, i)"
   ]
  },
  {
   "cell_type": "code",
   "execution_count": 70,
   "metadata": {},
   "outputs": [
    {
     "data": {
      "text/plain": [
       "(118.36734693877551, 2.851333670178876)"
      ]
     },
     "execution_count": 70,
     "metadata": {},
     "output_type": "execute_result"
    }
   ],
   "source": [
    "period_guess = periods[period_ind]\n",
    "a_guess = np.max(sm)\n",
    "period_guess, a_guess\n"
   ]
  },
  {
   "cell_type": "code",
   "execution_count": 79,
   "metadata": {},
   "outputs": [
    {
     "data": {
      "text/plain": [
       "(1043.798972297358, 2.7525948856971367, array([30, 40, 50]))"
      ]
     },
     "execution_count": 79,
     "metadata": {},
     "output_type": "execute_result"
    }
   ],
   "source": [
    "period_guess, a_guess, freqs"
   ]
  },
  {
   "cell_type": "code",
   "execution_count": 80,
   "metadata": {},
   "outputs": [],
   "source": [
    "from exoplanet.orbits import get_true_anomaly\n",
    "import exoplanet as xo\n",
    "import astropy.units as u\n",
    "import theano.tensor as tt\n",
    "import theano\n",
    "\n",
    "def gen_model(time, flux, freq, period_guess, a_guess, with_gp=False, with_eccen=False):\n",
    "    new_model = pm.Model()\n",
    "    with new_model:\n",
    "        # Period\n",
    "        logP = pm.Normal(\"logP\", mu=np.log(period_guess), sd=50, shape=1, testval=np.log(period_guess))\n",
    "        period = pm.Deterministic(\"period\", pm.math.exp(logP))\n",
    "        asini = pm.Normal('asini', mu=a_guess, sd=3, testval=a_guess)\n",
    "        phi = xo.distributions.Angle('phi', testval=0)\n",
    "        mean = pm.Normal(\"mean\", mu=np.mean(flux), sd=10.0, testval=np.mean(flux))\n",
    "        logs_lc = pm.Normal('logs_lc', mu=np.log(np.median(np.abs(np.diff(flux)))), sd=1, testval=np.log(np.median(np.abs(np.diff(flux)))))\n",
    "        sigma = pm.Deterministic('sigma', tt.exp(2*logs_lc))\n",
    "        #     logs_lc = pm.HalfNormal(\"logs_lc\",  sigma=0.25, testval=0.05)\n",
    "        M = 2.0 * np.pi * (time) / period - phi\n",
    "\n",
    "        if with_eccen:\n",
    "            varpi = xo.distributions.Angle('varpi', testval=0)\n",
    "            eccen = pm.Uniform(\"ecc\", lower=0.0, upper=1.0, testval=0.001)\n",
    "            f = get_true_anomaly(M, eccen + tt.zeros_like(M))\n",
    "            psi = -(1 - tt.square(eccen)) * tt.sin(f+varpi) / (1 + eccen*tt.cos(f))\n",
    "        else:\n",
    "            psi = -tt.sin(M)\n",
    "\n",
    "        lognu = pm.Normal(\"lognu\", mu=np.log(freq), sd=0.1, shape=len(freq))\n",
    "        nu = pm.Deterministic(\"nu\", tt.exp(lognu))\n",
    "        tau = ((asini) / 86400) * psi[:, None]\n",
    "        arg = 2. * np.pi * nu * (time[:, None] - tau)\n",
    "        D = tt.concatenate((tt.cos(arg), tt.sin(arg)), axis=-1)\n",
    "        w = tt.slinalg.solve(tt.dot(D.T, D), tt.dot(D.T, flux))\n",
    "        pm.Deterministic('w', w)\n",
    "        lc_model = tt.dot(D, w)\n",
    "        full_lc = lc_model - mean\n",
    "\n",
    "        if with_gp:\n",
    "            logw0 = pm.Bound(pm.Normal,\n",
    "                             lower=np.log(2*np.pi/100.0),\n",
    "                             upper=np.log(2*np.pi/2))(\"logw0\", mu=np.log(2*np.pi/10), sd=10,\n",
    "                                                        testval=np.log(2*np.pi/10))\n",
    "            logpower = pm.Normal(\"logpower\", mu=np.log(np.var(flux)), sd=10)\n",
    "            logS0 = pm.Deterministic(\"logS0\", logpower - 4 * logw0)\n",
    "            kernel = xo.gp.terms.SHOTerm(log_S0=logS0, log_w0=logw0, Q=1/np.sqrt(2))\n",
    "            gp = xo.gp.GP(kernel, time, tt.exp(2*logs_lc) + tt.zeros(len(time)), J=2)\n",
    "\n",
    "            pm.Potential(\"obs\", gp.log_likelihood(flux - full_lc))\n",
    "        else:\n",
    "            pm.Normal('obs', mu=full_lc, \n",
    "                      sd=sigma, \n",
    "                      observed=flux)\n",
    "            \n",
    "    return new_model\n",
    "\n",
    "model = gen_model(lc.time, lc.flux, freqs, period_guess, a_guess)"
   ]
  },
  {
   "cell_type": "code",
   "execution_count": 81,
   "metadata": {},
   "outputs": [
    {
     "name": "stderr",
     "output_type": "stream",
     "text": [
      "optimizing logp for variables: [logs_lc, mean]\n",
      "168it [00:04, 38.17it/s, logp=-1.721197e+04]\n",
      "message: Desired error not necessarily achieved due to precision loss.\n",
      "logp: -70037.0285817272 -> -17211.974008590285\n",
      "optimizing logp for variables: [phi]\n",
      "15it [00:00, 23.04it/s, logp=-1.715006e+04]\n",
      "message: Optimization terminated successfully.\n",
      "logp: -17211.974008590285 -> -17150.063525636673\n",
      "optimizing logp for variables: [lognu]\n",
      "93it [00:03, 30.10it/s, logp=-1.714911e+04]\n",
      "message: Desired error not necessarily achieved due to precision loss.\n",
      "logp: -17150.063525636673 -> -17149.114309981756\n",
      "optimizing logp for variables: [lognu, logs_lc, mean, phi, asini, logP]\n",
      "165it [00:05, 30.66it/s, logp=-1.714903e+04]\n",
      "message: Desired error not necessarily achieved due to precision loss.\n",
      "logp: -17149.114309981756 -> -17149.02786515029\n",
      "optimizing logp for variables: [asini]\n",
      "3it [00:00,  4.47it/s, logp=-1.714903e+04]\n",
      "message: Optimization terminated successfully.\n",
      "logp: -17149.02786515029 -> -17149.02786515029\n",
      "optimizing logp for variables: [lognu, logs_lc, mean, phi, asini, logP]\n",
      "73it [00:02, 28.77it/s, logp=-4.630291e+05]\n",
      "message: Desired error not necessarily achieved due to precision loss.\n",
      "logp: -17149.02786515029 -> -17149.02786515029\n",
      "optimizing logp for variables: [logP]\n",
      "69it [00:02, 29.23it/s, logp=-1.714903e+04]\n",
      "message: Desired error not necessarily achieved due to precision loss.\n",
      "logp: -17149.02786515029 -> -17149.02786515029\n"
     ]
    }
   ],
   "source": [
    "with model:\n",
    "    map_params = xo.optimize(start=None, vars=[model.mean,model.logs_lc])\n",
    "    map_params = xo.optimize(start=map_params, vars=[model.phi])\n",
    "    map_params = xo.optimize(start=map_params, vars=[model.lognu])\n",
    "    map_params = xo.optimize(start=map_params)\n",
    "    \n",
    "    map_params = xo.optimize(start=map_params, vars=[model.asini])\n",
    "    map_params = xo.optimize(start=map_params)\n",
    "    map_params = xo.optimize(start=map_params, vars=[model.logP])"
   ]
  },
  {
   "cell_type": "code",
   "execution_count": 83,
   "metadata": {},
   "outputs": [
    {
     "data": {
      "text/plain": [
       "{'logP': array([6.94903515]),\n",
       " 'asini': array(2.58161807),\n",
       " 'phi_angle__': array([ 3.91985243, -2.15284933]),\n",
       " 'mean': array(0.00232803),\n",
       " 'logs_lc': array(-0.59247183),\n",
       " 'lognu': array([3.40119736, 3.68887947, 3.91202301]),\n",
       " 'period': array([1042.1437321]),\n",
       " 'phi': array(2.07303814),\n",
       " 'sigma': array(0.30576341),\n",
       " 'nu': array([29.99999932, 40.00000075, 50.        ]),\n",
       " 'w': array([-0.0448259 ,  0.7221637 ,  0.38509981, -0.79824311,  0.34334155,\n",
       "         0.92028878])}"
      ]
     },
     "execution_count": 83,
     "metadata": {},
     "output_type": "execute_result"
    }
   ],
   "source": [
    "map_params"
   ]
  },
  {
   "cell_type": "code",
   "execution_count": 84,
   "metadata": {},
   "outputs": [
    {
     "name": "stderr",
     "output_type": "stream",
     "text": [
      "Sampling 2 chains: 100%|██████████| 204/204 [17:13<00:00, 17.40s/draws]\n",
      "Sampling 2 chains: 100%|██████████| 204/204 [16:01<00:00, 12.94s/draws]\n",
      "Sampling 2 chains:   6%|▌         | 23/404 [02:25<39:40,  6.25s/draws] \n"
     ]
    },
    {
     "ename": "ValueError",
     "evalue": "Not enough samples to build a trace.",
     "output_type": "error",
     "traceback": [
      "\u001b[0;31m---------------------------------------------------------------------------\u001b[0m",
      "\u001b[0;31mKeyboardInterrupt\u001b[0m                         Traceback (most recent call last)",
      "\u001b[0;32m~/anaconda3/lib/python3.7/site-packages/pymc3/sampling.py\u001b[0m in \u001b[0;36m_mp_sample\u001b[0;34m(draws, tune, step, chains, cores, chain, random_seed, start, progressbar, trace, model, **kwargs)\u001b[0m\n\u001b[1;32m    968\u001b[0m             \u001b[0;32mwith\u001b[0m \u001b[0msampler\u001b[0m\u001b[0;34m:\u001b[0m\u001b[0;34m\u001b[0m\u001b[0;34m\u001b[0m\u001b[0m\n\u001b[0;32m--> 969\u001b[0;31m                 \u001b[0;32mfor\u001b[0m \u001b[0mdraw\u001b[0m \u001b[0;32min\u001b[0m \u001b[0msampler\u001b[0m\u001b[0;34m:\u001b[0m\u001b[0;34m\u001b[0m\u001b[0;34m\u001b[0m\u001b[0m\n\u001b[0m\u001b[1;32m    970\u001b[0m                     \u001b[0mtrace\u001b[0m \u001b[0;34m=\u001b[0m \u001b[0mtraces\u001b[0m\u001b[0;34m[\u001b[0m\u001b[0mdraw\u001b[0m\u001b[0;34m.\u001b[0m\u001b[0mchain\u001b[0m \u001b[0;34m-\u001b[0m \u001b[0mchain\u001b[0m\u001b[0;34m]\u001b[0m\u001b[0;34m\u001b[0m\u001b[0;34m\u001b[0m\u001b[0m\n",
      "\u001b[0;32m~/anaconda3/lib/python3.7/site-packages/pymc3/parallel_sampling.py\u001b[0m in \u001b[0;36m__iter__\u001b[0;34m(self)\u001b[0m\n\u001b[1;32m    392\u001b[0m         \u001b[0;32mwhile\u001b[0m \u001b[0mself\u001b[0m\u001b[0;34m.\u001b[0m\u001b[0m_active\u001b[0m\u001b[0;34m:\u001b[0m\u001b[0;34m\u001b[0m\u001b[0;34m\u001b[0m\u001b[0m\n\u001b[0;32m--> 393\u001b[0;31m             \u001b[0mdraw\u001b[0m \u001b[0;34m=\u001b[0m \u001b[0mProcessAdapter\u001b[0m\u001b[0;34m.\u001b[0m\u001b[0mrecv_draw\u001b[0m\u001b[0;34m(\u001b[0m\u001b[0mself\u001b[0m\u001b[0;34m.\u001b[0m\u001b[0m_active\u001b[0m\u001b[0;34m)\u001b[0m\u001b[0;34m\u001b[0m\u001b[0;34m\u001b[0m\u001b[0m\n\u001b[0m\u001b[1;32m    394\u001b[0m             \u001b[0mproc\u001b[0m\u001b[0;34m,\u001b[0m \u001b[0mis_last\u001b[0m\u001b[0;34m,\u001b[0m \u001b[0mdraw\u001b[0m\u001b[0;34m,\u001b[0m \u001b[0mtuning\u001b[0m\u001b[0;34m,\u001b[0m \u001b[0mstats\u001b[0m\u001b[0;34m,\u001b[0m \u001b[0mwarns\u001b[0m \u001b[0;34m=\u001b[0m \u001b[0mdraw\u001b[0m\u001b[0;34m\u001b[0m\u001b[0;34m\u001b[0m\u001b[0m\n",
      "\u001b[0;32m~/anaconda3/lib/python3.7/site-packages/pymc3/parallel_sampling.py\u001b[0m in \u001b[0;36mrecv_draw\u001b[0;34m(processes, timeout)\u001b[0m\n\u001b[1;32m    283\u001b[0m         \u001b[0mpipes\u001b[0m \u001b[0;34m=\u001b[0m \u001b[0;34m[\u001b[0m\u001b[0mproc\u001b[0m\u001b[0;34m.\u001b[0m\u001b[0m_msg_pipe\u001b[0m \u001b[0;32mfor\u001b[0m \u001b[0mproc\u001b[0m \u001b[0;32min\u001b[0m \u001b[0mprocesses\u001b[0m\u001b[0;34m]\u001b[0m\u001b[0;34m\u001b[0m\u001b[0;34m\u001b[0m\u001b[0m\n\u001b[0;32m--> 284\u001b[0;31m         \u001b[0mready\u001b[0m \u001b[0;34m=\u001b[0m \u001b[0mmultiprocessing\u001b[0m\u001b[0;34m.\u001b[0m\u001b[0mconnection\u001b[0m\u001b[0;34m.\u001b[0m\u001b[0mwait\u001b[0m\u001b[0;34m(\u001b[0m\u001b[0mpipes\u001b[0m\u001b[0;34m)\u001b[0m\u001b[0;34m\u001b[0m\u001b[0;34m\u001b[0m\u001b[0m\n\u001b[0m\u001b[1;32m    285\u001b[0m         \u001b[0;32mif\u001b[0m \u001b[0;32mnot\u001b[0m \u001b[0mready\u001b[0m\u001b[0;34m:\u001b[0m\u001b[0;34m\u001b[0m\u001b[0;34m\u001b[0m\u001b[0m\n",
      "\u001b[0;32m~/anaconda3/lib/python3.7/multiprocessing/connection.py\u001b[0m in \u001b[0;36mwait\u001b[0;34m(object_list, timeout)\u001b[0m\n\u001b[1;32m    919\u001b[0m             \u001b[0;32mwhile\u001b[0m \u001b[0;32mTrue\u001b[0m\u001b[0;34m:\u001b[0m\u001b[0;34m\u001b[0m\u001b[0;34m\u001b[0m\u001b[0m\n\u001b[0;32m--> 920\u001b[0;31m                 \u001b[0mready\u001b[0m \u001b[0;34m=\u001b[0m \u001b[0mselector\u001b[0m\u001b[0;34m.\u001b[0m\u001b[0mselect\u001b[0m\u001b[0;34m(\u001b[0m\u001b[0mtimeout\u001b[0m\u001b[0;34m)\u001b[0m\u001b[0;34m\u001b[0m\u001b[0;34m\u001b[0m\u001b[0m\n\u001b[0m\u001b[1;32m    921\u001b[0m                 \u001b[0;32mif\u001b[0m \u001b[0mready\u001b[0m\u001b[0;34m:\u001b[0m\u001b[0;34m\u001b[0m\u001b[0;34m\u001b[0m\u001b[0m\n",
      "\u001b[0;32m~/anaconda3/lib/python3.7/selectors.py\u001b[0m in \u001b[0;36mselect\u001b[0;34m(self, timeout)\u001b[0m\n\u001b[1;32m    414\u001b[0m         \u001b[0;32mtry\u001b[0m\u001b[0;34m:\u001b[0m\u001b[0;34m\u001b[0m\u001b[0;34m\u001b[0m\u001b[0m\n\u001b[0;32m--> 415\u001b[0;31m             \u001b[0mfd_event_list\u001b[0m \u001b[0;34m=\u001b[0m \u001b[0mself\u001b[0m\u001b[0;34m.\u001b[0m\u001b[0m_selector\u001b[0m\u001b[0;34m.\u001b[0m\u001b[0mpoll\u001b[0m\u001b[0;34m(\u001b[0m\u001b[0mtimeout\u001b[0m\u001b[0;34m)\u001b[0m\u001b[0;34m\u001b[0m\u001b[0;34m\u001b[0m\u001b[0m\n\u001b[0m\u001b[1;32m    416\u001b[0m         \u001b[0;32mexcept\u001b[0m \u001b[0mInterruptedError\u001b[0m\u001b[0;34m:\u001b[0m\u001b[0;34m\u001b[0m\u001b[0;34m\u001b[0m\u001b[0m\n",
      "\u001b[0;31mKeyboardInterrupt\u001b[0m: ",
      "\nDuring handling of the above exception, another exception occurred:\n",
      "\u001b[0;31mValueError\u001b[0m                                Traceback (most recent call last)",
      "\u001b[0;32m<ipython-input-84-9c25976c80d9>\u001b[0m in \u001b[0;36m<module>\u001b[0;34m\u001b[0m\n\u001b[1;32m      1\u001b[0m \u001b[0msampler\u001b[0m \u001b[0;34m=\u001b[0m \u001b[0mxo\u001b[0m\u001b[0;34m.\u001b[0m\u001b[0mPyMC3Sampler\u001b[0m\u001b[0;34m(\u001b[0m\u001b[0mstart\u001b[0m\u001b[0;34m=\u001b[0m\u001b[0;36m100\u001b[0m\u001b[0;34m,\u001b[0m \u001b[0mwindow\u001b[0m\u001b[0;34m=\u001b[0m\u001b[0;36m100\u001b[0m\u001b[0;34m,\u001b[0m \u001b[0mfinish\u001b[0m\u001b[0;34m=\u001b[0m\u001b[0;36m500\u001b[0m\u001b[0;34m,\u001b[0m \u001b[0mchains\u001b[0m\u001b[0;34m=\u001b[0m\u001b[0;36m2\u001b[0m\u001b[0;34m)\u001b[0m\u001b[0;34m\u001b[0m\u001b[0;34m\u001b[0m\u001b[0m\n\u001b[1;32m      2\u001b[0m \u001b[0;32mwith\u001b[0m \u001b[0mmodel\u001b[0m\u001b[0;34m:\u001b[0m\u001b[0;34m\u001b[0m\u001b[0;34m\u001b[0m\u001b[0m\n\u001b[0;32m----> 3\u001b[0;31m     \u001b[0mburnin\u001b[0m \u001b[0;34m=\u001b[0m \u001b[0msampler\u001b[0m\u001b[0;34m.\u001b[0m\u001b[0mtune\u001b[0m\u001b[0;34m(\u001b[0m\u001b[0mtune\u001b[0m\u001b[0;34m=\u001b[0m\u001b[0;36m1000\u001b[0m\u001b[0;34m,\u001b[0m \u001b[0mstep_kwargs\u001b[0m\u001b[0;34m=\u001b[0m\u001b[0mdict\u001b[0m\u001b[0;34m(\u001b[0m\u001b[0mtarget_accept\u001b[0m\u001b[0;34m=\u001b[0m\u001b[0;36m0.9\u001b[0m\u001b[0;34m)\u001b[0m\u001b[0;34m,\u001b[0m \u001b[0mstart\u001b[0m\u001b[0;34m=\u001b[0m\u001b[0mmap_params\u001b[0m\u001b[0;34m)\u001b[0m\u001b[0;34m\u001b[0m\u001b[0;34m\u001b[0m\u001b[0m\n\u001b[0m",
      "\u001b[0;32m~/anaconda3/lib/python3.7/site-packages/exoplanet/sampling.py\u001b[0m in \u001b[0;36mtune\u001b[0;34m(self, tune, start, step_kwargs, **kwargs)\u001b[0m\n\u001b[1;32m    214\u001b[0m                 \u001b[0msteps\u001b[0m\u001b[0;34m=\u001b[0m\u001b[0msteps\u001b[0m\u001b[0;34m,\u001b[0m\u001b[0;34m\u001b[0m\u001b[0;34m\u001b[0m\u001b[0m\n\u001b[1;32m    215\u001b[0m                 \u001b[0mtrace\u001b[0m\u001b[0;34m=\u001b[0m\u001b[0mtrace\u001b[0m\u001b[0;34m,\u001b[0m\u001b[0;34m\u001b[0m\u001b[0;34m\u001b[0m\u001b[0m\n\u001b[0;32m--> 216\u001b[0;31m                 \u001b[0;34m**\u001b[0m\u001b[0mkwargs\u001b[0m\u001b[0;34m\u001b[0m\u001b[0;34m\u001b[0m\u001b[0m\n\u001b[0m\u001b[1;32m    217\u001b[0m             )\n\u001b[1;32m    218\u001b[0m             \u001b[0msteps\u001b[0m \u001b[0;34m*=\u001b[0m \u001b[0;36m2\u001b[0m\u001b[0;34m\u001b[0m\u001b[0;34m\u001b[0m\u001b[0m\n",
      "\u001b[0;32m~/anaconda3/lib/python3.7/site-packages/exoplanet/sampling.py\u001b[0m in \u001b[0;36mextend_tune\u001b[0;34m(self, steps, start, step_kwargs, trace, step, **kwargs)\u001b[0m\n\u001b[1;32m    181\u001b[0m             \u001b[0mstart\u001b[0m\u001b[0;34m=\u001b[0m\u001b[0mstart\u001b[0m\u001b[0;34m,\u001b[0m \u001b[0mstep_kwargs\u001b[0m\u001b[0;34m=\u001b[0m\u001b[0mstep_kwargs\u001b[0m\u001b[0;34m,\u001b[0m \u001b[0mtrace\u001b[0m\u001b[0;34m=\u001b[0m\u001b[0mtrace\u001b[0m\u001b[0;34m,\u001b[0m \u001b[0mstep\u001b[0m\u001b[0;34m=\u001b[0m\u001b[0mstep\u001b[0m\u001b[0;34m\u001b[0m\u001b[0;34m\u001b[0m\u001b[0m\n\u001b[1;32m    182\u001b[0m         )\n\u001b[0;32m--> 183\u001b[0;31m         \u001b[0mself\u001b[0m\u001b[0;34m.\u001b[0m\u001b[0m_extend\u001b[0m\u001b[0;34m(\u001b[0m\u001b[0msteps\u001b[0m\u001b[0;34m,\u001b[0m \u001b[0mstart\u001b[0m\u001b[0;34m=\u001b[0m\u001b[0mstart\u001b[0m\u001b[0;34m,\u001b[0m \u001b[0mstep\u001b[0m\u001b[0;34m=\u001b[0m\u001b[0mstep\u001b[0m\u001b[0;34m,\u001b[0m \u001b[0;34m**\u001b[0m\u001b[0mkwargs\u001b[0m\u001b[0;34m)\u001b[0m\u001b[0;34m\u001b[0m\u001b[0;34m\u001b[0m\u001b[0m\n\u001b[0m\u001b[1;32m    184\u001b[0m         \u001b[0mself\u001b[0m\u001b[0;34m.\u001b[0m\u001b[0m_current_step\u001b[0m \u001b[0;34m=\u001b[0m \u001b[0mstep\u001b[0m\u001b[0;34m\u001b[0m\u001b[0;34m\u001b[0m\u001b[0m\n\u001b[1;32m    185\u001b[0m         \u001b[0;32mreturn\u001b[0m \u001b[0mself\u001b[0m\u001b[0;34m.\u001b[0m\u001b[0m_current_trace\u001b[0m\u001b[0;34m\u001b[0m\u001b[0;34m\u001b[0m\u001b[0m\n",
      "\u001b[0;32m~/anaconda3/lib/python3.7/site-packages/exoplanet/sampling.py\u001b[0m in \u001b[0;36m_extend\u001b[0;34m(self, steps, start, step, **kwargs)\u001b[0m\n\u001b[1;32m    126\u001b[0m \u001b[0;34m\u001b[0m\u001b[0m\n\u001b[1;32m    127\u001b[0m         self._current_trace = pm.sample(\n\u001b[0;32m--> 128\u001b[0;31m             \u001b[0mstart\u001b[0m\u001b[0;34m=\u001b[0m\u001b[0mstart\u001b[0m\u001b[0;34m,\u001b[0m \u001b[0mtune\u001b[0m\u001b[0;34m=\u001b[0m\u001b[0msteps\u001b[0m\u001b[0;34m,\u001b[0m \u001b[0mstep\u001b[0m\u001b[0;34m=\u001b[0m\u001b[0mstep\u001b[0m\u001b[0;34m,\u001b[0m \u001b[0;34m**\u001b[0m\u001b[0mkwargs\u001b[0m\u001b[0;34m\u001b[0m\u001b[0;34m\u001b[0m\u001b[0m\n\u001b[0m\u001b[1;32m    129\u001b[0m         )\n\u001b[1;32m    130\u001b[0m         \u001b[0mself\u001b[0m\u001b[0;34m.\u001b[0m\u001b[0mcount\u001b[0m \u001b[0;34m+=\u001b[0m \u001b[0msteps\u001b[0m\u001b[0;34m\u001b[0m\u001b[0;34m\u001b[0m\u001b[0m\n",
      "\u001b[0;32m~/anaconda3/lib/python3.7/site-packages/pymc3/sampling.py\u001b[0m in \u001b[0;36msample\u001b[0;34m(draws, step, init, n_init, start, trace, chain_idx, chains, cores, tune, progressbar, model, random_seed, discard_tuned_samples, compute_convergence_checks, **kwargs)\u001b[0m\n\u001b[1;32m    435\u001b[0m             \u001b[0m_print_step_hierarchy\u001b[0m\u001b[0;34m(\u001b[0m\u001b[0mstep\u001b[0m\u001b[0;34m)\u001b[0m\u001b[0;34m\u001b[0m\u001b[0;34m\u001b[0m\u001b[0m\n\u001b[1;32m    436\u001b[0m             \u001b[0;32mtry\u001b[0m\u001b[0;34m:\u001b[0m\u001b[0;34m\u001b[0m\u001b[0;34m\u001b[0m\u001b[0m\n\u001b[0;32m--> 437\u001b[0;31m                 \u001b[0mtrace\u001b[0m \u001b[0;34m=\u001b[0m \u001b[0m_mp_sample\u001b[0m\u001b[0;34m(\u001b[0m\u001b[0;34m**\u001b[0m\u001b[0msample_args\u001b[0m\u001b[0;34m)\u001b[0m\u001b[0;34m\u001b[0m\u001b[0;34m\u001b[0m\u001b[0m\n\u001b[0m\u001b[1;32m    438\u001b[0m             \u001b[0;32mexcept\u001b[0m \u001b[0mpickle\u001b[0m\u001b[0;34m.\u001b[0m\u001b[0mPickleError\u001b[0m\u001b[0;34m:\u001b[0m\u001b[0;34m\u001b[0m\u001b[0;34m\u001b[0m\u001b[0m\n\u001b[1;32m    439\u001b[0m                 \u001b[0m_log\u001b[0m\u001b[0;34m.\u001b[0m\u001b[0mwarning\u001b[0m\u001b[0;34m(\u001b[0m\u001b[0;34m\"Could not pickle model, sampling singlethreaded.\"\u001b[0m\u001b[0;34m)\u001b[0m\u001b[0;34m\u001b[0m\u001b[0;34m\u001b[0m\u001b[0m\n",
      "\u001b[0;32m~/anaconda3/lib/python3.7/site-packages/pymc3/sampling.py\u001b[0m in \u001b[0;36m_mp_sample\u001b[0;34m(draws, tune, step, chains, cores, chain, random_seed, start, progressbar, trace, model, **kwargs)\u001b[0m\n\u001b[1;32m    989\u001b[0m         \u001b[0;32mreturn\u001b[0m \u001b[0mMultiTrace\u001b[0m\u001b[0;34m(\u001b[0m\u001b[0mtraces\u001b[0m\u001b[0;34m)\u001b[0m\u001b[0;34m\u001b[0m\u001b[0;34m\u001b[0m\u001b[0m\n\u001b[1;32m    990\u001b[0m     \u001b[0;32mexcept\u001b[0m \u001b[0mKeyboardInterrupt\u001b[0m\u001b[0;34m:\u001b[0m\u001b[0;34m\u001b[0m\u001b[0;34m\u001b[0m\u001b[0m\n\u001b[0;32m--> 991\u001b[0;31m         \u001b[0mtraces\u001b[0m\u001b[0;34m,\u001b[0m \u001b[0mlength\u001b[0m \u001b[0;34m=\u001b[0m \u001b[0m_choose_chains\u001b[0m\u001b[0;34m(\u001b[0m\u001b[0mtraces\u001b[0m\u001b[0;34m,\u001b[0m \u001b[0mtune\u001b[0m\u001b[0;34m)\u001b[0m\u001b[0;34m\u001b[0m\u001b[0;34m\u001b[0m\u001b[0m\n\u001b[0m\u001b[1;32m    992\u001b[0m         \u001b[0;32mreturn\u001b[0m \u001b[0mMultiTrace\u001b[0m\u001b[0;34m(\u001b[0m\u001b[0mtraces\u001b[0m\u001b[0;34m)\u001b[0m\u001b[0;34m[\u001b[0m\u001b[0;34m:\u001b[0m\u001b[0mlength\u001b[0m\u001b[0;34m]\u001b[0m\u001b[0;34m\u001b[0m\u001b[0;34m\u001b[0m\u001b[0m\n\u001b[1;32m    993\u001b[0m     \u001b[0;32mfinally\u001b[0m\u001b[0;34m:\u001b[0m\u001b[0;34m\u001b[0m\u001b[0;34m\u001b[0m\u001b[0m\n",
      "\u001b[0;32m~/anaconda3/lib/python3.7/site-packages/pymc3/sampling.py\u001b[0m in \u001b[0;36m_choose_chains\u001b[0;34m(traces, tune)\u001b[0m\n\u001b[1;32m   1005\u001b[0m     \u001b[0mlengths\u001b[0m \u001b[0;34m=\u001b[0m \u001b[0;34m[\u001b[0m\u001b[0mmax\u001b[0m\u001b[0;34m(\u001b[0m\u001b[0;36m0\u001b[0m\u001b[0;34m,\u001b[0m \u001b[0mlen\u001b[0m\u001b[0;34m(\u001b[0m\u001b[0mtrace\u001b[0m\u001b[0;34m)\u001b[0m \u001b[0;34m-\u001b[0m \u001b[0mtune\u001b[0m\u001b[0;34m)\u001b[0m \u001b[0;32mfor\u001b[0m \u001b[0mtrace\u001b[0m \u001b[0;32min\u001b[0m \u001b[0mtraces\u001b[0m\u001b[0;34m]\u001b[0m\u001b[0;34m\u001b[0m\u001b[0;34m\u001b[0m\u001b[0m\n\u001b[1;32m   1006\u001b[0m     \u001b[0;32mif\u001b[0m \u001b[0;32mnot\u001b[0m \u001b[0msum\u001b[0m\u001b[0;34m(\u001b[0m\u001b[0mlengths\u001b[0m\u001b[0;34m)\u001b[0m\u001b[0;34m:\u001b[0m\u001b[0;34m\u001b[0m\u001b[0;34m\u001b[0m\u001b[0m\n\u001b[0;32m-> 1007\u001b[0;31m         \u001b[0;32mraise\u001b[0m \u001b[0mValueError\u001b[0m\u001b[0;34m(\u001b[0m\u001b[0;34m'Not enough samples to build a trace.'\u001b[0m\u001b[0;34m)\u001b[0m\u001b[0;34m\u001b[0m\u001b[0;34m\u001b[0m\u001b[0m\n\u001b[0m\u001b[1;32m   1008\u001b[0m \u001b[0;34m\u001b[0m\u001b[0m\n\u001b[1;32m   1009\u001b[0m     \u001b[0midxs\u001b[0m \u001b[0;34m=\u001b[0m \u001b[0mnp\u001b[0m\u001b[0;34m.\u001b[0m\u001b[0margsort\u001b[0m\u001b[0;34m(\u001b[0m\u001b[0mlengths\u001b[0m\u001b[0;34m)\u001b[0m\u001b[0;34m[\u001b[0m\u001b[0;34m:\u001b[0m\u001b[0;34m:\u001b[0m\u001b[0;34m-\u001b[0m\u001b[0;36m1\u001b[0m\u001b[0;34m]\u001b[0m\u001b[0;34m\u001b[0m\u001b[0;34m\u001b[0m\u001b[0m\n",
      "\u001b[0;31mValueError\u001b[0m: Not enough samples to build a trace."
     ]
    }
   ],
   "source": [
    "sampler = xo.PyMC3Sampler(start=100, window=100, finish=500, chains=2)\n",
    "with model:\n",
    "    burnin = sampler.tune(tune=1000, step_kwargs=dict(target_accept=0.9), start=map_params)"
   ]
  },
  {
   "cell_type": "code",
   "execution_count": null,
   "metadata": {},
   "outputs": [],
   "source": []
  },
  {
   "cell_type": "code",
   "execution_count": null,
   "metadata": {},
   "outputs": [],
   "source": []
  },
  {
   "cell_type": "code",
   "execution_count": null,
   "metadata": {},
   "outputs": [],
   "source": []
  },
  {
   "cell_type": "code",
   "execution_count": null,
   "metadata": {},
   "outputs": [],
   "source": []
  },
  {
   "cell_type": "code",
   "execution_count": null,
   "metadata": {},
   "outputs": [],
   "source": []
  },
  {
   "cell_type": "code",
   "execution_count": 28,
   "metadata": {},
   "outputs": [
    {
     "name": "stdout",
     "output_type": "stream",
     "text": [
      "[phi_angle__, logs_lc, asini, mean, lognu]\n"
     ]
    },
    {
     "name": "stderr",
     "output_type": "stream",
     "text": [
      "optimizing logp for variables: [mean]\n",
      "5it [00:00, 20.84it/s, logp=-6.827090e+04]\n",
      "message: Optimization terminated successfully.\n",
      "logp: -68271.53359146534 -> -68270.89756751999\n",
      "optimizing logp for variables: [logs_lc]\n",
      "12it [00:00, 33.70it/s, logp=3.361022e+04]\n",
      "message: Optimization terminated successfully.\n",
      "logp: -68270.89756751999 -> 33610.216083430205\n",
      "optimizing logp for variables: [phi]\n",
      "14it [00:00, 22.79it/s, logp=3.366268e+04]\n",
      "message: Optimization terminated successfully.\n",
      "logp: 33610.216083430205 -> 33662.678680944904\n",
      "optimizing logp for variables: [lognu]\n",
      "76it [00:02, 26.15it/s, logp=3.366373e+04]\n",
      "message: Desired error not necessarily achieved due to precision loss.\n",
      "logp: 33662.678680944904 -> 33663.730333313695\n",
      "optimizing logp for variables: [lognu, mean, asini, logs_lc, phi]\n",
      "107it [00:04, 23.47it/s, logp=3.366373e+04]\n",
      "message: Desired error not necessarily achieved due to precision loss.\n",
      "logp: 33663.730333313695 -> 33663.730333361134\n",
      "optimizing logp for variables: [asini]\n",
      "6it [00:00, 26.01it/s, logp=3.368373e+04]\n",
      "message: Optimization terminated successfully.\n",
      "logp: 33663.730333361134 -> 33683.73467970412\n",
      "optimizing logp for variables: [lognu, mean, asini, logs_lc, phi]\n",
      "108it [00:04, 24.81it/s, logp=3.368377e+04]\n",
      "message: Desired error not necessarily achieved due to precision loss.\n",
      "logp: 33683.73467970412 -> 33683.7732734837\n",
      "optimizing logp for variables: [logP]\n",
      "82it [00:03, 23.63it/s, logp=3.368379e+04]\n",
      "message: Desired error not necessarily achieved due to precision loss.\n",
      "logp: 33683.7732734837 -> 33683.78729661977\n",
      "optimizing logp for variables: [lognu, mean, asini, logs_lc, phi]\n",
      "106it [00:04, 23.22it/s, logp=3.368379e+04]\n",
      "message: Desired error not necessarily achieved due to precision loss.\n",
      "logp: 33683.78729661977 -> 33683.787296896524\n"
     ]
    },
    {
     "data": {
      "image/png": "[encoded data removed]",
      "text/plain": [
       "<Figure size 432x288 with 1 Axes>"
      ]
     },
     "metadata": {
      "needs_background": "light"
     },
     "output_type": "display_data"
    }
   ],
   "source": [
    "with model:\n",
    "    all_but = [v for v in model.vars if v.name not in [\"logP_interval__\", \"logasini_interval__\"]]\n",
    "    print(all_but)\n",
    "    \n",
    "    map_params = xo.optimize(start=None, vars=[mean])\n",
    "    map_params = xo.optimize(start=map_params, vars=[logs_lc])\n",
    "#     map_params = xo.optimize(start=map_params, vars=[logpower, logw0])\n",
    "#     map_params = xo.optimize(start=map_params, vars=[phase, logamp])\n",
    "#     map_params = xo.optimize(start=map_params, vars=[eccen, omega])\n",
    "    map_params = xo.optimize(start=map_params, vars=[phi])\n",
    "    map_params = xo.optimize(start=map_params, vars=[lognu])\n",
    "    map_params = xo.optimize(start=map_params, vars=all_but)\n",
    "    \n",
    "    map_params = xo.optimize(start=map_params, vars=[asini])\n",
    "    map_params = xo.optimize(start=map_params, vars=all_but)\n",
    "\n",
    "    map_params = xo.optimize(start=map_params, vars=[logP])\n",
    "    map_params = xo.optimize(start=map_params, vars=all_but)\n",
    "\n",
    "#     map_params = xo.optimize(start=map_params)\n",
    "\n",
    "    plt.plot(time, xo.eval_in_model(lc_model, map_params), alpha=0.5)\n",
    "    plt.plot(time, mag, alpha=0.5)"
   ]
  },
  {
   "cell_type": "code",
   "execution_count": 29,
   "metadata": {},
   "outputs": [
    {
     "data": {
      "text/plain": [
       "{'logP_interval__': array(-5.59753796),\n",
       " 'phi_angle__': array([-2.14068454, -3.92650622]),\n",
       " 'logs_lc': array(-1.87810769),\n",
       " 'asini': array(0.60013125),\n",
       " 'mean': array(-0.00116393),\n",
       " 'lognu': array([3.40119737, 3.68887947, 3.912023  ]),\n",
       " 'logP': array(2.32553743),\n",
       " 'period': array(10.23217771),\n",
       " 'phi': array(-2.64245129),\n",
       " 'nu': array([29.99999971, 40.00000045, 49.99999997]),\n",
       " 'mass_function': array(4.40763395e+24)}"
      ]
     },
     "execution_count": 29,
     "metadata": {},
     "output_type": "execute_result"
    }
   ],
   "source": [
    "map_params"
   ]
  },
  {
   "cell_type": "code",
   "execution_count": 95,
   "metadata": {},
   "outputs": [
    {
     "name": "stderr",
     "output_type": "stream",
     "text": [
      "Sampling 2 chains:   0%|          | 0/204 [00:00<?, ?draws/s]/Users/danielhey/anaconda3/lib/python3.7/site-packages/theano/tensor/slinalg.py:255: LinAlgWarning: Ill-conditioned matrix (rcond=0): result may not be accurate.\n",
      "  rval = scipy.linalg.solve(A, b)\n",
      "/Users/danielhey/anaconda3/lib/python3.7/site-packages/theano/tensor/slinalg.py:255: LinAlgWarning: Ill-conditioned matrix (rcond=0): result may not be accurate.\n",
      "  rval = scipy.linalg.solve(A, b)\n",
      "Sampling 2 chains: 100%|██████████| 204/204 [14:04<00:00, 12.04s/draws]\n",
      "Sampling 2 chains:   0%|          | 0/204 [00:00<?, ?draws/s]/Users/danielhey/anaconda3/lib/python3.7/site-packages/theano/tensor/slinalg.py:255: LinAlgWarning: Ill-conditioned matrix (rcond=0): result may not be accurate.\n",
      "  rval = scipy.linalg.solve(A, b)\n",
      "/Users/danielhey/anaconda3/lib/python3.7/site-packages/theano/tensor/slinalg.py:255: LinAlgWarning: Ill-conditioned matrix (rcond=0): result may not be accurate.\n",
      "  rval = scipy.linalg.solve(A, b)\n",
      "Sampling 2 chains: 100%|██████████| 204/204 [13:17<00:00, 13.77s/draws]\n",
      "Sampling 2 chains: 100%|██████████| 404/404 [32:59<00:00, 17.08s/draws]\n",
      "Sampling 2 chains:  44%|████▍     | 534/1204 [44:09<2:28:16, 13.28s/draws]\n"
     ]
    },
    {
     "ename": "ValueError",
     "evalue": "Not enough samples to build a trace.",
     "output_type": "error",
     "traceback": [
      "\u001b[0;31m---------------------------------------------------------------------------\u001b[0m",
      "\u001b[0;31mKeyboardInterrupt\u001b[0m                         Traceback (most recent call last)",
      "\u001b[0;32m~/anaconda3/lib/python3.7/site-packages/pymc3/sampling.py\u001b[0m in \u001b[0;36m_mp_sample\u001b[0;34m(draws, tune, step, chains, cores, chain, random_seed, start, progressbar, trace, model, **kwargs)\u001b[0m\n\u001b[1;32m    968\u001b[0m             \u001b[0;32mwith\u001b[0m \u001b[0msampler\u001b[0m\u001b[0;34m:\u001b[0m\u001b[0;34m\u001b[0m\u001b[0;34m\u001b[0m\u001b[0m\n\u001b[0;32m--> 969\u001b[0;31m                 \u001b[0;32mfor\u001b[0m \u001b[0mdraw\u001b[0m \u001b[0;32min\u001b[0m \u001b[0msampler\u001b[0m\u001b[0;34m:\u001b[0m\u001b[0;34m\u001b[0m\u001b[0;34m\u001b[0m\u001b[0m\n\u001b[0m\u001b[1;32m    970\u001b[0m                     \u001b[0mtrace\u001b[0m \u001b[0;34m=\u001b[0m \u001b[0mtraces\u001b[0m\u001b[0;34m[\u001b[0m\u001b[0mdraw\u001b[0m\u001b[0;34m.\u001b[0m\u001b[0mchain\u001b[0m \u001b[0;34m-\u001b[0m \u001b[0mchain\u001b[0m\u001b[0;34m]\u001b[0m\u001b[0;34m\u001b[0m\u001b[0;34m\u001b[0m\u001b[0m\n",
      "\u001b[0;32m~/anaconda3/lib/python3.7/site-packages/pymc3/parallel_sampling.py\u001b[0m in \u001b[0;36m__iter__\u001b[0;34m(self)\u001b[0m\n\u001b[1;32m    392\u001b[0m         \u001b[0;32mwhile\u001b[0m \u001b[0mself\u001b[0m\u001b[0;34m.\u001b[0m\u001b[0m_active\u001b[0m\u001b[0;34m:\u001b[0m\u001b[0;34m\u001b[0m\u001b[0;34m\u001b[0m\u001b[0m\n\u001b[0;32m--> 393\u001b[0;31m             \u001b[0mdraw\u001b[0m \u001b[0;34m=\u001b[0m \u001b[0mProcessAdapter\u001b[0m\u001b[0;34m.\u001b[0m\u001b[0mrecv_draw\u001b[0m\u001b[0;34m(\u001b[0m\u001b[0mself\u001b[0m\u001b[0;34m.\u001b[0m\u001b[0m_active\u001b[0m\u001b[0;34m)\u001b[0m\u001b[0;34m\u001b[0m\u001b[0;34m\u001b[0m\u001b[0m\n\u001b[0m\u001b[1;32m    394\u001b[0m             \u001b[0mproc\u001b[0m\u001b[0;34m,\u001b[0m \u001b[0mis_last\u001b[0m\u001b[0;34m,\u001b[0m \u001b[0mdraw\u001b[0m\u001b[0;34m,\u001b[0m \u001b[0mtuning\u001b[0m\u001b[0;34m,\u001b[0m \u001b[0mstats\u001b[0m\u001b[0;34m,\u001b[0m \u001b[0mwarns\u001b[0m \u001b[0;34m=\u001b[0m \u001b[0mdraw\u001b[0m\u001b[0;34m\u001b[0m\u001b[0;34m\u001b[0m\u001b[0m\n",
      "\u001b[0;32m~/anaconda3/lib/python3.7/site-packages/pymc3/parallel_sampling.py\u001b[0m in \u001b[0;36mrecv_draw\u001b[0;34m(processes, timeout)\u001b[0m\n\u001b[1;32m    283\u001b[0m         \u001b[0mpipes\u001b[0m \u001b[0;34m=\u001b[0m \u001b[0;34m[\u001b[0m\u001b[0mproc\u001b[0m\u001b[0;34m.\u001b[0m\u001b[0m_msg_pipe\u001b[0m \u001b[0;32mfor\u001b[0m \u001b[0mproc\u001b[0m \u001b[0;32min\u001b[0m \u001b[0mprocesses\u001b[0m\u001b[0;34m]\u001b[0m\u001b[0;34m\u001b[0m\u001b[0;34m\u001b[0m\u001b[0m\n\u001b[0;32m--> 284\u001b[0;31m         \u001b[0mready\u001b[0m \u001b[0;34m=\u001b[0m \u001b[0mmultiprocessing\u001b[0m\u001b[0;34m.\u001b[0m\u001b[0mconnection\u001b[0m\u001b[0;34m.\u001b[0m\u001b[0mwait\u001b[0m\u001b[0;34m(\u001b[0m\u001b[0mpipes\u001b[0m\u001b[0;34m)\u001b[0m\u001b[0;34m\u001b[0m\u001b[0;34m\u001b[0m\u001b[0m\n\u001b[0m\u001b[1;32m    285\u001b[0m         \u001b[0;32mif\u001b[0m \u001b[0;32mnot\u001b[0m \u001b[0mready\u001b[0m\u001b[0;34m:\u001b[0m\u001b[0;34m\u001b[0m\u001b[0;34m\u001b[0m\u001b[0m\n",
      "\u001b[0;32m~/anaconda3/lib/python3.7/multiprocessing/connection.py\u001b[0m in \u001b[0;36mwait\u001b[0;34m(object_list, timeout)\u001b[0m\n\u001b[1;32m    919\u001b[0m             \u001b[0;32mwhile\u001b[0m \u001b[0;32mTrue\u001b[0m\u001b[0;34m:\u001b[0m\u001b[0;34m\u001b[0m\u001b[0;34m\u001b[0m\u001b[0m\n\u001b[0;32m--> 920\u001b[0;31m                 \u001b[0mready\u001b[0m \u001b[0;34m=\u001b[0m \u001b[0mselector\u001b[0m\u001b[0;34m.\u001b[0m\u001b[0mselect\u001b[0m\u001b[0;34m(\u001b[0m\u001b[0mtimeout\u001b[0m\u001b[0;34m)\u001b[0m\u001b[0;34m\u001b[0m\u001b[0;34m\u001b[0m\u001b[0m\n\u001b[0m\u001b[1;32m    921\u001b[0m                 \u001b[0;32mif\u001b[0m \u001b[0mready\u001b[0m\u001b[0;34m:\u001b[0m\u001b[0;34m\u001b[0m\u001b[0;34m\u001b[0m\u001b[0m\n",
      "\u001b[0;32m~/anaconda3/lib/python3.7/selectors.py\u001b[0m in \u001b[0;36mselect\u001b[0;34m(self, timeout)\u001b[0m\n\u001b[1;32m    414\u001b[0m         \u001b[0;32mtry\u001b[0m\u001b[0;34m:\u001b[0m\u001b[0;34m\u001b[0m\u001b[0;34m\u001b[0m\u001b[0m\n\u001b[0;32m--> 415\u001b[0;31m             \u001b[0mfd_event_list\u001b[0m \u001b[0;34m=\u001b[0m \u001b[0mself\u001b[0m\u001b[0;34m.\u001b[0m\u001b[0m_selector\u001b[0m\u001b[0;34m.\u001b[0m\u001b[0mpoll\u001b[0m\u001b[0;34m(\u001b[0m\u001b[0mtimeout\u001b[0m\u001b[0;34m)\u001b[0m\u001b[0;34m\u001b[0m\u001b[0;34m\u001b[0m\u001b[0m\n\u001b[0m\u001b[1;32m    416\u001b[0m         \u001b[0;32mexcept\u001b[0m \u001b[0mInterruptedError\u001b[0m\u001b[0;34m:\u001b[0m\u001b[0;34m\u001b[0m\u001b[0;34m\u001b[0m\u001b[0m\n",
      "\u001b[0;31mKeyboardInterrupt\u001b[0m: ",
      "\nDuring handling of the above exception, another exception occurred:\n",
      "\u001b[0;31mValueError\u001b[0m                                Traceback (most recent call last)",
      "\u001b[0;32m<ipython-input-95-9c25976c80d9>\u001b[0m in \u001b[0;36m<module>\u001b[0;34m\u001b[0m\n\u001b[1;32m      1\u001b[0m \u001b[0msampler\u001b[0m \u001b[0;34m=\u001b[0m \u001b[0mxo\u001b[0m\u001b[0;34m.\u001b[0m\u001b[0mPyMC3Sampler\u001b[0m\u001b[0;34m(\u001b[0m\u001b[0mstart\u001b[0m\u001b[0;34m=\u001b[0m\u001b[0;36m100\u001b[0m\u001b[0;34m,\u001b[0m \u001b[0mwindow\u001b[0m\u001b[0;34m=\u001b[0m\u001b[0;36m100\u001b[0m\u001b[0;34m,\u001b[0m \u001b[0mfinish\u001b[0m\u001b[0;34m=\u001b[0m\u001b[0;36m500\u001b[0m\u001b[0;34m,\u001b[0m \u001b[0mchains\u001b[0m\u001b[0;34m=\u001b[0m\u001b[0;36m2\u001b[0m\u001b[0;34m)\u001b[0m\u001b[0;34m\u001b[0m\u001b[0;34m\u001b[0m\u001b[0m\n\u001b[1;32m      2\u001b[0m \u001b[0;32mwith\u001b[0m \u001b[0mmodel\u001b[0m\u001b[0;34m:\u001b[0m\u001b[0;34m\u001b[0m\u001b[0;34m\u001b[0m\u001b[0m\n\u001b[0;32m----> 3\u001b[0;31m     \u001b[0mburnin\u001b[0m \u001b[0;34m=\u001b[0m \u001b[0msampler\u001b[0m\u001b[0;34m.\u001b[0m\u001b[0mtune\u001b[0m\u001b[0;34m(\u001b[0m\u001b[0mtune\u001b[0m\u001b[0;34m=\u001b[0m\u001b[0;36m1000\u001b[0m\u001b[0;34m,\u001b[0m \u001b[0mstep_kwargs\u001b[0m\u001b[0;34m=\u001b[0m\u001b[0mdict\u001b[0m\u001b[0;34m(\u001b[0m\u001b[0mtarget_accept\u001b[0m\u001b[0;34m=\u001b[0m\u001b[0;36m0.9\u001b[0m\u001b[0;34m)\u001b[0m\u001b[0;34m,\u001b[0m \u001b[0mstart\u001b[0m\u001b[0;34m=\u001b[0m\u001b[0mmap_params\u001b[0m\u001b[0;34m)\u001b[0m\u001b[0;34m\u001b[0m\u001b[0;34m\u001b[0m\u001b[0m\n\u001b[0m",
      "\u001b[0;32m~/anaconda3/lib/python3.7/site-packages/exoplanet/sampling.py\u001b[0m in \u001b[0;36mtune\u001b[0;34m(self, tune, start, step_kwargs, **kwargs)\u001b[0m\n\u001b[1;32m    214\u001b[0m                 \u001b[0msteps\u001b[0m\u001b[0;34m=\u001b[0m\u001b[0msteps\u001b[0m\u001b[0;34m,\u001b[0m\u001b[0;34m\u001b[0m\u001b[0;34m\u001b[0m\u001b[0m\n\u001b[1;32m    215\u001b[0m                 \u001b[0mtrace\u001b[0m\u001b[0;34m=\u001b[0m\u001b[0mtrace\u001b[0m\u001b[0;34m,\u001b[0m\u001b[0;34m\u001b[0m\u001b[0;34m\u001b[0m\u001b[0m\n\u001b[0;32m--> 216\u001b[0;31m                 \u001b[0;34m**\u001b[0m\u001b[0mkwargs\u001b[0m\u001b[0;34m\u001b[0m\u001b[0;34m\u001b[0m\u001b[0m\n\u001b[0m\u001b[1;32m    217\u001b[0m             )\n\u001b[1;32m    218\u001b[0m             \u001b[0msteps\u001b[0m \u001b[0;34m*=\u001b[0m \u001b[0;36m2\u001b[0m\u001b[0;34m\u001b[0m\u001b[0;34m\u001b[0m\u001b[0m\n",
      "\u001b[0;32m~/anaconda3/lib/python3.7/site-packages/exoplanet/sampling.py\u001b[0m in \u001b[0;36mextend_tune\u001b[0;34m(self, steps, start, step_kwargs, trace, step, **kwargs)\u001b[0m\n\u001b[1;32m    181\u001b[0m             \u001b[0mstart\u001b[0m\u001b[0;34m=\u001b[0m\u001b[0mstart\u001b[0m\u001b[0;34m,\u001b[0m \u001b[0mstep_kwargs\u001b[0m\u001b[0;34m=\u001b[0m\u001b[0mstep_kwargs\u001b[0m\u001b[0;34m,\u001b[0m \u001b[0mtrace\u001b[0m\u001b[0;34m=\u001b[0m\u001b[0mtrace\u001b[0m\u001b[0;34m,\u001b[0m \u001b[0mstep\u001b[0m\u001b[0;34m=\u001b[0m\u001b[0mstep\u001b[0m\u001b[0;34m\u001b[0m\u001b[0;34m\u001b[0m\u001b[0m\n\u001b[1;32m    182\u001b[0m         )\n\u001b[0;32m--> 183\u001b[0;31m         \u001b[0mself\u001b[0m\u001b[0;34m.\u001b[0m\u001b[0m_extend\u001b[0m\u001b[0;34m(\u001b[0m\u001b[0msteps\u001b[0m\u001b[0;34m,\u001b[0m \u001b[0mstart\u001b[0m\u001b[0;34m=\u001b[0m\u001b[0mstart\u001b[0m\u001b[0;34m,\u001b[0m \u001b[0mstep\u001b[0m\u001b[0;34m=\u001b[0m\u001b[0mstep\u001b[0m\u001b[0;34m,\u001b[0m \u001b[0;34m**\u001b[0m\u001b[0mkwargs\u001b[0m\u001b[0;34m)\u001b[0m\u001b[0;34m\u001b[0m\u001b[0;34m\u001b[0m\u001b[0m\n\u001b[0m\u001b[1;32m    184\u001b[0m         \u001b[0mself\u001b[0m\u001b[0;34m.\u001b[0m\u001b[0m_current_step\u001b[0m \u001b[0;34m=\u001b[0m \u001b[0mstep\u001b[0m\u001b[0;34m\u001b[0m\u001b[0;34m\u001b[0m\u001b[0m\n\u001b[1;32m    185\u001b[0m         \u001b[0;32mreturn\u001b[0m \u001b[0mself\u001b[0m\u001b[0;34m.\u001b[0m\u001b[0m_current_trace\u001b[0m\u001b[0;34m\u001b[0m\u001b[0;34m\u001b[0m\u001b[0m\n",
      "\u001b[0;32m~/anaconda3/lib/python3.7/site-packages/exoplanet/sampling.py\u001b[0m in \u001b[0;36m_extend\u001b[0;34m(self, steps, start, step, **kwargs)\u001b[0m\n\u001b[1;32m    126\u001b[0m \u001b[0;34m\u001b[0m\u001b[0m\n\u001b[1;32m    127\u001b[0m         self._current_trace = pm.sample(\n\u001b[0;32m--> 128\u001b[0;31m             \u001b[0mstart\u001b[0m\u001b[0;34m=\u001b[0m\u001b[0mstart\u001b[0m\u001b[0;34m,\u001b[0m \u001b[0mtune\u001b[0m\u001b[0;34m=\u001b[0m\u001b[0msteps\u001b[0m\u001b[0;34m,\u001b[0m \u001b[0mstep\u001b[0m\u001b[0;34m=\u001b[0m\u001b[0mstep\u001b[0m\u001b[0;34m,\u001b[0m \u001b[0;34m**\u001b[0m\u001b[0mkwargs\u001b[0m\u001b[0;34m\u001b[0m\u001b[0;34m\u001b[0m\u001b[0m\n\u001b[0m\u001b[1;32m    129\u001b[0m         )\n\u001b[1;32m    130\u001b[0m         \u001b[0mself\u001b[0m\u001b[0;34m.\u001b[0m\u001b[0mcount\u001b[0m \u001b[0;34m+=\u001b[0m \u001b[0msteps\u001b[0m\u001b[0;34m\u001b[0m\u001b[0;34m\u001b[0m\u001b[0m\n",
      "\u001b[0;32m~/anaconda3/lib/python3.7/site-packages/pymc3/sampling.py\u001b[0m in \u001b[0;36msample\u001b[0;34m(draws, step, init, n_init, start, trace, chain_idx, chains, cores, tune, progressbar, model, random_seed, discard_tuned_samples, compute_convergence_checks, **kwargs)\u001b[0m\n\u001b[1;32m    435\u001b[0m             \u001b[0m_print_step_hierarchy\u001b[0m\u001b[0;34m(\u001b[0m\u001b[0mstep\u001b[0m\u001b[0;34m)\u001b[0m\u001b[0;34m\u001b[0m\u001b[0;34m\u001b[0m\u001b[0m\n\u001b[1;32m    436\u001b[0m             \u001b[0;32mtry\u001b[0m\u001b[0;34m:\u001b[0m\u001b[0;34m\u001b[0m\u001b[0;34m\u001b[0m\u001b[0m\n\u001b[0;32m--> 437\u001b[0;31m                 \u001b[0mtrace\u001b[0m \u001b[0;34m=\u001b[0m \u001b[0m_mp_sample\u001b[0m\u001b[0;34m(\u001b[0m\u001b[0;34m**\u001b[0m\u001b[0msample_args\u001b[0m\u001b[0;34m)\u001b[0m\u001b[0;34m\u001b[0m\u001b[0;34m\u001b[0m\u001b[0m\n\u001b[0m\u001b[1;32m    438\u001b[0m             \u001b[0;32mexcept\u001b[0m \u001b[0mpickle\u001b[0m\u001b[0;34m.\u001b[0m\u001b[0mPickleError\u001b[0m\u001b[0;34m:\u001b[0m\u001b[0;34m\u001b[0m\u001b[0;34m\u001b[0m\u001b[0m\n\u001b[1;32m    439\u001b[0m                 \u001b[0m_log\u001b[0m\u001b[0;34m.\u001b[0m\u001b[0mwarning\u001b[0m\u001b[0;34m(\u001b[0m\u001b[0;34m\"Could not pickle model, sampling singlethreaded.\"\u001b[0m\u001b[0;34m)\u001b[0m\u001b[0;34m\u001b[0m\u001b[0;34m\u001b[0m\u001b[0m\n",
      "\u001b[0;32m~/anaconda3/lib/python3.7/site-packages/pymc3/sampling.py\u001b[0m in \u001b[0;36m_mp_sample\u001b[0;34m(draws, tune, step, chains, cores, chain, random_seed, start, progressbar, trace, model, **kwargs)\u001b[0m\n\u001b[1;32m    989\u001b[0m         \u001b[0;32mreturn\u001b[0m \u001b[0mMultiTrace\u001b[0m\u001b[0;34m(\u001b[0m\u001b[0mtraces\u001b[0m\u001b[0;34m)\u001b[0m\u001b[0;34m\u001b[0m\u001b[0;34m\u001b[0m\u001b[0m\n\u001b[1;32m    990\u001b[0m     \u001b[0;32mexcept\u001b[0m \u001b[0mKeyboardInterrupt\u001b[0m\u001b[0;34m:\u001b[0m\u001b[0;34m\u001b[0m\u001b[0;34m\u001b[0m\u001b[0m\n\u001b[0;32m--> 991\u001b[0;31m         \u001b[0mtraces\u001b[0m\u001b[0;34m,\u001b[0m \u001b[0mlength\u001b[0m \u001b[0;34m=\u001b[0m \u001b[0m_choose_chains\u001b[0m\u001b[0;34m(\u001b[0m\u001b[0mtraces\u001b[0m\u001b[0;34m,\u001b[0m \u001b[0mtune\u001b[0m\u001b[0;34m)\u001b[0m\u001b[0;34m\u001b[0m\u001b[0;34m\u001b[0m\u001b[0m\n\u001b[0m\u001b[1;32m    992\u001b[0m         \u001b[0;32mreturn\u001b[0m \u001b[0mMultiTrace\u001b[0m\u001b[0;34m(\u001b[0m\u001b[0mtraces\u001b[0m\u001b[0;34m)\u001b[0m\u001b[0;34m[\u001b[0m\u001b[0;34m:\u001b[0m\u001b[0mlength\u001b[0m\u001b[0;34m]\u001b[0m\u001b[0;34m\u001b[0m\u001b[0;34m\u001b[0m\u001b[0m\n\u001b[1;32m    993\u001b[0m     \u001b[0;32mfinally\u001b[0m\u001b[0;34m:\u001b[0m\u001b[0;34m\u001b[0m\u001b[0;34m\u001b[0m\u001b[0m\n",
      "\u001b[0;32m~/anaconda3/lib/python3.7/site-packages/pymc3/sampling.py\u001b[0m in \u001b[0;36m_choose_chains\u001b[0;34m(traces, tune)\u001b[0m\n\u001b[1;32m   1005\u001b[0m     \u001b[0mlengths\u001b[0m \u001b[0;34m=\u001b[0m \u001b[0;34m[\u001b[0m\u001b[0mmax\u001b[0m\u001b[0;34m(\u001b[0m\u001b[0;36m0\u001b[0m\u001b[0;34m,\u001b[0m \u001b[0mlen\u001b[0m\u001b[0;34m(\u001b[0m\u001b[0mtrace\u001b[0m\u001b[0;34m)\u001b[0m \u001b[0;34m-\u001b[0m \u001b[0mtune\u001b[0m\u001b[0;34m)\u001b[0m \u001b[0;32mfor\u001b[0m \u001b[0mtrace\u001b[0m \u001b[0;32min\u001b[0m \u001b[0mtraces\u001b[0m\u001b[0;34m]\u001b[0m\u001b[0;34m\u001b[0m\u001b[0;34m\u001b[0m\u001b[0m\n\u001b[1;32m   1006\u001b[0m     \u001b[0;32mif\u001b[0m \u001b[0;32mnot\u001b[0m \u001b[0msum\u001b[0m\u001b[0;34m(\u001b[0m\u001b[0mlengths\u001b[0m\u001b[0;34m)\u001b[0m\u001b[0;34m:\u001b[0m\u001b[0;34m\u001b[0m\u001b[0;34m\u001b[0m\u001b[0m\n\u001b[0;32m-> 1007\u001b[0;31m         \u001b[0;32mraise\u001b[0m \u001b[0mValueError\u001b[0m\u001b[0;34m(\u001b[0m\u001b[0;34m'Not enough samples to build a trace.'\u001b[0m\u001b[0;34m)\u001b[0m\u001b[0;34m\u001b[0m\u001b[0;34m\u001b[0m\u001b[0m\n\u001b[0m\u001b[1;32m   1008\u001b[0m \u001b[0;34m\u001b[0m\u001b[0m\n\u001b[1;32m   1009\u001b[0m     \u001b[0midxs\u001b[0m \u001b[0;34m=\u001b[0m \u001b[0mnp\u001b[0m\u001b[0;34m.\u001b[0m\u001b[0margsort\u001b[0m\u001b[0;34m(\u001b[0m\u001b[0mlengths\u001b[0m\u001b[0;34m)\u001b[0m\u001b[0;34m[\u001b[0m\u001b[0;34m:\u001b[0m\u001b[0;34m:\u001b[0m\u001b[0;34m-\u001b[0m\u001b[0;36m1\u001b[0m\u001b[0;34m]\u001b[0m\u001b[0;34m\u001b[0m\u001b[0;34m\u001b[0m\u001b[0m\n",
      "\u001b[0;31mValueError\u001b[0m: Not enough samples to build a trace."
     ]
    }
   ],
   "source": [
    "sampler = xo.PyMC3Sampler(start=100, window=100, finish=500, chains=2)\n",
    "with model:\n",
    "    burnin = sampler.tune(tune=1000, step_kwargs=dict(target_accept=0.9), start=map_params)"
   ]
  },
  {
   "cell_type": "code",
   "execution_count": null,
   "metadata": {},
   "outputs": [],
   "source": []
  },
  {
   "cell_type": "code",
   "execution_count": 113,
   "metadata": {},
   "outputs": [
    {
     "data": {
      "text/html": [
       "<div>\n",
       "<style scoped>\n",
       "    .dataframe tbody tr th:only-of-type {\n",
       "        vertical-align: middle;\n",
       "    }\n",
       "\n",
       "    .dataframe tbody tr th {\n",
       "        vertical-align: top;\n",
       "    }\n",
       "\n",
       "    .dataframe thead th {\n",
       "        text-align: right;\n",
       "    }\n",
       "</style>\n",
       "<table border=\"1\" class=\"dataframe\">\n",
       "  <thead>\n",
       "    <tr style=\"text-align: right;\">\n",
       "      <th></th>\n",
       "      <th>mean</th>\n",
       "      <th>sd</th>\n",
       "      <th>mc_error</th>\n",
       "      <th>hpd_2.5</th>\n",
       "      <th>hpd_97.5</th>\n",
       "      <th>n_eff</th>\n",
       "      <th>Rhat</th>\n",
       "    </tr>\n",
       "  </thead>\n",
       "  <tbody>\n",
       "    <tr>\n",
       "      <th>logs_lc</th>\n",
       "      <td>-1.184980e+00</td>\n",
       "      <td>2.587202e-03</td>\n",
       "      <td>8.446848e-05</td>\n",
       "      <td>-1.189964e+00</td>\n",
       "      <td>-1.179802e+00</td>\n",
       "      <td>744.746085</td>\n",
       "      <td>0.999527</td>\n",
       "    </tr>\n",
       "    <tr>\n",
       "      <th>mean</th>\n",
       "      <td>-1.055745e-04</td>\n",
       "      <td>1.088681e-03</td>\n",
       "      <td>3.677544e-05</td>\n",
       "      <td>-2.268896e-03</td>\n",
       "      <td>1.860111e-03</td>\n",
       "      <td>685.952393</td>\n",
       "      <td>1.001982</td>\n",
       "    </tr>\n",
       "    <tr>\n",
       "      <th>lognu__0</th>\n",
       "      <td>3.912023e+00</td>\n",
       "      <td>1.475948e-08</td>\n",
       "      <td>7.538497e-10</td>\n",
       "      <td>3.912023e+00</td>\n",
       "      <td>3.912023e+00</td>\n",
       "      <td>384.507109</td>\n",
       "      <td>1.001926</td>\n",
       "    </tr>\n",
       "    <tr>\n",
       "      <th>logP</th>\n",
       "      <td>5.709772e+00</td>\n",
       "      <td>1.767603e+00</td>\n",
       "      <td>8.698861e-02</td>\n",
       "      <td>2.738882e+00</td>\n",
       "      <td>8.487763e+00</td>\n",
       "      <td>235.107832</td>\n",
       "      <td>1.004883</td>\n",
       "    </tr>\n",
       "    <tr>\n",
       "      <th>period</th>\n",
       "      <td>9.732761e+02</td>\n",
       "      <td>1.290794e+03</td>\n",
       "      <td>5.239732e+01</td>\n",
       "      <td>1.003408e+01</td>\n",
       "      <td>4.010982e+03</td>\n",
       "      <td>521.815191</td>\n",
       "      <td>1.007127</td>\n",
       "    </tr>\n",
       "    <tr>\n",
       "      <th>phi</th>\n",
       "      <td>7.328886e-03</td>\n",
       "      <td>1.768326e+00</td>\n",
       "      <td>8.445649e-02</td>\n",
       "      <td>-3.012153e+00</td>\n",
       "      <td>2.853028e+00</td>\n",
       "      <td>323.255937</td>\n",
       "      <td>1.000257</td>\n",
       "    </tr>\n",
       "    <tr>\n",
       "      <th>logasini</th>\n",
       "      <td>-2.814298e+00</td>\n",
       "      <td>2.064657e+00</td>\n",
       "      <td>1.046570e-01</td>\n",
       "      <td>-6.669851e+00</td>\n",
       "      <td>3.992745e-01</td>\n",
       "      <td>308.950331</td>\n",
       "      <td>1.000035</td>\n",
       "    </tr>\n",
       "    <tr>\n",
       "      <th>asini</th>\n",
       "      <td>3.212217e-01</td>\n",
       "      <td>8.553289e-01</td>\n",
       "      <td>5.557884e-02</td>\n",
       "      <td>1.038052e-03</td>\n",
       "      <td>1.296913e+00</td>\n",
       "      <td>221.594968</td>\n",
       "      <td>1.000397</td>\n",
       "    </tr>\n",
       "    <tr>\n",
       "      <th>nu__0</th>\n",
       "      <td>5.000000e+01</td>\n",
       "      <td>7.379742e-07</td>\n",
       "      <td>3.769248e-08</td>\n",
       "      <td>5.000000e+01</td>\n",
       "      <td>5.000000e+01</td>\n",
       "      <td>384.507125</td>\n",
       "      <td>1.001926</td>\n",
       "    </tr>\n",
       "    <tr>\n",
       "      <th>mass_function</th>\n",
       "      <td>5.374470e+23</td>\n",
       "      <td>3.027200e+24</td>\n",
       "      <td>2.819122e+23</td>\n",
       "      <td>3.970389e+11</td>\n",
       "      <td>1.835203e+23</td>\n",
       "      <td>36.838411</td>\n",
       "      <td>1.027540</td>\n",
       "    </tr>\n",
       "  </tbody>\n",
       "</table>\n",
       "</div>"
      ],
      "text/plain": [
       "                       mean            sd      mc_error       hpd_2.5  \\\n",
       "logs_lc       -1.184980e+00  2.587202e-03  8.446848e-05 -1.189964e+00   \n",
       "mean          -1.055745e-04  1.088681e-03  3.677544e-05 -2.268896e-03   \n",
       "lognu__0       3.912023e+00  1.475948e-08  7.538497e-10  3.912023e+00   \n",
       "logP           5.709772e+00  1.767603e+00  8.698861e-02  2.738882e+00   \n",
       "period         9.732761e+02  1.290794e+03  5.239732e+01  1.003408e+01   \n",
       "phi            7.328886e-03  1.768326e+00  8.445649e-02 -3.012153e+00   \n",
       "logasini      -2.814298e+00  2.064657e+00  1.046570e-01 -6.669851e+00   \n",
       "asini          3.212217e-01  8.553289e-01  5.557884e-02  1.038052e-03   \n",
       "nu__0          5.000000e+01  7.379742e-07  3.769248e-08  5.000000e+01   \n",
       "mass_function  5.374470e+23  3.027200e+24  2.819122e+23  3.970389e+11   \n",
       "\n",
       "                   hpd_97.5       n_eff      Rhat  \n",
       "logs_lc       -1.179802e+00  744.746085  0.999527  \n",
       "mean           1.860111e-03  685.952393  1.001982  \n",
       "lognu__0       3.912023e+00  384.507109  1.001926  \n",
       "logP           8.487763e+00  235.107832  1.004883  \n",
       "period         4.010982e+03  521.815191  1.007127  \n",
       "phi            2.853028e+00  323.255937  1.000257  \n",
       "logasini       3.992745e-01  308.950331  1.000035  \n",
       "asini          1.296913e+00  221.594968  1.000397  \n",
       "nu__0          5.000000e+01  384.507125  1.001926  \n",
       "mass_function  1.835203e+23   36.838411  1.027540  "
      ]
     },
     "execution_count": 113,
     "metadata": {},
     "output_type": "execute_result"
    }
   ],
   "source": [
    "pm.summary(trace)"
   ]
  },
  {
   "cell_type": "code",
   "execution_count": 115,
   "metadata": {},
   "outputs": [
    {
     "data": {
      "text/plain": [
       "'traces/planet_test/1000d_0x7'"
      ]
     },
     "execution_count": 115,
     "metadata": {},
     "output_type": "execute_result"
    }
   ],
   "source": []
  },
  {
   "cell_type": "code",
   "execution_count": 116,
   "metadata": {},
   "outputs": [
    {
     "name": "stderr",
     "output_type": "stream",
     "text": [
      "WARNING:root:Too few points to create valid contours\n"
     ]
    },
    {
     "data": {
      "image/png": "[encoded data removed]",
      "text/plain": [
       "<Figure size 396x396 with 4 Axes>"
      ]
     },
     "metadata": {
      "needs_background": "light"
     },
     "output_type": "display_data"
    }
   ],
   "source": [
    "corner.corner(pm.trace_to_dataframe(trace, varnames=['period', 'asini']));"
   ]
  },
  {
   "cell_type": "code",
   "execution_count": 117,
   "metadata": {},
   "outputs": [
    {
     "name": "stdout",
     "output_type": "stream",
     "text": [
      "period :  352.7597  +  2014.3835  -  317.6816\n",
      "asini :  0.068  +  0.4588  -  0.0627\n",
      "phi :  0.117  +  1.9016  -  2.2087\n"
     ]
    }
   ],
   "source": [
    "\n",
    "varnames=['period', 'asini', 'phi']\n",
    "rounding = 4\n",
    "for varname in varnames:\n",
    "    upper, med, lower = np.percentile(trace[varname], [84.13, 50, 15.86])\n",
    "    print(varname, ': ', np.round(med,rounding), ' + ', np.round(upper - med,rounding), ' - ', np.round(med - lower,rounding))"
   ]
  },
  {
   "cell_type": "code",
   "execution_count": 118,
   "metadata": {},
   "outputs": [
    {
     "data": {
      "text/html": [
       "<div>\n",
       "<style scoped>\n",
       "    .dataframe tbody tr th:only-of-type {\n",
       "        vertical-align: middle;\n",
       "    }\n",
       "\n",
       "    .dataframe tbody tr th {\n",
       "        vertical-align: top;\n",
       "    }\n",
       "\n",
       "    .dataframe thead th {\n",
       "        text-align: right;\n",
       "    }\n",
       "</style>\n",
       "<table border=\"1\" class=\"dataframe\">\n",
       "  <thead>\n",
       "    <tr style=\"text-align: right;\">\n",
       "      <th></th>\n",
       "      <th>mean</th>\n",
       "      <th>sd</th>\n",
       "      <th>mc_error</th>\n",
       "      <th>hpd_2.5</th>\n",
       "      <th>hpd_97.5</th>\n",
       "      <th>n_eff</th>\n",
       "      <th>Rhat</th>\n",
       "    </tr>\n",
       "  </thead>\n",
       "  <tbody>\n",
       "    <tr>\n",
       "      <th>logs_lc</th>\n",
       "      <td>-1.184980e+00</td>\n",
       "      <td>2.587202e-03</td>\n",
       "      <td>8.446848e-05</td>\n",
       "      <td>-1.189964e+00</td>\n",
       "      <td>-1.179802e+00</td>\n",
       "      <td>744.746085</td>\n",
       "      <td>0.999527</td>\n",
       "    </tr>\n",
       "    <tr>\n",
       "      <th>mean</th>\n",
       "      <td>-1.055745e-04</td>\n",
       "      <td>1.088681e-03</td>\n",
       "      <td>3.677544e-05</td>\n",
       "      <td>-2.268896e-03</td>\n",
       "      <td>1.860111e-03</td>\n",
       "      <td>685.952393</td>\n",
       "      <td>1.001982</td>\n",
       "    </tr>\n",
       "    <tr>\n",
       "      <th>lognu__0</th>\n",
       "      <td>3.912023e+00</td>\n",
       "      <td>1.475948e-08</td>\n",
       "      <td>7.538497e-10</td>\n",
       "      <td>3.912023e+00</td>\n",
       "      <td>3.912023e+00</td>\n",
       "      <td>384.507109</td>\n",
       "      <td>1.001926</td>\n",
       "    </tr>\n",
       "    <tr>\n",
       "      <th>logP</th>\n",
       "      <td>5.709772e+00</td>\n",
       "      <td>1.767603e+00</td>\n",
       "      <td>8.698861e-02</td>\n",
       "      <td>2.738882e+00</td>\n",
       "      <td>8.487763e+00</td>\n",
       "      <td>235.107832</td>\n",
       "      <td>1.004883</td>\n",
       "    </tr>\n",
       "    <tr>\n",
       "      <th>period</th>\n",
       "      <td>9.732761e+02</td>\n",
       "      <td>1.290794e+03</td>\n",
       "      <td>5.239732e+01</td>\n",
       "      <td>1.003408e+01</td>\n",
       "      <td>4.010982e+03</td>\n",
       "      <td>521.815191</td>\n",
       "      <td>1.007127</td>\n",
       "    </tr>\n",
       "    <tr>\n",
       "      <th>phi</th>\n",
       "      <td>7.328886e-03</td>\n",
       "      <td>1.768326e+00</td>\n",
       "      <td>8.445649e-02</td>\n",
       "      <td>-3.012153e+00</td>\n",
       "      <td>2.853028e+00</td>\n",
       "      <td>323.255937</td>\n",
       "      <td>1.000257</td>\n",
       "    </tr>\n",
       "    <tr>\n",
       "      <th>logasini</th>\n",
       "      <td>-2.814298e+00</td>\n",
       "      <td>2.064657e+00</td>\n",
       "      <td>1.046570e-01</td>\n",
       "      <td>-6.669851e+00</td>\n",
       "      <td>3.992745e-01</td>\n",
       "      <td>308.950331</td>\n",
       "      <td>1.000035</td>\n",
       "    </tr>\n",
       "    <tr>\n",
       "      <th>asini</th>\n",
       "      <td>3.212217e-01</td>\n",
       "      <td>8.553289e-01</td>\n",
       "      <td>5.557884e-02</td>\n",
       "      <td>1.038052e-03</td>\n",
       "      <td>1.296913e+00</td>\n",
       "      <td>221.594968</td>\n",
       "      <td>1.000397</td>\n",
       "    </tr>\n",
       "    <tr>\n",
       "      <th>nu__0</th>\n",
       "      <td>5.000000e+01</td>\n",
       "      <td>7.379742e-07</td>\n",
       "      <td>3.769248e-08</td>\n",
       "      <td>5.000000e+01</td>\n",
       "      <td>5.000000e+01</td>\n",
       "      <td>384.507125</td>\n",
       "      <td>1.001926</td>\n",
       "    </tr>\n",
       "    <tr>\n",
       "      <th>mass_function</th>\n",
       "      <td>5.374470e+23</td>\n",
       "      <td>3.027200e+24</td>\n",
       "      <td>2.819122e+23</td>\n",
       "      <td>3.970389e+11</td>\n",
       "      <td>1.835203e+23</td>\n",
       "      <td>36.838411</td>\n",
       "      <td>1.027540</td>\n",
       "    </tr>\n",
       "  </tbody>\n",
       "</table>\n",
       "</div>"
      ],
      "text/plain": [
       "                       mean            sd      mc_error       hpd_2.5  \\\n",
       "logs_lc       -1.184980e+00  2.587202e-03  8.446848e-05 -1.189964e+00   \n",
       "mean          -1.055745e-04  1.088681e-03  3.677544e-05 -2.268896e-03   \n",
       "lognu__0       3.912023e+00  1.475948e-08  7.538497e-10  3.912023e+00   \n",
       "logP           5.709772e+00  1.767603e+00  8.698861e-02  2.738882e+00   \n",
       "period         9.732761e+02  1.290794e+03  5.239732e+01  1.003408e+01   \n",
       "phi            7.328886e-03  1.768326e+00  8.445649e-02 -3.012153e+00   \n",
       "logasini      -2.814298e+00  2.064657e+00  1.046570e-01 -6.669851e+00   \n",
       "asini          3.212217e-01  8.553289e-01  5.557884e-02  1.038052e-03   \n",
       "nu__0          5.000000e+01  7.379742e-07  3.769248e-08  5.000000e+01   \n",
       "mass_function  5.374470e+23  3.027200e+24  2.819122e+23  3.970389e+11   \n",
       "\n",
       "                   hpd_97.5       n_eff      Rhat  \n",
       "logs_lc       -1.179802e+00  744.746085  0.999527  \n",
       "mean           1.860111e-03  685.952393  1.001982  \n",
       "lognu__0       3.912023e+00  384.507109  1.001926  \n",
       "logP           8.487763e+00  235.107832  1.004883  \n",
       "period         4.010982e+03  521.815191  1.007127  \n",
       "phi            2.853028e+00  323.255937  1.000257  \n",
       "logasini       3.992745e-01  308.950331  1.000035  \n",
       "asini          1.296913e+00  221.594968  1.000397  \n",
       "nu__0          5.000000e+01  384.507125  1.001926  \n",
       "mass_function  1.835203e+23   36.838411  1.027540  "
      ]
     },
     "execution_count": 118,
     "metadata": {},
     "output_type": "execute_result"
    }
   ],
   "source": [
    "pm.summary(trace)"
   ]
  },
  {
   "cell_type": "code",
   "execution_count": null,
   "metadata": {},
   "outputs": [],
   "source": []
  },
  {
   "cell_type": "code",
   "execution_count": null,
   "metadata": {},
   "outputs": [],
   "source": []
  },
  {
   "cell_type": "code",
   "execution_count": null,
   "metadata": {},
   "outputs": [],
   "source": []
  },
  {
   "cell_type": "code",
   "execution_count": null,
   "metadata": {},
   "outputs": [],
   "source": []
  }
 ],
 "metadata": {
  "kernelspec": {
   "display_name": "Python 3",
   "language": "python",
   "name": "python3"
  },
  "language_info": {
   "codemirror_mode": {
    "name": "ipython",
    "version": 3
   },
   "file_extension": ".py",
   "mimetype": "text/x-python",
   "name": "python",
   "nbconvert_exporter": "python",
   "pygments_lexer": "ipython3",
   "version": "3.7.3"
  }
 },
 "nbformat": 4,
 "nbformat_minor": 4
}

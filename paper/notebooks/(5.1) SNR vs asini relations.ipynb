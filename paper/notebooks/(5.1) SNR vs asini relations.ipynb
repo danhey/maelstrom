{
 "cells": [
  {
   "cell_type": "code",
   "execution_count": 6,
   "metadata": {},
   "outputs": [],
   "source": [
    "%run paper/setup.py"
   ]
  },
  {
   "cell_type": "code",
   "execution_count": 2,
   "metadata": {},
   "outputs": [],
   "source": [
    "t, y = np.loadtxt('paper/data/dsct_eigenfrequencies.txt', usecols=(0,1)).T\n",
    "y *= 1e3"
   ]
  },
  {
   "cell_type": "code",
   "execution_count": 3,
   "metadata": {},
   "outputs": [],
   "source": [
    "from maelstrom.utils import amplitude_spectrum"
   ]
  },
  {
   "cell_type": "code",
   "execution_count": 4,
   "metadata": {},
   "outputs": [
    {
     "name": "stderr",
     "output_type": "stream",
     "text": [
      "WARNING: AstropyDeprecationWarning: Importing LombScargle from astropy.stats has been deprecated and will no longer be supported in future. Please import this class from the astropy.timeseries module instead [astropy.stats.lombscargle]\n"
     ]
    },
    {
     "data": {
      "text/plain": [
       "[<matplotlib.lines.Line2D at 0x1c263ec7f0>]"
      ]
     },
     "execution_count": 4,
     "metadata": {},
     "output_type": "execute_result"
    },
    {
     "data": {
      "image/png": "[encoded data removed]",
      "text/plain": [
       "<Figure size 432x288 with 1 Axes>"
      ]
     },
     "metadata": {
      "needs_background": "light"
     },
     "output_type": "display_data"
    }
   ],
   "source": [
    "plt.plot(*amplitude_spectrum(t,y, fmax=48), linewidth=0.5)"
   ]
  },
  {
   "cell_type": "code",
   "execution_count": 5,
   "metadata": {},
   "outputs": [],
   "source": [
    "from exoplanet.utils import eval_in_model\n",
    "from exoplanet.orbits import get_true_anomaly\n",
    "import pymc3 as pm\n",
    "import theano.tensor as tt\n",
    "\n",
    "class SyntheticBinary(object):\n",
    "    \"\"\"\n",
    "    This class makes a synthetic light curve and injects a time delay signal corresponding to the input binary orbit parameters    \n",
    "    \"\"\"\n",
    "    def __init__(self, time, freq, amplitude, \n",
    "                 period, eccen, asini, varpi, tref, tau=True):\n",
    "        self.time = time\n",
    "        self.freq = freq\n",
    "        self.amplitude = amplitude\n",
    "        self.period, self.eccen, self.asini, self.varpi, self.tref = period, eccen, asini, varpi, tref\n",
    "        \n",
    "        self.make_lightcurve(tau=tau)\n",
    "        self.flux = self.flux_true\n",
    "        \n",
    "    def make_lightcurve(self, tau=True):\n",
    "        self.flux_true = np.zeros(len(self.time))\n",
    "        #self.tau = 0\n",
    "        if tau:\n",
    "            with pm.Model() as model:\n",
    "                #M = tt.zeros_like(tt.constant(self.time) - self.tref) + 2.0 * np.pi * (tt.constant(self.time)) / self.period\n",
    "                M = 2.0 * np.pi * (tt.constant(self.time) - self.tref) / self.period\n",
    "                f = get_true_anomaly(M, self.eccen + tt.zeros_like(M))\n",
    "                tau_tens = (- (1 - tt.square(self.eccen)) * tt.sin(f+self.varpi) / (1 + self.eccen*tt.cos(f))) * (self.asini / 86400.)\n",
    "                self.tau = eval_in_model(tau_tens)\n",
    "        else:\n",
    "            self.tau = 0\n",
    "            \n",
    "        for j, A_j in zip(self.freq, self.amplitude):\n",
    "            omega = 2 * np.pi * j\n",
    "            #self.flux_true += A_j * np.cos(omega * (self.time - self.tau)) + A_j * np.sin(omega * (self.time - self.tau))\n",
    "            self.flux_true += A_j * np.sin(omega * (self.time - self.tau))\n",
    "    \n",
    "    def add_noise(self, snr=5):\n",
    "        # Add noise\n",
    "        s_rms = self.amplitude.max() / (np.sqrt(np.pi / len(self.time)) * snr)\n",
    "        #print(s_rms, self.amplitude)\n",
    "        #print(np.random.normal(loc=0.0, scale=s_rms, size=len(self.time)))\n",
    "        self.flux = self.flux_true + np.random.normal(loc=0.0, scale=s_rms, size=len(self.time))\n",
    "        #self.flux_err = noise * np.std(self.flux_true)\n",
    "        #self.flux = self.flux_true + self.flux_err * np.random.randn(len(self.flux_true))"
   ]
  },
  {
   "cell_type": "code",
   "execution_count": 56,
   "metadata": {},
   "outputs": [],
   "source": [
    "# Check time delay signal is injected properly\n",
    "period = 10.\n",
    "eccen = 0.\n",
    "asini = 500\n",
    "varpi = 0.\n",
    "tref = 0.\n",
    "\n",
    "n_freq = 1\n",
    "#np.random.seed(42)\n",
    "freqs = np.array([30])#np.random.normal(40, 20, size=n_freq)\n",
    "\n",
    "#np.random.seed(23)\n",
    "amps = np.array([1])#np.random.normal(0.001, 0.01, size=n_freq)\n",
    "\n",
    "# TESS 2 min cadence for 1 sector\n",
    "time = np.arange(0, 27, 1.0 / (24 * 30))\n",
    "\n",
    "lc = SyntheticBinary(time, freqs, amps,\n",
    "                     period, eccen, asini, varpi, tref, tau=True)\n",
    "lc.add_noise(snr=80)\n",
    "# plt.plot(*amplitude_spectrum(lc.time, lc.flux))"
   ]
  },
  {
   "cell_type": "code",
   "execution_count": 64,
   "metadata": {},
   "outputs": [],
   "source": [
    "from tqdm import tqdm\n",
    "from scipy.optimize import curve_fit\n",
    "\n",
    "def model(time, *theta):\n",
    "    freq, amp, asini = np.reshape(theta, (3, len(freqs)))\n",
    "    T_delay = 1 * (asini / 86400)\n",
    "    \n",
    "    res = np.zeros(len(time))\n",
    "    for i in range(len(freq)):\n",
    "        res += amp[i] * np.sin(2 * np.pi * freq[i] * (time - T_delay[0]))\n",
    "    return res"
   ]
  },
  {
   "cell_type": "code",
   "execution_count": 101,
   "metadata": {},
   "outputs": [
    {
     "name": "stderr",
     "output_type": "stream",
     "text": [
      "100%|██████████| 5000/5000 [00:18<00:00, 273.37it/s]\n"
     ]
    }
   ],
   "source": [
    "snr = 1000\n",
    "\n",
    "asinis = []\n",
    "lc = SyntheticBinary(time, freqs, amps, period, eccen, asini, varpi, tref, tau=False)\n",
    "s_rms = lc.amplitude.max() / (np.sqrt(np.pi / len(lc.time)) * snr)\n",
    "for i in tqdm(range(5000)):\n",
    "    noisy_flux = lc.flux_true + np.random.normal(loc=0.0, scale=s_rms, size=len(lc.time))\n",
    "    x0 = np.array([freqs[0], amps[0], 0]).flatten()\n",
    "    popt, pcov = curve_fit(model, lc.time, noisy_flux, p0=x0)\n",
    "    asinis.append(popt[-1])"
   ]
  },
  {
   "cell_type": "code",
   "execution_count": 165,
   "metadata": {},
   "outputs": [
    {
     "data": {
      "text/plain": [
       "0.07866348700262969"
      ]
     },
     "execution_count": 165,
     "metadata": {},
     "output_type": "execute_result"
    }
   ],
   "source": [
    "s_rms"
   ]
  },
  {
   "cell_type": "code",
   "execution_count": 12,
   "metadata": {},
   "outputs": [],
   "source": [
    "from astropy import constants as const\n",
    "import astropy.units as u\n",
    "\n",
    "def mass_function(period, asini):\n",
    "    consts = (4*np.pi**2 * (1*const.c**3)) / (1*const.G)\n",
    "    si = (asini**3) * consts / (period.to(u.s)**2)\n",
    "    return si.to(u.M_sun)"
   ]
  },
  {
   "cell_type": "code",
   "execution_count": 13,
   "metadata": {},
   "outputs": [],
   "source": [
    "vals = [14.6757, 1.4668, 0.72857]"
   ]
  },
  {
   "cell_type": "code",
   "execution_count": 148,
   "metadata": {},
   "outputs": [
    {
     "data": {
      "image/png": "[encoded data removed]",
      "text/plain": [
       "<Figure size 500x309.017 with 1 Axes>"
      ]
     },
     "metadata": {
      "needs_background": "light"
     },
     "output_type": "display_data"
    }
   ],
   "source": [
    "fig, ax = plt.subplots(figsize=mnras_size(240.))\n",
    "\n",
    "periods = np.geomspace(10,1470,500)\n",
    "stellar_mass = 1.8\n",
    "\n",
    "worst_case = (mass_function(periods*u.day, 15*u.s).to(u.M_jup))**(1/3) * ((stellar_mass*u.M_sun).to(u.M_jup))**(2/3)\n",
    "typical_case = (mass_function(periods*u.day, 2*u.s).to(u.M_jup))**(1/3) * ((stellar_mass*u.M_sun).to(u.M_jup))**(2/3)\n",
    "best_case = (mass_function(periods*u.day, 1*u.s).to(u.M_jup))**(1/3) * ((stellar_mass*u.M_sun).to(u.M_jup))**(2/3)\n",
    "\n",
    "ax.plot(periods, worst_case, label='SNR=50', c=red)\n",
    "ax.plot(periods, typical_case, label='SNR=500', c=green)\n",
    "ax.plot(periods, best_case, label='SNR=1000', c=blue)\n",
    "\n",
    "ax.fill_between(periods, 75, 13, alpha=0.2)\n",
    "ax.set_xlabel(r'P$_{\\rm orb}$ (d)')\n",
    "ax.set_ylabel(r'Companion mass (M$_{\\rm Jup}$)')\n",
    "\n",
    "ax.set_xscale('log')\n",
    "ax.set_yscale('log')\n",
    "\n",
    "ax.set_yticks([1,10,100])\n",
    "# ax.legend()\n",
    "ax.set_xlim(10,1470)\n",
    "\n",
    "per_med = len(periods) // 2\n",
    "ax.text(periods[per_med], worst_case[per_med].value, '15 s', rotation=-14, c=red)\n",
    "ax.text(periods[per_med], typical_case[per_med].value-0.5, '2 s', rotation=-14, c=green)\n",
    "ax.text(periods[per_med], best_case[per_med].value-0.5, '1 s', rotation=-14, c=blue)\n",
    "\n",
    "plt.savefig(overleaf_path + 'best_mass_range.pdf', dpi=300, bbox_inches='tight', pad_inches=0)"
   ]
  },
  {
   "cell_type": "code",
   "execution_count": 65,
   "metadata": {},
   "outputs": [
    {
     "name": "stderr",
     "output_type": "stream",
     "text": [
      "100%|██████████| 50/50 [03:29<00:00,  4.20s/it]\n"
     ]
    }
   ],
   "source": [
    "from tqdm import tqdm\n",
    "\n",
    "snrs = np.geomspace(10,1000,50)\n",
    "\n",
    "asinis_sd = []\n",
    "for snr in tqdm(snrs):\n",
    "    asinis = []\n",
    "    lc = SyntheticBinary(time, freqs, amps, period, eccen, asini, varpi, tref, tau=False)\n",
    "    s_rms = lc.amplitude.max() / (np.sqrt(np.pi / len(lc.time)) * snr)\n",
    "    for i in range(1000):\n",
    "        noisy_flux = lc.flux_true + np.random.normal(loc=0.0, scale=s_rms, size=len(lc.time))\n",
    "        x0 = np.array([freqs[0], amps[0], 0]).flatten()\n",
    "        popt, pcov = curve_fit(model, lc.time, noisy_flux, p0=x0)\n",
    "        asinis.append(popt[-1])\n",
    "    asinis_sd.append(np.std(asinis))"
   ]
  },
  {
   "cell_type": "code",
   "execution_count": 376,
   "metadata": {},
   "outputs": [],
   "source": [
    "# np.savetxt('paper/data/asinis_sd.txt', asinis_sd)"
   ]
  },
  {
   "cell_type": "code",
   "execution_count": 7,
   "metadata": {},
   "outputs": [],
   "source": [
    "snrs = np.geomspace(10,1000,50)\n",
    "asinis_sd = np.loadtxt('paper/data/asinis_sd.txt')"
   ]
  },
  {
   "cell_type": "code",
   "execution_count": 8,
   "metadata": {},
   "outputs": [],
   "source": [
    "from scipy import stats\n",
    "slope, intercept, r_value, p_value, std_err = stats.linregress(np.log(snrs), np.log(asinis_sd))"
   ]
  },
  {
   "cell_type": "code",
   "execution_count": 9,
   "metadata": {},
   "outputs": [],
   "source": [
    "vals = [14.6757, 1.4668, 0.72857]"
   ]
  },
  {
   "cell_type": "code",
   "execution_count": 34,
   "metadata": {},
   "outputs": [
    {
     "data": {
      "image/png": "[encoded data removed]",
      "text/plain": [
       "<Figure size 1050x375 with 2 Axes>"
      ]
     },
     "metadata": {
      "needs_background": "light"
     },
     "output_type": "display_data"
    }
   ],
   "source": [
    "fig, axes = plt.subplots(1,2,\n",
    "                         figsize=[7,2.5], \n",
    "                         constrained_layout=True)\n",
    "\n",
    "linewidth=0.8\n",
    "ax = axes[0]\n",
    "# ax.plot(snrs, asinis_sd, '.k', markersize=3)\n",
    "ax.plot(snrs, np.exp((slope*np.log(snrs) + intercept)), c='black', linewidth=0.7)\n",
    "\n",
    "ax.fill_between(snrs, 10**2,np.exp((slope*np.log(snrs) + intercept)), alpha=0.2)\n",
    "ax.set_xscale('log')\n",
    "ax.set_yscale('log')\n",
    "\n",
    "\n",
    "ax.plot([0,92.1],[8,8],c=red, linewidth=linewidth)\n",
    "ax.plot([0,358.4],[2,2], c=blue, linewidth=linewidth)\n",
    "ax.plot([0,749.4],[0.96680069,0.96680069], c=green, linewidth=linewidth)\n",
    "\n",
    "ax.plot([92.1,92.1],[0, 8],  c=red, linewidth=linewidth)\n",
    "ax.plot([358.4,358.4],[0,2],  c=blue, linewidth=linewidth)\n",
    "ax.plot([749.4,749.4],[0,0.96680069], c=green, linewidth=linewidth)\n",
    "\n",
    "ax.set_xlabel('SNR of primary frequency')\n",
    "ax.set_ylabel(r'$a\\sin{i}/c$ scatter (s)')\n",
    "\n",
    "ax.set_xlim(snrs[0], snrs[-1])\n",
    "ax.set_ylim(None,10**2)\n",
    "\n",
    "\n",
    "ax = axes[1]\n",
    "periods = np.geomspace(10,1470,500)\n",
    "stellar_mass = 1.8\n",
    "\n",
    "worst_case = (mass_function(periods*u.day, 8*u.s).to(u.M_jup))**(1/3) * ((stellar_mass*u.M_sun).to(u.M_jup))**(2/3)\n",
    "typical_case = (mass_function(periods*u.day, 2*u.s).to(u.M_jup))**(1/3) * ((stellar_mass*u.M_sun).to(u.M_jup))**(2/3)\n",
    "best_case = (mass_function(periods*u.day, 1*u.s).to(u.M_jup))**(1/3) * ((stellar_mass*u.M_sun).to(u.M_jup))**(2/3)\n",
    "\n",
    "ax.plot(periods, worst_case, label='SNR=50', c=red, linewidth=linewidth)\n",
    "ax.plot(periods, typical_case, label='SNR=500', c=blue, linewidth=linewidth)\n",
    "ax.plot(periods, best_case, label='SNR=1000', c=green, linewidth=linewidth)\n",
    "\n",
    "ax.fill_between(periods, 75, 13, alpha=0.2, color='orange')\n",
    "ax.set_xlabel(r'P$_{\\rm orb}$ (d)')\n",
    "ax.set_ylabel(r'Companion mass (M$_{\\rm Jup}$)')\n",
    "\n",
    "ax.set_xscale('log')\n",
    "ax.set_yscale('log')\n",
    "\n",
    "ax.set_yticks([1,10,100])\n",
    "ax.set_xlim(10,1470)\n",
    "\n",
    "per_med = len(periods) // 2\n",
    "ax.text(periods[per_med], worst_case[per_med].value, '8 s', rotation=-18, c=red)\n",
    "ax.text(periods[per_med], typical_case[per_med].value-0.5, '2 s', rotation=-18, c=blue)\n",
    "ax.text(periods[per_med], best_case[per_med].value-0.5, '1 s', rotation=-18, c=green)\n",
    "\n",
    "axes[0].annotate('Detectable', (0.65,0.7), xycoords='axes fraction')\n",
    "plt.savefig(overleaf_path + 'best_mass_range.pdf', dpi=300, bbox_inches='tight', pad_inches=0)\n",
    "\n",
    "# from matplotlib.ticker import ScalarFormatter\n",
    "\n",
    "# axes[0].yaxis.set_major_formatter(ScalarFormatter())\n",
    "\n",
    "# plt.savefig('snr_detectability.png', dpi=300, bbox_inches='tight')"
   ]
  },
  {
   "cell_type": "code",
   "execution_count": null,
   "metadata": {},
   "outputs": [],
   "source": []
  },
  {
   "cell_type": "code",
   "execution_count": null,
   "metadata": {},
   "outputs": [],
   "source": []
  },
  {
   "cell_type": "code",
   "execution_count": 15,
   "metadata": {},
   "outputs": [
    {
     "data": {
      "text/plain": [
       "Text(0.65, 0.7, 'Detectable')"
      ]
     },
     "execution_count": 15,
     "metadata": {},
     "output_type": "execute_result"
    },
    {
     "data": {
      "image/png": "[encoded data removed]",
      "text/plain": [
       "<Figure size 1050x375 with 2 Axes>"
      ]
     },
     "metadata": {
      "needs_background": "light"
     },
     "output_type": "display_data"
    }
   ],
   "source": [
    "fig, axes = plt.subplots(1,2,\n",
    "                         figsize=[7,2.5], \n",
    "                         constrained_layout=True)\n",
    "\n",
    "ax = axes[0]\n",
    "ax.plot(snrs, asinis_sd, '.k', markersize=2)\n",
    "ax.plot(snrs, np.exp((slope*np.log(snrs) + intercept)), c='black', linewidth=0.7)\n",
    "\n",
    "ax.fill_between(snrs, 10**2,np.exp((slope*np.log(snrs) + intercept)), alpha=0.2)\n",
    "ax.set_xscale('log')\n",
    "ax.set_yscale('log')\n",
    "\n",
    "\n",
    "ax.plot([0,50],[14.6757,14.6757],c=red)\n",
    "ax.plot([0,500],[1.4668,1.4668], c=green)\n",
    "ax.plot([0,1000],[0.72857,0.72857], c=blue)\n",
    "\n",
    "ax.plot([50,50],[0, 14.6757],  c=red)\n",
    "ax.plot([500,500],[0,1.4668],  c=green)\n",
    "ax.plot([1000,1000],[0,0.72857], c=blue)\n",
    "\n",
    "ax.set_xlabel('SNR of primary frequency')\n",
    "ax.set_ylabel(r'$a\\sin{i}/c$ scatter (s)')\n",
    "\n",
    "ax.set_xlim(snrs[0], snrs[-1])\n",
    "ax.set_ylim(None,10**2)\n",
    "\n",
    "\n",
    "ax = axes[1]\n",
    "periods = np.geomspace(10,1470,500)\n",
    "stellar_mass = 1.8\n",
    "\n",
    "worst_case = (mass_function(periods*u.day, 15*u.s).to(u.M_jup))**(1/3) * ((stellar_mass*u.M_sun).to(u.M_jup))**(2/3)\n",
    "typical_case = (mass_function(periods*u.day, 2*u.s).to(u.M_jup))**(1/3) * ((stellar_mass*u.M_sun).to(u.M_jup))**(2/3)\n",
    "best_case = (mass_function(periods*u.day, 1*u.s).to(u.M_jup))**(1/3) * ((stellar_mass*u.M_sun).to(u.M_jup))**(2/3)\n",
    "\n",
    "ax.plot(periods, worst_case, label='SNR=50', c=red)\n",
    "ax.plot(periods, typical_case, label='SNR=500', c=green)\n",
    "ax.plot(periods, best_case, label='SNR=1000', c=blue)\n",
    "\n",
    "ax.fill_between(periods, 75, 13, alpha=0.2, color='orange')\n",
    "ax.set_xlabel(r'P$_{\\rm orb}$ (d)')\n",
    "ax.set_ylabel(r'Companion mass (M$_{\\rm Jup}$)')\n",
    "\n",
    "ax.set_xscale('log')\n",
    "ax.set_yscale('log')\n",
    "\n",
    "ax.set_yticks([1,10,100])\n",
    "ax.set_xlim(10,1470)\n",
    "\n",
    "per_med = len(periods) // 2\n",
    "ax.text(periods[per_med], worst_case[per_med].value, '15 s', rotation=-14, c=red)\n",
    "ax.text(periods[per_med], typical_case[per_med].value-0.5, '2 s', rotation=-14, c=green)\n",
    "ax.text(periods[per_med], best_case[per_med].value-0.5, '1 s', rotation=-14, c=blue)\n",
    "\n",
    "\n",
    "axes[0].annotate('Detectable', (0.65,0.7), xycoords='axes fraction')\n",
    "# plt.savefig(overleaf_path + 'best_mass_range.pdf', dpi=300, bbox_inches='tight', pad_inches=0)\n",
    "\n",
    "# from matplotlib.ticker import ScalarFormatter\n",
    "\n",
    "# axes[0].yaxis.set_major_formatter(ScalarFormatter())\n",
    "\n",
    "# plt.savefig('snr_detectability.png', dpi=300, bbox_inches='tight')"
   ]
  },
  {
   "cell_type": "code",
   "execution_count": 22,
   "metadata": {},
   "outputs": [
    {
     "data": {
      "text/plain": [
       "array([1.e+00, 1.e+01, 1.e+02, 1.e+03, 1.e+04])"
      ]
     },
     "execution_count": 22,
     "metadata": {},
     "output_type": "execute_result"
    }
   ],
   "source": [
    "axes[0].get_xticks()"
   ]
  },
  {
   "cell_type": "code",
   "execution_count": 377,
   "metadata": {},
   "outputs": [
    {
     "data": {
      "text/plain": [
       "100"
      ]
     },
     "execution_count": 377,
     "metadata": {},
     "output_type": "execute_result"
    }
   ],
   "source": [
    "10**2"
   ]
  },
  {
   "cell_type": "code",
   "execution_count": 253,
   "metadata": {},
   "outputs": [
    {
     "data": {
      "text/plain": [
       "(-1.0048319713042855, 6.618279021918305, -0.9998665362210477)"
      ]
     },
     "execution_count": 253,
     "metadata": {},
     "output_type": "execute_result"
    }
   ],
   "source": [
    "slope, intercept, r_value"
   ]
  },
  {
   "cell_type": "code",
   "execution_count": 3,
   "metadata": {},
   "outputs": [],
   "source": [
    "slope, intercept, r_value = (-1.0048319713042855, 6.618279021918305, -0.9998665362210477)"
   ]
  },
  {
   "cell_type": "code",
   "execution_count": 7,
   "metadata": {},
   "outputs": [
    {
     "data": {
      "text/plain": [
       "0.9997330902546757"
      ]
     },
     "execution_count": 7,
     "metadata": {},
     "output_type": "execute_result"
    }
   ],
   "source": [
    "r_value**2"
   ]
  },
  {
   "cell_type": "code",
   "execution_count": null,
   "metadata": {},
   "outputs": [],
   "source": []
  },
  {
   "cell_type": "code",
   "execution_count": null,
   "metadata": {},
   "outputs": [],
   "source": []
  },
  {
   "cell_type": "code",
   "execution_count": null,
   "metadata": {},
   "outputs": [],
   "source": []
  },
  {
   "cell_type": "code",
   "execution_count": 5,
   "metadata": {},
   "outputs": [],
   "source": [
    "import numpy as np\n",
    "snrs = np.geomspace(10,1000,50)\n",
    "\n",
    "y=np.exp((slope*np.log(snrs) + intercept))"
   ]
  },
  {
   "cell_type": "code",
   "execution_count": 6,
   "metadata": {},
   "outputs": [
    {
     "data": {
      "text/plain": [
       "array([74.03721734, 67.36534492, 61.29470905, 55.77112924, 50.74530746,\n",
       "       46.1723882 , 42.01155808, 38.22568166, 34.78096992, 31.64667879,\n",
       "       28.79483466, 26.19998479, 23.83897013, 21.69071857, 19.73605695,\n",
       "       17.95753989, 16.3392941 , 14.86687672, 13.5271464 , 12.30814604,\n",
       "       11.19899603, 10.1897972 ,  9.27154245,  8.43603632,  7.67582193,\n",
       "        6.98411435,  6.35474008,  5.78208194,  5.26102895,  4.78693072,\n",
       "        4.3555559 ,  3.96305448,  3.60592336,  3.28097516,  2.9853097 ,\n",
       "        2.71628817,  2.47150955,  2.24878918,  2.04613928,  1.8617512 ,\n",
       "        1.69397928,  1.54132614,  1.40242936,  1.27604927,  1.16105794,\n",
       "        1.05642907,  0.96122884,  0.8746076 ,  0.79579223,  0.72407932])"
      ]
     },
     "execution_count": 6,
     "metadata": {},
     "output_type": "execute_result"
    }
   ],
   "source": [
    "y"
   ]
  },
  {
   "cell_type": "code",
   "execution_count": null,
   "metadata": {},
   "outputs": [],
   "source": []
  },
  {
   "cell_type": "code",
   "execution_count": null,
   "metadata": {},
   "outputs": [],
   "source": []
  },
  {
   "cell_type": "code",
   "execution_count": null,
   "metadata": {},
   "outputs": [],
   "source": []
  },
  {
   "cell_type": "code",
   "execution_count": null,
   "metadata": {},
   "outputs": [],
   "source": []
  },
  {
   "cell_type": "code",
   "execution_count": null,
   "metadata": {},
   "outputs": [],
   "source": []
  },
  {
   "cell_type": "code",
   "execution_count": null,
   "metadata": {},
   "outputs": [],
   "source": []
  },
  {
   "cell_type": "code",
   "execution_count": 34,
   "metadata": {},
   "outputs": [],
   "source": [
    "from exoplanet.utils import eval_in_model\n",
    "from exoplanet.orbits import get_true_anomaly\n",
    "import pymc3 as pm\n",
    "import theano.tensor as tt\n",
    "from exoplanet.orbits import get_true_anomaly\n",
    "import exoplanet as xo\n",
    "import astropy.units as u\n",
    "import theano.tensor as tt\n",
    "import theano\n",
    "from tqdm import tqdm\n",
    "\n",
    "class SyntheticBinary(object):\n",
    "    \"\"\"\n",
    "    This class makes a synthetic light curve and injects a time delay signal corresponding to the input binary orbit parameters    \n",
    "    \"\"\"\n",
    "    def __init__(self, time, freq, amplitude, \n",
    "                 period, eccen, asini, varpi, phi, tau=True):\n",
    "        self.time = time\n",
    "        self.freq = freq\n",
    "        self.amplitude = amplitude\n",
    "        self.period, self.eccen, self.asini, self.varpi, self.phi = period, eccen, asini, varpi, phi\n",
    "        \n",
    "        self.make_lightcurve(tau=tau)\n",
    "        self.flux = self.flux_true\n",
    "        \n",
    "    def make_lightcurve(self, tau=True):\n",
    "        self.flux_true = np.zeros(len(self.time))\n",
    "        if tau:\n",
    "            with pm.Model() as model:\n",
    "                #M = tt.zeros_like(tt.constant(self.time) - self.tref) + 2.0 * np.pi * (tt.constant(self.time)) / self.period\n",
    "                M = 2.0 * np.pi * tt.constant(self.time) / self.period - self.phi\n",
    "                f = get_true_anomaly(M, self.eccen + tt.zeros_like(M))\n",
    "                tau_tens = ((1 - tt.square(self.eccen)) * tt.sin(f+self.varpi) / (1 + self.eccen*tt.cos(f))) * (self.asini / 86400.)\n",
    "                self.tau = eval_in_model(tau_tens)\n",
    "        else:\n",
    "            self.tau = 0.\n",
    "            \n",
    "        for j, A_j in zip(self.freq, self.amplitude):\n",
    "            omega = 2 * np.pi * j\n",
    "            self.flux_true += A_j * np.sin(omega * (self.time - self.tau))# + A_j * np.sin(omega * (self.time - self.tau))\n",
    "            \n",
    "    def add_noise(self, snr=5):\n",
    "        # Add noise\n",
    "        s_rms = self.amplitude.max() / (np.sqrt(np.pi / len(self.time)) * snr)\n",
    "        #print(s_rms, self.amplitude)\n",
    "        #print(np.random.normal(loc=0.0, scale=s_rms, size=len(self.time)))\n",
    "        self.flux = self.flux_true + np.random.normal(loc=0.0, scale=s_rms, size=len(self.time))\n",
    "        #self.flux_err = noise * np.std(self.flux_true)\n",
    "        #self.flux = self.flux_true + self.flux_err * np.random.randn(len(self.flux_true))"
   ]
  },
  {
   "cell_type": "code",
   "execution_count": null,
   "metadata": {},
   "outputs": [],
   "source": []
  },
  {
   "cell_type": "code",
   "execution_count": 46,
   "metadata": {},
   "outputs": [
    {
     "data": {
      "text/plain": [
       "array([30.00000068,  1.05264574,  0.        ])"
      ]
     },
     "execution_count": 46,
     "metadata": {},
     "output_type": "execute_result"
    }
   ],
   "source": [
    "from tqdm import tqdm\n",
    "from scipy.optimize import curve_fit\n",
    "def model(time, *theta):\n",
    "    freq, amp, asini = np.reshape(theta, (3, len(freqs)))\n",
    "    T_delay = 1 * (asini / 86400)\n",
    "    \n",
    "    res = np.zeros(len(time))\n",
    "    for i in range(len(freq)):\n",
    "        res += amp[i] * np.sin(2 * np.pi * freq[i] * (time - T_delay[0]))\n",
    "    return res\n",
    "\n",
    "asini_med = []\n",
    "asini_sd = []\n",
    "lc = SyntheticBinary(time, freqs, amps,\n",
    "                     period, eccen, asini, varpi, tref)\n",
    "snr=10\n",
    "s_rms = lc.amplitude.max() / (np.sqrt(np.pi / len(lc.time)) * snr)\n",
    "noisy_flux = lc.flux_true + np.random.normal(loc=0.0, scale=s_rms, size=len(lc.time))\n",
    "#lc.add_noise(snr=snr)\n",
    "x0 = np.array([freqs[0], amps[0], 0]).flatten()\n",
    "#bounds = [[0,0,0],[np.inf,np.inf,np.inf]]\n",
    "popt, pcov = curve_fit(model, lc.time, noisy_flux, p0=x0)\n",
    "popt"
   ]
  },
  {
   "cell_type": "code",
   "execution_count": 32,
   "metadata": {},
   "outputs": [
    {
     "data": {
      "text/plain": [
       "array([29.99999528,  0.96618539,  0.        ])"
      ]
     },
     "execution_count": 32,
     "metadata": {},
     "output_type": "execute_result"
    }
   ],
   "source": [
    "popt"
   ]
  },
  {
   "cell_type": "code",
   "execution_count": null,
   "metadata": {},
   "outputs": [],
   "source": []
  },
  {
   "cell_type": "code",
   "execution_count": 35,
   "metadata": {},
   "outputs": [
    {
     "name": "stderr",
     "output_type": "stream",
     "text": [
      "WARNING: AstropyDeprecationWarning: Importing LombScargle from astropy.stats has been deprecated and will no longer be supported in future. Please import this class from the astropy.timeseries module instead [astropy.stats.lombscargle]\n"
     ]
    },
    {
     "data": {
      "text/plain": [
       "[<matplotlib.lines.Line2D at 0x1c202e5240>]"
      ]
     },
     "execution_count": 35,
     "metadata": {},
     "output_type": "execute_result"
    },
    {
     "data": {
      "image/png": "[encoded data removed]",
      "text/plain": [
       "<Figure size 432x288 with 1 Axes>"
      ]
     },
     "metadata": {
      "needs_background": "light"
     },
     "output_type": "display_data"
    }
   ],
   "source": [
    "snrs =np.geomspace(1,1000,50)\n",
    "\n",
    "from scipy.optimize import minimize\n",
    "from maelstrom.utils import amplitude_spectrum\n",
    "\n",
    "# Check time delay signal is injected properly\n",
    "period = 10.\n",
    "eccen = 0.\n",
    "asini = 0\n",
    "varpi = 0.\n",
    "tref = 0.\n",
    "\n",
    "n_freq = 1\n",
    "#np.random.seed(42)\n",
    "freqs = np.array([30])#np.random.normal(40, 20, size=n_freq)\n",
    "\n",
    "#np.random.seed(23)\n",
    "amps = np.array([1])#np.random.normal(0.001, 0.01, size=n_freq)\n",
    "\n",
    "# TESS 2 min cadence for 1 sector\n",
    "time = t#np.arange(0, 27, 1.0 / (24 * 30))\n",
    "\n",
    "lc = SyntheticBinary(time, freqs, amps,\n",
    "                     period, eccen, asini, varpi, tref, tau=True)\n",
    "#lc.add_noise(snr=80\n",
    "snr=1000\n",
    "s_rms = lc.amplitude.max() / (np.sqrt(np.pi / len(lc.time)) * snr)\n",
    "noisy_flux = lc.flux_true + np.random.normal(loc=0.0, scale=s_rms, size=len(lc.time))\n",
    "\n",
    "plt.plot(*amplitude_spectrum(lc.time, lc.flux))"
   ]
  },
  {
   "cell_type": "code",
   "execution_count": 6,
   "metadata": {},
   "outputs": [],
   "source": [
    "from scipy.optimize import minimize\n",
    "\n",
    "def model(freq, amp, period, asini, time):\n",
    "    M = 2. * np.pi * time / period\n",
    "    psi = np.sin(M)\n",
    "    tau = (asini / 86400) * psi\n",
    "#     plt.plot(time, tau)\n",
    "    res = np.zeros(len(time))\n",
    "    for i in range(len(freq)):\n",
    "        res += amp[i] * np.sin(2 * np.pi * freq[i] * (time - tau))\n",
    "    return res\n",
    "\n",
    "def lnlike(params, time, flux):\n",
    "    freq, amp, asini, period = params\n",
    "    res = model(freq, amp, period, asini, time)\n",
    "    return np.sum((flux - res)**2 / 1**2)"
   ]
  },
  {
   "cell_type": "code",
   "execution_count": 7,
   "metadata": {},
   "outputs": [],
   "source": [
    "periods = np.geomspace(10,1470,4)\n",
    "best_case_snr = 2000"
   ]
  },
  {
   "cell_type": "code",
   "execution_count": 50,
   "metadata": {},
   "outputs": [
    {
     "name": "stderr",
     "output_type": "stream",
     "text": [
      "100%|██████████| 3/3 [02:26<00:00, 48.96s/it]\n"
     ]
    }
   ],
   "source": [
    "from tqdm import tqdm\n",
    "\n",
    "# Check time delay signal is injected properly\n",
    "eccen = 0.\n",
    "asini = 0\n",
    "varpi = 0.\n",
    "tref = 0.\n",
    "\n",
    "freqs = np.array([30])\n",
    "amps = np.array([1])\n",
    "time = t\n",
    "snr = 500 # Average case\n",
    "asini_sd = []\n",
    "for period in tqdm(periods):\n",
    "    asinis = []\n",
    "    lc = SyntheticBinary(time, freqs, amps, period, eccen, asini, varpi, tref, tau=True)\n",
    "    s_rms = lc.amplitude.max() / (np.sqrt(np.pi / len(lc.time)) * snr)\n",
    "    for i in range(100):\n",
    "        noisy_flux = lc.flux_true + np.random.normal(loc=0.0, scale=s_rms, size=len(lc.time))\n",
    "        initial = np.array([freqs, amps, 1e-5])\n",
    "        soln = minimize(lnlike, initial, args=(lc.time, noisy_flux, period))\n",
    "        asinis.append(soln['x'][-1])\n",
    "    asini_sd.append(np.std(asinis))"
   ]
  },
  {
   "cell_type": "code",
   "execution_count": 53,
   "metadata": {},
   "outputs": [
    {
     "data": {
      "text/plain": [
       "[<matplotlib.lines.Line2D at 0x1c2ed86518>]"
      ]
     },
     "execution_count": 53,
     "metadata": {},
     "output_type": "execute_result"
    },
    {
     "data": {
      "image/png": "[encoded data removed]",
      "text/plain": [
       "<Figure size 432x288 with 1 Axes>"
      ]
     },
     "metadata": {
      "needs_background": "light"
     },
     "output_type": "display_data"
    }
   ],
   "source": [
    "plt.plot(periods, asini_sd)"
   ]
  },
  {
   "cell_type": "code",
   "execution_count": 51,
   "metadata": {},
   "outputs": [],
   "source": [
    "from scipy.optimize import minimize\n",
    "\n",
    "def model(freq, amp, asini, time):\n",
    "    res = np.zeros(len(time))\n",
    "    for i in range(len(freq)):\n",
    "        res += amp[i] * np.sin(2 * np.pi * freq[i] * (time - (asini / 86400)))\n",
    "    return res\n",
    "\n",
    "def lnlike(params, time, flux):\n",
    "    freq, amp, asini = params\n",
    "    res = model(freq, amp, asini, time)\n",
    "    return np.sum((flux - res)**2 / 1**2)"
   ]
  },
  {
   "cell_type": "code",
   "execution_count": 53,
   "metadata": {},
   "outputs": [
    {
     "data": {
      "text/plain": [
       "      fun: 17128418.77272316\n",
       " hess_inv: array([[array([4.02642729e-14]), array([7.38358935e-29]), array([0.])],\n",
       "       [array([7.38358935e-29]), array([7.23421323e-13]), array([0.])],\n",
       "       [array([0.]), array([0.]), array([1.])]], dtype=object)\n",
       "      jac: array([332.25,   0.  ,   0.  ])\n",
       "  message: 'Desired error not necessarily achieved due to precision loss.'\n",
       "     nfev: 91\n",
       "      nit: 6\n",
       "     njev: 18\n",
       "   status: 2\n",
       "  success: False\n",
       "        x: array([array([30.00000596]), array([0.89262692]), array([50.])],\n",
       "      dtype=object)"
      ]
     },
     "execution_count": 53,
     "metadata": {},
     "output_type": "execute_result"
    }
   ],
   "source": [
    "from tqdm import tqdm\n",
    "\n",
    "# Check time delay signal is injected properly\n",
    "period = 300.\n",
    "eccen = 0.\n",
    "asini = 0.0\n",
    "varpi = 0.\n",
    "tref = 0.\n",
    "\n",
    "freqs = np.array([30])\n",
    "amps = np.array([1])\n",
    "time = t\n",
    "\n",
    "asinis = []\n",
    "lc = SyntheticBinary(time, freqs, amps, period, eccen, asini, varpi, tref, tau=False)\n",
    "snr=10\n",
    "s_rms = lc.amplitude.max() / (np.sqrt(np.pi / len(lc.time)) * snr)\n",
    "noisy_flux = lc.flux_true + np.random.normal(loc=0.0, scale=s_rms, size=len(lc.time))\n",
    "initial = np.array([freqs, amps, 50])\n",
    "soln = minimize(lnlike, initial, args=(lc.time, noisy_flux))\n",
    "soln"
   ]
  },
  {
   "cell_type": "code",
   "execution_count": 9,
   "metadata": {},
   "outputs": [
    {
     "name": "stderr",
     "output_type": "stream",
     "text": [
      "100%|██████████| 200/200 [00:58<00:00,  3.44it/s]\n"
     ]
    }
   ],
   "source": [
    "from tqdm import tqdm\n",
    "\n",
    "# Check time delay signal is injected properly\n",
    "period = 300.\n",
    "eccen = 0.\n",
    "asini = 0.0\n",
    "varpi = 0.\n",
    "tref = 0.\n",
    "\n",
    "freqs = np.array([30])\n",
    "amps = np.array([1])\n",
    "time = t\n",
    "\n",
    "asinis = []\n",
    "lc = SyntheticBinary(time, freqs, amps, period, eccen, asini, varpi, tref, tau=True)\n",
    "snr=2000\n",
    "s_rms = lc.amplitude.max() / (np.sqrt(np.pi / len(lc.time)) * snr)\n",
    "for i in tqdm(range(200)):\n",
    "    noisy_flux = lc.flux_true + np.random.normal(loc=0.0, scale=s_rms, size=len(lc.time))\n",
    "    # Our initial guesses from above\n",
    "    initial = np.array([freqs, amps, 1e-5])\n",
    "    soln = minimize(lnlike, initial, args=(lc.time, noisy_flux))\n",
    "    asinis.append(np.abs(soln['x'][-1]))"
   ]
  },
  {
   "cell_type": "code",
   "execution_count": 12,
   "metadata": {},
   "outputs": [
    {
     "data": {
      "text/plain": [
       "[array([1.e-05]),\n",
       " array([1.e-05]),\n",
       " array([1.e-05]),\n",
       " array([1.e-05]),\n",
       " array([1.e-05]),\n",
       " array([1.e-05]),\n",
       " array([1.e-05]),\n",
       " array([1.e-05]),\n",
       " array([1.e-05]),\n",
       " array([1.e-05]),\n",
       " array([1.e-05]),\n",
       " array([1.e-05]),\n",
       " array([1.e-05]),\n",
       " array([1.e-05]),\n",
       " array([1.e-05]),\n",
       " array([1.e-05]),\n",
       " array([1.e-05]),\n",
       " array([1.e-05]),\n",
       " array([1.e-05]),\n",
       " array([1.e-05]),\n",
       " array([1.e-05]),\n",
       " array([1.e-05]),\n",
       " array([1.e-05]),\n",
       " array([1.e-05]),\n",
       " array([1.e-05]),\n",
       " array([1.e-05]),\n",
       " array([1.e-05]),\n",
       " array([1.e-05]),\n",
       " array([1.e-05]),\n",
       " array([1.e-05]),\n",
       " array([1.e-05]),\n",
       " array([1.e-05]),\n",
       " array([1.e-05]),\n",
       " array([1.e-05]),\n",
       " array([1.e-05]),\n",
       " array([1.e-05]),\n",
       " array([1.e-05]),\n",
       " array([1.e-05]),\n",
       " array([1.e-05]),\n",
       " array([1.e-05]),\n",
       " array([1.e-05]),\n",
       " array([1.e-05]),\n",
       " array([1.e-05]),\n",
       " array([1.e-05]),\n",
       " array([1.e-05]),\n",
       " array([1.e-05]),\n",
       " array([1.e-05]),\n",
       " array([1.e-05]),\n",
       " array([1.e-05]),\n",
       " array([1.e-05]),\n",
       " array([1.e-05]),\n",
       " array([1.e-05]),\n",
       " array([1.e-05]),\n",
       " array([1.e-05]),\n",
       " array([1.e-05]),\n",
       " array([1.e-05]),\n",
       " array([1.e-05]),\n",
       " array([1.e-05]),\n",
       " array([1.e-05]),\n",
       " array([1.e-05]),\n",
       " array([1.e-05]),\n",
       " array([1.e-05]),\n",
       " array([1.e-05]),\n",
       " array([1.e-05]),\n",
       " array([1.e-05]),\n",
       " array([1.e-05]),\n",
       " array([1.e-05]),\n",
       " array([1.e-05]),\n",
       " array([1.e-05]),\n",
       " array([1.e-05]),\n",
       " array([1.e-05]),\n",
       " array([1.e-05]),\n",
       " array([1.e-05]),\n",
       " array([1.e-05]),\n",
       " array([1.e-05]),\n",
       " array([1.e-05]),\n",
       " array([1.e-05]),\n",
       " array([1.e-05]),\n",
       " array([1.e-05]),\n",
       " array([1.e-05]),\n",
       " array([1.e-05]),\n",
       " array([1.e-05]),\n",
       " array([1.e-05]),\n",
       " array([1.e-05]),\n",
       " array([1.e-05]),\n",
       " array([1.e-05]),\n",
       " array([1.e-05]),\n",
       " array([1.e-05]),\n",
       " array([1.e-05]),\n",
       " array([1.e-05]),\n",
       " array([1.e-05]),\n",
       " array([1.e-05]),\n",
       " array([1.e-05]),\n",
       " array([1.e-05]),\n",
       " array([1.e-05]),\n",
       " array([1.e-05]),\n",
       " array([1.e-05]),\n",
       " array([1.e-05]),\n",
       " array([1.e-05]),\n",
       " array([1.e-05]),\n",
       " array([1.e-05]),\n",
       " array([1.e-05]),\n",
       " array([1.e-05]),\n",
       " array([1.e-05]),\n",
       " array([1.e-05]),\n",
       " array([1.e-05]),\n",
       " array([1.e-05]),\n",
       " array([1.e-05]),\n",
       " array([1.e-05]),\n",
       " array([1.e-05]),\n",
       " array([1.e-05]),\n",
       " array([1.e-05]),\n",
       " array([1.e-05]),\n",
       " array([1.e-05]),\n",
       " array([1.e-05]),\n",
       " array([1.e-05]),\n",
       " array([1.e-05]),\n",
       " array([1.e-05]),\n",
       " array([1.e-05]),\n",
       " array([1.e-05]),\n",
       " array([1.e-05]),\n",
       " array([1.e-05]),\n",
       " array([1.e-05]),\n",
       " array([1.e-05]),\n",
       " array([1.e-05]),\n",
       " array([1.e-05]),\n",
       " array([1.e-05]),\n",
       " array([1.e-05]),\n",
       " array([1.e-05]),\n",
       " array([1.e-05]),\n",
       " array([1.e-05]),\n",
       " array([1.e-05]),\n",
       " array([1.e-05]),\n",
       " array([1.e-05]),\n",
       " array([1.e-05]),\n",
       " array([1.e-05]),\n",
       " array([1.e-05]),\n",
       " array([1.e-05]),\n",
       " array([1.e-05]),\n",
       " array([1.e-05]),\n",
       " array([1.e-05]),\n",
       " array([1.e-05]),\n",
       " array([1.e-05]),\n",
       " array([1.e-05]),\n",
       " array([1.e-05]),\n",
       " array([1.e-05]),\n",
       " array([1.e-05]),\n",
       " array([1.e-05]),\n",
       " array([1.e-05]),\n",
       " array([1.e-05]),\n",
       " array([1.e-05]),\n",
       " array([1.e-05]),\n",
       " array([1.e-05]),\n",
       " array([1.e-05]),\n",
       " array([1.e-05]),\n",
       " array([1.e-05]),\n",
       " array([1.e-05]),\n",
       " array([1.e-05]),\n",
       " array([1.e-05]),\n",
       " array([1.e-05]),\n",
       " array([1.e-05]),\n",
       " array([1.e-05]),\n",
       " array([1.e-05]),\n",
       " array([1.e-05]),\n",
       " array([1.e-05]),\n",
       " array([1.e-05]),\n",
       " array([1.e-05]),\n",
       " array([1.e-05]),\n",
       " array([1.e-05]),\n",
       " array([1.e-05]),\n",
       " array([1.e-05]),\n",
       " array([1.e-05]),\n",
       " array([1.e-05]),\n",
       " array([1.e-05]),\n",
       " array([1.e-05]),\n",
       " array([1.e-05]),\n",
       " array([1.e-05]),\n",
       " array([1.e-05]),\n",
       " array([1.e-05]),\n",
       " array([1.e-05]),\n",
       " array([1.e-05]),\n",
       " array([1.e-05]),\n",
       " array([1.e-05]),\n",
       " array([1.e-05]),\n",
       " array([1.e-05]),\n",
       " 1e-05,\n",
       " array([1.e-05]),\n",
       " array([1.e-05]),\n",
       " array([1.e-05]),\n",
       " array([1.e-05]),\n",
       " array([1.e-05]),\n",
       " array([1.e-05]),\n",
       " array([1.e-05]),\n",
       " array([1.e-05]),\n",
       " array([1.e-05]),\n",
       " array([1.e-05]),\n",
       " array([1.e-05]),\n",
       " array([1.e-05]),\n",
       " array([1.e-05]),\n",
       " array([1.e-05])]"
      ]
     },
     "execution_count": 12,
     "metadata": {},
     "output_type": "execute_result"
    }
   ],
   "source": [
    "asinis"
   ]
  },
  {
   "cell_type": "code",
   "execution_count": 122,
   "metadata": {},
   "outputs": [
    {
     "data": {
      "image/png": "[encoded data removed]",
      "text/plain": [
       "<Figure size 432x288 with 1 Axes>"
      ]
     },
     "metadata": {
      "needs_background": "light"
     },
     "output_type": "display_data"
    }
   ],
   "source": [
    "plt.hist(asinis, bins=2);"
   ]
  },
  {
   "cell_type": "code",
   "execution_count": 123,
   "metadata": {},
   "outputs": [
    {
     "data": {
      "text/plain": [
       "[array([6.63994565]),\n",
       " array([7.45828447]),\n",
       " array([7.17573877]),\n",
       " array([7.67827363]),\n",
       " array([7.29869466]),\n",
       " array([8.14519721]),\n",
       " array([7.07190463]),\n",
       " array([6.71132149]),\n",
       " array([7.29760878]),\n",
       " array([6.71232219]),\n",
       " array([6.66387388]),\n",
       " array([7.49583813]),\n",
       " array([7.50215082]),\n",
       " array([7.57351277]),\n",
       " array([7.7093357]),\n",
       " array([7.536955]),\n",
       " array([7.03581409]),\n",
       " array([7.53959731]),\n",
       " array([6.95324951]),\n",
       " array([7.0196965]),\n",
       " array([7.69977368]),\n",
       " array([7.20857659]),\n",
       " array([7.03330547]),\n",
       " array([6.77253265]),\n",
       " array([7.77011594]),\n",
       " array([6.20196481]),\n",
       " array([7.38209776]),\n",
       " array([6.60257766]),\n",
       " array([6.94427111]),\n",
       " array([6.78505099]),\n",
       " array([7.37749935]),\n",
       " array([7.08247502]),\n",
       " array([6.74419524]),\n",
       " array([7.20274272]),\n",
       " array([6.97262658]),\n",
       " array([7.52620561]),\n",
       " array([7.51555786]),\n",
       " array([6.49153052]),\n",
       " array([6.21655842]),\n",
       " array([7.47820115]),\n",
       " array([7.19132455]),\n",
       " array([6.93293149]),\n",
       " array([8.05685041]),\n",
       " array([7.86756873]),\n",
       " array([7.69030189]),\n",
       " array([7.37834406]),\n",
       " array([7.73061997]),\n",
       " array([7.09453805]),\n",
       " array([6.96079607]),\n",
       " array([7.52736758]),\n",
       " array([7.30610966]),\n",
       " array([7.36762381]),\n",
       " array([7.10335109]),\n",
       " array([6.85818339]),\n",
       " array([7.27678517]),\n",
       " array([6.73636065]),\n",
       " array([7.68432642]),\n",
       " array([6.82177122]),\n",
       " array([7.56529601]),\n",
       " array([6.48926154]),\n",
       " array([6.55701111]),\n",
       " array([7.26573507]),\n",
       " array([7.33233119]),\n",
       " array([7.14397854]),\n",
       " array([6.46984258]),\n",
       " array([7.80957169]),\n",
       " array([7.13662876]),\n",
       " array([7.21894819]),\n",
       " array([7.49061989]),\n",
       " array([7.9128267]),\n",
       " array([7.05542357]),\n",
       " array([7.35543099]),\n",
       " array([7.42204429]),\n",
       " array([7.16749372]),\n",
       " array([7.22461187]),\n",
       " array([7.33944256]),\n",
       " array([7.36408786]),\n",
       " array([7.57765368]),\n",
       " array([7.20176791]),\n",
       " array([7.5959248]),\n",
       " array([7.68402874]),\n",
       " array([7.23145307]),\n",
       " array([7.68262811]),\n",
       " array([6.91287736]),\n",
       " array([7.83212755]),\n",
       " array([7.40972485]),\n",
       " array([7.22164388]),\n",
       " array([6.30770728]),\n",
       " array([7.04420203]),\n",
       " array([7.60080303]),\n",
       " array([7.09604584]),\n",
       " array([7.34925149]),\n",
       " array([7.59932185]),\n",
       " array([7.63975666]),\n",
       " array([8.16690309]),\n",
       " array([7.40073828]),\n",
       " array([7.38371456]),\n",
       " array([7.12809853]),\n",
       " array([7.09878043]),\n",
       " array([7.97727561]),\n",
       " array([6.80608427]),\n",
       " array([7.71021343]),\n",
       " array([7.36345597]),\n",
       " array([7.36845898]),\n",
       " array([7.22536896]),\n",
       " array([7.04111336]),\n",
       " array([7.77614413]),\n",
       " array([6.78676095]),\n",
       " array([7.09797483]),\n",
       " array([7.57534914]),\n",
       " array([7.42569889]),\n",
       " array([7.4897032]),\n",
       " array([7.13104168]),\n",
       " array([6.91599594]),\n",
       " array([7.55587136]),\n",
       " array([7.16668184]),\n",
       " array([7.36032493]),\n",
       " array([7.39204057]),\n",
       " array([6.8611695]),\n",
       " array([6.70531511]),\n",
       " array([7.5765727]),\n",
       " array([6.65299302]),\n",
       " array([7.64830046]),\n",
       " array([6.54378517]),\n",
       " array([7.02354558]),\n",
       " array([6.86867642]),\n",
       " array([7.27381509]),\n",
       " array([7.12144941]),\n",
       " array([7.35916973]),\n",
       " array([7.57433907]),\n",
       " array([6.99374015]),\n",
       " array([6.58372654]),\n",
       " array([6.64006554]),\n",
       " array([7.65203964]),\n",
       " array([7.48466419]),\n",
       " array([7.40861014]),\n",
       " array([6.75197745]),\n",
       " array([6.60799015]),\n",
       " array([6.47043087]),\n",
       " array([7.56079327]),\n",
       " array([6.69880523]),\n",
       " array([7.01434741]),\n",
       " array([7.23513313]),\n",
       " array([7.22111724]),\n",
       " array([6.67501929]),\n",
       " array([7.07529184]),\n",
       " array([7.27901262]),\n",
       " array([7.10431848]),\n",
       " array([7.18028827]),\n",
       " array([8.13394281]),\n",
       " array([7.37547293]),\n",
       " array([7.49164065]),\n",
       " array([7.83172832]),\n",
       " array([7.0853756]),\n",
       " array([7.24075161]),\n",
       " array([6.76994442]),\n",
       " array([7.08954597]),\n",
       " array([7.56082348]),\n",
       " array([7.64180899]),\n",
       " array([7.04714197]),\n",
       " array([6.75844348]),\n",
       " array([7.45681853]),\n",
       " array([6.59696553]),\n",
       " array([6.36815274]),\n",
       " array([7.04962297]),\n",
       " array([7.62633449]),\n",
       " array([7.07424582]),\n",
       " array([6.6642762]),\n",
       " array([7.30816872]),\n",
       " array([7.36437117]),\n",
       " array([7.16925072]),\n",
       " array([7.45790792]),\n",
       " array([7.29750909]),\n",
       " array([6.85647373]),\n",
       " array([7.44496767]),\n",
       " array([7.13964401]),\n",
       " array([7.2479647]),\n",
       " array([7.54682698]),\n",
       " array([6.94440967]),\n",
       " array([7.04797104]),\n",
       " array([7.51032045]),\n",
       " array([7.47671564]),\n",
       " array([7.37834207]),\n",
       " array([6.7932801]),\n",
       " array([7.63665111]),\n",
       " array([6.84006961]),\n",
       " array([7.66925431]),\n",
       " array([7.32129158]),\n",
       " array([7.02500365]),\n",
       " array([6.73616788]),\n",
       " array([6.77857841]),\n",
       " array([7.27513911]),\n",
       " array([7.14415799]),\n",
       " array([7.10842994]),\n",
       " array([6.93808956]),\n",
       " array([7.70304507]),\n",
       " array([7.61456732]),\n",
       " array([7.41148512]),\n",
       " array([7.18701083]),\n",
       " array([7.28617304])]"
      ]
     },
     "execution_count": 123,
     "metadata": {},
     "output_type": "execute_result"
    }
   ],
   "source": [
    "asinis"
   ]
  },
  {
   "cell_type": "code",
   "execution_count": null,
   "metadata": {},
   "outputs": [],
   "source": []
  },
  {
   "cell_type": "code",
   "execution_count": 55,
   "metadata": {},
   "outputs": [
    {
     "data": {
      "text/plain": [
       "      fun: 6898.788792247647\n",
       " hess_inv: array([[array([2.26481501e-14]), array([-5.75635932e-11]),\n",
       "        array([-1.56890181e-10]), array([4.36936676e-09])],\n",
       "       [array([-5.75635932e-11]), array([1.42293613e-05]),\n",
       "        array([-8.03747196e-07]), array([2.24179891e-05])],\n",
       "       [array([-1.56890181e-10]), array([-8.03747196e-07]),\n",
       "        array([4.14698135e-06]), array([-0.00011531])],\n",
       "       [array([4.36936676e-09]), array([2.24179891e-05]),\n",
       "        array([-0.00011531]), array([0.00321163])]], dtype=object)\n",
       "      jac: array([ 3.42957084e+04,  4.10461426e-01,  4.85534668e-01, -8.96606445e-02])\n",
       "  message: 'Desired error not necessarily achieved due to precision loss.'\n",
       "     nfev: 640\n",
       "      nit: 12\n",
       "     njev: 105\n",
       "   status: 2\n",
       "  success: False\n",
       "        x: array([array([29.99998355]), array([1.00152216]), array([-3.40399778]),\n",
       "       array([1470.29655812])], dtype=object)"
      ]
     },
     "execution_count": 55,
     "metadata": {},
     "output_type": "execute_result"
    }
   ],
   "source": [
    "# Our initial guesses from above\n",
    "initial = np.array([freqs, amps, 0.0001, period])\n",
    "soln = minimize(lnlike, initial, args=(lc.time, noisy_flux))\n",
    "soln"
   ]
  },
  {
   "cell_type": "code",
   "execution_count": 15,
   "metadata": {},
   "outputs": [
    {
     "name": "stderr",
     "output_type": "stream",
     "text": [
      "100%|██████████| 1/1 [00:00<00:00, 1377.44it/s]\n",
      "  0%|          | 0/50 [00:00<?, ?it/s]\n"
     ]
    },
    {
     "ename": "NameError",
     "evalue": "name 'curve_fit' is not defined",
     "output_type": "error",
     "traceback": [
      "\u001b[0;31m---------------------------------------------------------------------------\u001b[0m",
      "\u001b[0;31mNameError\u001b[0m                                 Traceback (most recent call last)",
      "\u001b[0;32m<ipython-input-15-069df17add1f>\u001b[0m in \u001b[0;36m<module>\u001b[0;34m\u001b[0m\n\u001b[1;32m     22\u001b[0m         \u001b[0mx0\u001b[0m \u001b[0;34m=\u001b[0m \u001b[0mnp\u001b[0m\u001b[0;34m.\u001b[0m\u001b[0marray\u001b[0m\u001b[0;34m(\u001b[0m\u001b[0;34m[\u001b[0m\u001b[0mfreqs\u001b[0m\u001b[0;34m[\u001b[0m\u001b[0;36m0\u001b[0m\u001b[0;34m]\u001b[0m\u001b[0;34m,\u001b[0m \u001b[0mamps\u001b[0m\u001b[0;34m[\u001b[0m\u001b[0;36m0\u001b[0m\u001b[0;34m]\u001b[0m\u001b[0;34m,\u001b[0m \u001b[0;36m0\u001b[0m\u001b[0;34m]\u001b[0m\u001b[0;34m)\u001b[0m\u001b[0;34m.\u001b[0m\u001b[0mflatten\u001b[0m\u001b[0;34m(\u001b[0m\u001b[0;34m)\u001b[0m\u001b[0;34m\u001b[0m\u001b[0;34m\u001b[0m\u001b[0m\n\u001b[1;32m     23\u001b[0m         \u001b[0;31m#bounds = [[0,0,0],[np.inf,np.inf,np.inf]]\u001b[0m\u001b[0;34m\u001b[0m\u001b[0;34m\u001b[0m\u001b[0;34m\u001b[0m\u001b[0m\n\u001b[0;32m---> 24\u001b[0;31m         \u001b[0mpopt\u001b[0m\u001b[0;34m,\u001b[0m \u001b[0mpcov\u001b[0m \u001b[0;34m=\u001b[0m \u001b[0mcurve_fit\u001b[0m\u001b[0;34m(\u001b[0m\u001b[0mmodel\u001b[0m\u001b[0;34m,\u001b[0m \u001b[0mlc\u001b[0m\u001b[0;34m.\u001b[0m\u001b[0mtime\u001b[0m\u001b[0;34m,\u001b[0m \u001b[0mnoisy_flux\u001b[0m\u001b[0;34m,\u001b[0m \u001b[0mp0\u001b[0m\u001b[0;34m=\u001b[0m\u001b[0mx0\u001b[0m\u001b[0;34m)\u001b[0m\u001b[0;34m\u001b[0m\u001b[0;34m\u001b[0m\u001b[0m\n\u001b[0m\u001b[1;32m     25\u001b[0m         \u001b[0masinis\u001b[0m\u001b[0;34m.\u001b[0m\u001b[0mappend\u001b[0m\u001b[0;34m(\u001b[0m\u001b[0mpopt\u001b[0m\u001b[0;34m[\u001b[0m\u001b[0;34m-\u001b[0m\u001b[0;36m1\u001b[0m\u001b[0;34m]\u001b[0m\u001b[0;34m)\u001b[0m\u001b[0;34m\u001b[0m\u001b[0;34m\u001b[0m\u001b[0m\n\u001b[1;32m     26\u001b[0m     \u001b[0masini_med\u001b[0m\u001b[0;34m.\u001b[0m\u001b[0mappend\u001b[0m\u001b[0;34m(\u001b[0m\u001b[0mnp\u001b[0m\u001b[0;34m.\u001b[0m\u001b[0mmedian\u001b[0m\u001b[0;34m(\u001b[0m\u001b[0mnp\u001b[0m\u001b[0;34m.\u001b[0m\u001b[0mabs\u001b[0m\u001b[0;34m(\u001b[0m\u001b[0masinis\u001b[0m\u001b[0;34m)\u001b[0m\u001b[0;34m)\u001b[0m\u001b[0;34m)\u001b[0m\u001b[0;34m\u001b[0m\u001b[0;34m\u001b[0m\u001b[0m\n",
      "\u001b[0;31mNameError\u001b[0m: name 'curve_fit' is not defined"
     ]
    }
   ],
   "source": [
    "from tqdm import tqdm\n",
    "\n",
    "def model(time, *theta):\n",
    "    freq, amp, asini = np.reshape(theta, (3, len(freqs)))\n",
    "    M = 2.0 * np.pi * time / period\n",
    "    psi = tt.sin(M)\n",
    "    tau = ((asini) / 86400) * psi\n",
    "    res = np.zeros(len(time))\n",
    "    for i in range(len(freq)):\n",
    "        res += amp[i] * np.sin(2 * np.pi * freq[i] * (time - T_delay[0]))\n",
    "    return res\n",
    "\n",
    "asini_med = []\n",
    "asini_sd = []\n",
    "lc = SyntheticBinary(time, freqs, amps,\n",
    "                     period, eccen, asini, varpi, tref)\n",
    "for snr in tqdm(snrs):\n",
    "    asinis = []\n",
    "    for i in range(50):\n",
    "        s_rms = lc.amplitude.max() / (np.sqrt(np.pi / len(lc.time)) * snr)\n",
    "        noisy_flux = lc.flux_true + np.random.normal(loc=0.0, scale=s_rms, size=len(lc.time))\n",
    "        #lc.add_noise(snr=snr)\n",
    "        x0 = np.array([freqs[0], amps[0], 0]).flatten()\n",
    "        #bounds = [[0,0,0],[np.inf,np.inf,np.inf]]\n",
    "        popt, pcov = curve_fit(model, lc.time, noisy_flux, p0=x0)\n",
    "        asinis.append(popt[-1])\n",
    "    asini_med.append(np.median(np.abs(asinis)))\n",
    "    asini_sd.append(np.std(asinis))"
   ]
  },
  {
   "cell_type": "code",
   "execution_count": null,
   "metadata": {},
   "outputs": [],
   "source": []
  },
  {
   "cell_type": "code",
   "execution_count": null,
   "metadata": {},
   "outputs": [],
   "source": []
  },
  {
   "cell_type": "code",
   "execution_count": null,
   "metadata": {},
   "outputs": [],
   "source": []
  },
  {
   "cell_type": "code",
   "execution_count": null,
   "metadata": {},
   "outputs": [],
   "source": []
  },
  {
   "cell_type": "code",
   "execution_count": null,
   "metadata": {},
   "outputs": [],
   "source": [
    "from exoplanet.orbits import get_true_anomaly\n",
    "import exoplanet as xo\n",
    "import astropy.units as u\n",
    "import theano.tensor as tt\n",
    "import theano\n",
    "\n",
    "def gen_model(time, flux, freq, period_guess, a_guess, with_gp=False, with_eccen=False):\n",
    "    new_model = pm.Model()\n",
    "    with new_model:\n",
    "        # Period\n",
    "#         logP = pm.Normal(\"logP\", mu=np.log(period_guess), sd=50, shape=1, testval=np.log(period_guess))\n",
    "        logP = pm.Bound(pm.Normal,\n",
    "                                 lower=np.log(1),\n",
    "                                 upper=np.log(1500))(\"logP\", mu=np.log(period_guess), sd=5, shape=1, testval=np.log(period_guess))\n",
    "        period = pm.Deterministic(\"period\", pm.math.exp(logP))\n",
    "        asini = pm.Normal('asini', mu=a_guess, sd=3, testval=a_guess)\n",
    "        phi = xo.distributions.Angle('phi', testval=0)\n",
    "        mean = pm.Normal(\"mean\", mu=np.mean(flux), sd=10.0, testval=np.mean(flux))\n",
    "        logs_lc = pm.Normal('logs_lc', mu=np.log(np.median(np.abs(np.diff(flux)))), sd=1, testval=np.log(np.median(np.abs(np.diff(flux)))))\n",
    "        sigma = pm.Deterministic('sigma', tt.exp(2*logs_lc))\n",
    "        #     logs_lc = pm.HalfNormal(\"logs_lc\",  sigma=0.25, testval=0.05)\n",
    "        M = 2.0 * np.pi * (time) / period - phi\n",
    "\n",
    "        if with_eccen:\n",
    "            varpi = xo.distributions.Angle('varpi', testval=0)\n",
    "            eccen = pm.Uniform(\"ecc\", lower=0.0, upper=1.0, testval=0.001)\n",
    "            f = get_true_anomaly(M, eccen + tt.zeros_like(M))\n",
    "            psi = (1 - tt.square(eccen)) * tt.sin(f+varpi) / (1 + eccen*tt.cos(f))\n",
    "        else:\n",
    "            psi = tt.sin(M)\n",
    "\n",
    "        lognu = pm.Normal(\"lognu\", mu=np.log(freq), sd=0.1, shape=len(freq))\n",
    "        nu = pm.Deterministic(\"nu\", tt.exp(lognu))\n",
    "        tau = ((asini) / 86400) * psi[:, None]\n",
    "        arg = 2. * np.pi * nu * (time[:, None] - tau)\n",
    "        D = tt.concatenate((tt.cos(arg), tt.sin(arg)), axis=-1)\n",
    "        w = tt.slinalg.solve(tt.dot(D.T, D), tt.dot(D.T, flux))\n",
    "        pm.Deterministic('w', w)\n",
    "        lc_model = tt.dot(D, w)\n",
    "        full_lc = lc_model - mean\n",
    "\n",
    "        if with_gp:\n",
    "            logw0 = pm.Bound(pm.Normal,\n",
    "                             lower=np.log(2*np.pi/100.0),\n",
    "                             upper=np.log(2*np.pi/2))(\"logw0\", mu=np.log(2*np.pi/10), sd=10,\n",
    "                                                        testval=np.log(2*np.pi/10))\n",
    "            logpower = pm.Normal(\"logpower\", mu=np.log(np.var(flux)), sd=10)\n",
    "            logS0 = pm.Deterministic(\"logS0\", logpower - 4 * logw0)\n",
    "            kernel = xo.gp.terms.SHOTerm(log_S0=logS0, log_w0=logw0, Q=1/np.sqrt(2))\n",
    "            gp = xo.gp.GP(kernel, time, tt.exp(2*logs_lc) + tt.zeros(len(time)), J=2)\n",
    "\n",
    "            pm.Potential(\"obs\", gp.log_likelihood(flux - full_lc))\n",
    "        else:\n",
    "            pm.Normal('obs', mu=full_lc, \n",
    "                      sd=sigma, \n",
    "                      observed=flux)\n",
    "            \n",
    "#         plt.plot(lc.time, xo.eval_in_model(psi * asini))\n",
    "#         plt.plot(lc.time, lc.tau*86400)\n",
    "#         plt.show()\n",
    "    return new_model"
   ]
  },
  {
   "cell_type": "code",
   "execution_count": 9,
   "metadata": {},
   "outputs": [
    {
     "name": "stderr",
     "output_type": "stream",
     "text": [
      "100%|██████████| 3/3 [00:00<00:00, 376.50it/s]\n"
     ]
    },
    {
     "ename": "ValueError",
     "evalue": "x and y must have same first dimension, but have shapes (73344,) and (1,)",
     "output_type": "error",
     "traceback": [
      "\u001b[0;31m---------------------------------------------------------------------------\u001b[0m",
      "\u001b[0;31mValueError\u001b[0m                                Traceback (most recent call last)",
      "\u001b[0;32m<ipython-input-9-681d0c9dc2bf>\u001b[0m in \u001b[0;36m<module>\u001b[0;34m\u001b[0m\n\u001b[1;32m      9\u001b[0m \u001b[0mnp\u001b[0m\u001b[0;34m.\u001b[0m\u001b[0mrandom\u001b[0m\u001b[0;34m.\u001b[0m\u001b[0mseed\u001b[0m\u001b[0;34m(\u001b[0m\u001b[0;36m23\u001b[0m\u001b[0;34m)\u001b[0m\u001b[0;34m\u001b[0m\u001b[0;34m\u001b[0m\u001b[0m\n\u001b[1;32m     10\u001b[0m \u001b[0mlc\u001b[0m\u001b[0;34m.\u001b[0m\u001b[0madd_noise\u001b[0m\u001b[0;34m(\u001b[0m\u001b[0msnr\u001b[0m\u001b[0;34m=\u001b[0m\u001b[0;36m500\u001b[0m\u001b[0;34m)\u001b[0m\u001b[0;34m\u001b[0m\u001b[0;34m\u001b[0m\u001b[0m\n\u001b[0;32m---> 11\u001b[0;31m \u001b[0mmodel\u001b[0m \u001b[0;34m=\u001b[0m \u001b[0mgen_model\u001b[0m\u001b[0;34m(\u001b[0m\u001b[0mlc\u001b[0m\u001b[0;34m.\u001b[0m\u001b[0mtime\u001b[0m\u001b[0;34m,\u001b[0m \u001b[0mlc\u001b[0m\u001b[0;34m.\u001b[0m\u001b[0mflux\u001b[0m\u001b[0;34m,\u001b[0m \u001b[0mfreqs\u001b[0m\u001b[0;34m,\u001b[0m \u001b[0mperiod_t\u001b[0m\u001b[0;34m,\u001b[0m \u001b[0masini\u001b[0m\u001b[0;34m)\u001b[0m\u001b[0;34m\u001b[0m\u001b[0;34m\u001b[0m\u001b[0m\n\u001b[0m",
      "\u001b[0;32m<ipython-input-8-b3a110c7a3a9>\u001b[0m in \u001b[0;36mgen_model\u001b[0;34m(time, flux, freq, period_guess, a_guess, with_gp, with_eccen)\u001b[0m\n\u001b[1;32m     57\u001b[0m \u001b[0;34m\u001b[0m\u001b[0m\n\u001b[1;32m     58\u001b[0m         \u001b[0mplt\u001b[0m\u001b[0;34m.\u001b[0m\u001b[0mplot\u001b[0m\u001b[0;34m(\u001b[0m\u001b[0mlc\u001b[0m\u001b[0;34m.\u001b[0m\u001b[0mtime\u001b[0m\u001b[0;34m,\u001b[0m \u001b[0mxo\u001b[0m\u001b[0;34m.\u001b[0m\u001b[0meval_in_model\u001b[0m\u001b[0;34m(\u001b[0m\u001b[0mpsi\u001b[0m \u001b[0;34m*\u001b[0m \u001b[0masini\u001b[0m\u001b[0;34m)\u001b[0m\u001b[0;34m)\u001b[0m\u001b[0;34m\u001b[0m\u001b[0;34m\u001b[0m\u001b[0m\n\u001b[0;32m---> 59\u001b[0;31m         \u001b[0mplt\u001b[0m\u001b[0;34m.\u001b[0m\u001b[0mplot\u001b[0m\u001b[0;34m(\u001b[0m\u001b[0mlc\u001b[0m\u001b[0;34m.\u001b[0m\u001b[0mtime\u001b[0m\u001b[0;34m,\u001b[0m \u001b[0mlc\u001b[0m\u001b[0;34m.\u001b[0m\u001b[0mtau\u001b[0m\u001b[0;34m*\u001b[0m\u001b[0;36m86400\u001b[0m\u001b[0;34m)\u001b[0m\u001b[0;34m\u001b[0m\u001b[0;34m\u001b[0m\u001b[0m\n\u001b[0m\u001b[1;32m     60\u001b[0m         \u001b[0mplt\u001b[0m\u001b[0;34m.\u001b[0m\u001b[0mshow\u001b[0m\u001b[0;34m(\u001b[0m\u001b[0;34m)\u001b[0m\u001b[0;34m\u001b[0m\u001b[0;34m\u001b[0m\u001b[0m\n\u001b[1;32m     61\u001b[0m     \u001b[0;32mreturn\u001b[0m \u001b[0mnew_model\u001b[0m\u001b[0;34m\u001b[0m\u001b[0;34m\u001b[0m\u001b[0m\n",
      "\u001b[0;32m~/anaconda3/lib/python3.7/site-packages/matplotlib/pyplot.py\u001b[0m in \u001b[0;36mplot\u001b[0;34m(scalex, scaley, data, *args, **kwargs)\u001b[0m\n\u001b[1;32m   2793\u001b[0m     return gca().plot(\n\u001b[1;32m   2794\u001b[0m         *args, scalex=scalex, scaley=scaley, **({\"data\": data} if data\n\u001b[0;32m-> 2795\u001b[0;31m         is not None else {}), **kwargs)\n\u001b[0m\u001b[1;32m   2796\u001b[0m \u001b[0;34m\u001b[0m\u001b[0m\n\u001b[1;32m   2797\u001b[0m \u001b[0;34m\u001b[0m\u001b[0m\n",
      "\u001b[0;32m~/anaconda3/lib/python3.7/site-packages/matplotlib/axes/_axes.py\u001b[0m in \u001b[0;36mplot\u001b[0;34m(self, scalex, scaley, data, *args, **kwargs)\u001b[0m\n\u001b[1;32m   1664\u001b[0m         \"\"\"\n\u001b[1;32m   1665\u001b[0m         \u001b[0mkwargs\u001b[0m \u001b[0;34m=\u001b[0m \u001b[0mcbook\u001b[0m\u001b[0;34m.\u001b[0m\u001b[0mnormalize_kwargs\u001b[0m\u001b[0;34m(\u001b[0m\u001b[0mkwargs\u001b[0m\u001b[0;34m,\u001b[0m \u001b[0mmlines\u001b[0m\u001b[0;34m.\u001b[0m\u001b[0mLine2D\u001b[0m\u001b[0;34m.\u001b[0m\u001b[0m_alias_map\u001b[0m\u001b[0;34m)\u001b[0m\u001b[0;34m\u001b[0m\u001b[0;34m\u001b[0m\u001b[0m\n\u001b[0;32m-> 1666\u001b[0;31m         \u001b[0mlines\u001b[0m \u001b[0;34m=\u001b[0m \u001b[0;34m[\u001b[0m\u001b[0;34m*\u001b[0m\u001b[0mself\u001b[0m\u001b[0;34m.\u001b[0m\u001b[0m_get_lines\u001b[0m\u001b[0;34m(\u001b[0m\u001b[0;34m*\u001b[0m\u001b[0margs\u001b[0m\u001b[0;34m,\u001b[0m \u001b[0mdata\u001b[0m\u001b[0;34m=\u001b[0m\u001b[0mdata\u001b[0m\u001b[0;34m,\u001b[0m \u001b[0;34m**\u001b[0m\u001b[0mkwargs\u001b[0m\u001b[0;34m)\u001b[0m\u001b[0;34m]\u001b[0m\u001b[0;34m\u001b[0m\u001b[0;34m\u001b[0m\u001b[0m\n\u001b[0m\u001b[1;32m   1667\u001b[0m         \u001b[0;32mfor\u001b[0m \u001b[0mline\u001b[0m \u001b[0;32min\u001b[0m \u001b[0mlines\u001b[0m\u001b[0;34m:\u001b[0m\u001b[0;34m\u001b[0m\u001b[0;34m\u001b[0m\u001b[0m\n\u001b[1;32m   1668\u001b[0m             \u001b[0mself\u001b[0m\u001b[0;34m.\u001b[0m\u001b[0madd_line\u001b[0m\u001b[0;34m(\u001b[0m\u001b[0mline\u001b[0m\u001b[0;34m)\u001b[0m\u001b[0;34m\u001b[0m\u001b[0;34m\u001b[0m\u001b[0m\n",
      "\u001b[0;32m~/anaconda3/lib/python3.7/site-packages/matplotlib/axes/_base.py\u001b[0m in \u001b[0;36m__call__\u001b[0;34m(self, *args, **kwargs)\u001b[0m\n\u001b[1;32m    223\u001b[0m                 \u001b[0mthis\u001b[0m \u001b[0;34m+=\u001b[0m \u001b[0margs\u001b[0m\u001b[0;34m[\u001b[0m\u001b[0;36m0\u001b[0m\u001b[0;34m]\u001b[0m\u001b[0;34m,\u001b[0m\u001b[0;34m\u001b[0m\u001b[0;34m\u001b[0m\u001b[0m\n\u001b[1;32m    224\u001b[0m                 \u001b[0margs\u001b[0m \u001b[0;34m=\u001b[0m \u001b[0margs\u001b[0m\u001b[0;34m[\u001b[0m\u001b[0;36m1\u001b[0m\u001b[0;34m:\u001b[0m\u001b[0;34m]\u001b[0m\u001b[0;34m\u001b[0m\u001b[0;34m\u001b[0m\u001b[0m\n\u001b[0;32m--> 225\u001b[0;31m             \u001b[0;32myield\u001b[0m \u001b[0;32mfrom\u001b[0m \u001b[0mself\u001b[0m\u001b[0;34m.\u001b[0m\u001b[0m_plot_args\u001b[0m\u001b[0;34m(\u001b[0m\u001b[0mthis\u001b[0m\u001b[0;34m,\u001b[0m \u001b[0mkwargs\u001b[0m\u001b[0;34m)\u001b[0m\u001b[0;34m\u001b[0m\u001b[0;34m\u001b[0m\u001b[0m\n\u001b[0m\u001b[1;32m    226\u001b[0m \u001b[0;34m\u001b[0m\u001b[0m\n\u001b[1;32m    227\u001b[0m     \u001b[0;32mdef\u001b[0m \u001b[0mget_next_color\u001b[0m\u001b[0;34m(\u001b[0m\u001b[0mself\u001b[0m\u001b[0;34m)\u001b[0m\u001b[0;34m:\u001b[0m\u001b[0;34m\u001b[0m\u001b[0;34m\u001b[0m\u001b[0m\n",
      "\u001b[0;32m~/anaconda3/lib/python3.7/site-packages/matplotlib/axes/_base.py\u001b[0m in \u001b[0;36m_plot_args\u001b[0;34m(self, tup, kwargs)\u001b[0m\n\u001b[1;32m    389\u001b[0m             \u001b[0mx\u001b[0m\u001b[0;34m,\u001b[0m \u001b[0my\u001b[0m \u001b[0;34m=\u001b[0m \u001b[0mindex_of\u001b[0m\u001b[0;34m(\u001b[0m\u001b[0mtup\u001b[0m\u001b[0;34m[\u001b[0m\u001b[0;34m-\u001b[0m\u001b[0;36m1\u001b[0m\u001b[0;34m]\u001b[0m\u001b[0;34m)\u001b[0m\u001b[0;34m\u001b[0m\u001b[0;34m\u001b[0m\u001b[0m\n\u001b[1;32m    390\u001b[0m \u001b[0;34m\u001b[0m\u001b[0m\n\u001b[0;32m--> 391\u001b[0;31m         \u001b[0mx\u001b[0m\u001b[0;34m,\u001b[0m \u001b[0my\u001b[0m \u001b[0;34m=\u001b[0m \u001b[0mself\u001b[0m\u001b[0;34m.\u001b[0m\u001b[0m_xy_from_xy\u001b[0m\u001b[0;34m(\u001b[0m\u001b[0mx\u001b[0m\u001b[0;34m,\u001b[0m \u001b[0my\u001b[0m\u001b[0;34m)\u001b[0m\u001b[0;34m\u001b[0m\u001b[0;34m\u001b[0m\u001b[0m\n\u001b[0m\u001b[1;32m    392\u001b[0m \u001b[0;34m\u001b[0m\u001b[0m\n\u001b[1;32m    393\u001b[0m         \u001b[0;32mif\u001b[0m \u001b[0mself\u001b[0m\u001b[0;34m.\u001b[0m\u001b[0mcommand\u001b[0m \u001b[0;34m==\u001b[0m \u001b[0;34m'plot'\u001b[0m\u001b[0;34m:\u001b[0m\u001b[0;34m\u001b[0m\u001b[0;34m\u001b[0m\u001b[0m\n",
      "\u001b[0;32m~/anaconda3/lib/python3.7/site-packages/matplotlib/axes/_base.py\u001b[0m in \u001b[0;36m_xy_from_xy\u001b[0;34m(self, x, y)\u001b[0m\n\u001b[1;32m    268\u001b[0m         \u001b[0;32mif\u001b[0m \u001b[0mx\u001b[0m\u001b[0;34m.\u001b[0m\u001b[0mshape\u001b[0m\u001b[0;34m[\u001b[0m\u001b[0;36m0\u001b[0m\u001b[0;34m]\u001b[0m \u001b[0;34m!=\u001b[0m \u001b[0my\u001b[0m\u001b[0;34m.\u001b[0m\u001b[0mshape\u001b[0m\u001b[0;34m[\u001b[0m\u001b[0;36m0\u001b[0m\u001b[0;34m]\u001b[0m\u001b[0;34m:\u001b[0m\u001b[0;34m\u001b[0m\u001b[0;34m\u001b[0m\u001b[0m\n\u001b[1;32m    269\u001b[0m             raise ValueError(\"x and y must have same first dimension, but \"\n\u001b[0;32m--> 270\u001b[0;31m                              \"have shapes {} and {}\".format(x.shape, y.shape))\n\u001b[0m\u001b[1;32m    271\u001b[0m         \u001b[0;32mif\u001b[0m \u001b[0mx\u001b[0m\u001b[0;34m.\u001b[0m\u001b[0mndim\u001b[0m \u001b[0;34m>\u001b[0m \u001b[0;36m2\u001b[0m \u001b[0;32mor\u001b[0m \u001b[0my\u001b[0m\u001b[0;34m.\u001b[0m\u001b[0mndim\u001b[0m \u001b[0;34m>\u001b[0m \u001b[0;36m2\u001b[0m\u001b[0;34m:\u001b[0m\u001b[0;34m\u001b[0m\u001b[0;34m\u001b[0m\u001b[0m\n\u001b[1;32m    272\u001b[0m             raise ValueError(\"x and y can be no greater than 2-D, but have \"\n",
      "\u001b[0;31mValueError\u001b[0m: x and y must have same first dimension, but have shapes (73344,) and (1,)"
     ]
    },
    {
     "data": {
      "image/png": "[encoded data removed]",
      "text/plain": [
       "<Figure size 432x288 with 1 Axes>"
      ]
     },
     "metadata": {
      "needs_background": "light"
     },
     "output_type": "display_data"
    }
   ],
   "source": [
    "period_t = 100#periods[3]\n",
    "asini = 0\n",
    "freqs = np.array([30, 40, 50])#dsct_freq\n",
    "amps = np.array([0.8, 0.8, 1])#dsct_amp\n",
    "time = t\n",
    "\n",
    "lc = SyntheticBinary(time, freqs, amps,\n",
    "                     period_t, 0, asini, 0, 0, tau=0)\n",
    "np.random.seed(23)\n",
    "lc.add_noise(snr=500)\n",
    "model = gen_model(lc.time, lc.flux, freqs, period_t, asini)"
   ]
  },
  {
   "cell_type": "code",
   "execution_count": 34,
   "metadata": {},
   "outputs": [
    {
     "name": "stderr",
     "output_type": "stream",
     "text": [
      "100%|██████████| 3/3 [00:00<00:00, 253.66it/s]\n"
     ]
    },
    {
     "data": {
      "image/png": "[encoded data removed]",
      "text/plain": [
       "<Figure size 432x288 with 1 Axes>"
      ]
     },
     "metadata": {
      "needs_background": "light"
     },
     "output_type": "display_data"
    }
   ],
   "source": [
    "period_t = 1000#periods[3]\n",
    "asinis = [0.712,3.56,7.12]\n",
    "freqs = np.array([30, 40, 50])#dsct_freq\n",
    "amps = np.array([0.8, 0.8, 1])#dsct_amp\n",
    "time = t\n",
    "\n",
    "lc = SyntheticBinary(time, freqs, amps,\n",
    "                         period_t, 0, 0.712, 0, 0)\n",
    "np.random.seed(23)\n",
    "lc.add_noise(snr=500)\n",
    "model = gen_model(lc.time, lc.flux, freqs, period_t, 0.712)\n",
    "    \n",
    "with model:\n",
    "    trace = pm.load_trace('traces/planet_test/1000d_7.12')"
   ]
  },
  {
   "cell_type": "code",
   "execution_count": 35,
   "metadata": {},
   "outputs": [
    {
     "name": "stdout",
     "output_type": "stream",
     "text": [
      "9.876952933618032 0.7746576694752783 0.7273053369797324\n"
     ]
    }
   ],
   "source": [
    "df = pm.trace_to_dataframe(trace, varnames=['period', 'asini'])\n",
    "masses = (mass_function(df['period__0'].values*u.day, df['asini'].values*u.s).to(u.M_jup))**(1/3) * ((1.5*u.M_sun).to(u.M_jup))**(2/3)\n",
    "upper, med, lower = np.percentile(masses, [84.13, 50, 15.86])\n",
    "print(med, upper-med, med-lower)"
   ]
  },
  {
   "cell_type": "code",
   "execution_count": null,
   "metadata": {},
   "outputs": [],
   "source": []
  },
  {
   "cell_type": "code",
   "execution_count": 19,
   "metadata": {},
   "outputs": [],
   "source": [
    "from astropy import constants as const\n",
    "import astropy.units as u\n",
    "\n",
    "def rev_mass_function(period, mass):\n",
    "    asini =( (4*np.pi**2 * (1*const.c**3)) / (1*const.G) * 1 / (period.to(u.s)**2) * mass.to(u.M_sun))**(-1/3)\n",
    "    return asini"
   ]
  },
  {
   "cell_type": "code",
   "execution_count": 6,
   "metadata": {},
   "outputs": [],
   "source": [
    "from astropy import constants as const\n",
    "import astropy.units as u\n",
    "\n",
    "def mass_function(period, asini):\n",
    "    consts = (4*np.pi**2 * (1*const.c**3)) / (1*const.G)\n",
    "    si = (asini**3) * consts / (period.to(u.s)**2)\n",
    "    return si.to(u.M_sun)"
   ]
  },
  {
   "cell_type": "code",
   "execution_count": 8,
   "metadata": {},
   "outputs": [
    {
     "data": {
      "text/latex": [
       "$1.0008053 \\; \\mathrm{M_{\\rm J}}$"
      ],
      "text/plain": [
       "<Quantity 1.00080531 jupiterMass>"
      ]
     },
     "execution_count": 8,
     "metadata": {},
     "output_type": "execute_result"
    }
   ],
   "source": [
    "\n",
    "\n",
    "\n",
    "stellar_mass = 1.5\n",
    "(mass_function(1000*u.day, 0.712*u.s).to(u.M_jup))**(1/3) * ((1.5*u.M_sun).to(u.M_jup))**(2/3)"
   ]
  },
  {
   "cell_type": "code",
   "execution_count": 102,
   "metadata": {},
   "outputs": [
    {
     "name": "stderr",
     "output_type": "stream",
     "text": [
      "100%|██████████| 3/3 [00:00<00:00, 788.16it/s]\n"
     ]
    }
   ],
   "source": [
    "# from maelstrom.utils import amplitude_spectrum\n",
    "from tqdm import tqdm\n",
    "# Fixed parameters\n",
    "\n",
    "period_t = 1000.\n",
    "asini_t = 7.12\n",
    "\n",
    "eccen_t = 0.\n",
    "varpi_t = 0.\n",
    "phi_t = 0.\n",
    "\n",
    "#n_freq = 1\n",
    "freqs = np.array([30, 40, 50])#dsct_freq\n",
    "amps = np.array([0.8, 0.8, 1])#dsct_amp\n",
    "\n",
    "# TESS 2 min cadence for 1 sector\n",
    "# time = np.arange(0, 27, 1.0 / (24 * 30))\n",
    "time = t\n",
    "\n",
    "lc = SyntheticBinary(time, freqs, amps,\n",
    "                     period_t, eccen_t, asini_t, varpi_t, phi_t)\n",
    "np.random.seed(23)\n",
    "lc.add_noise(snr=500)"
   ]
  },
  {
   "cell_type": "code",
   "execution_count": 103,
   "metadata": {},
   "outputs": [
    {
     "data": {
      "image/png": "[encoded data removed]",
      "text/plain": [
       "<Figure size 432x288 with 1 Axes>"
      ]
     },
     "metadata": {
      "needs_background": "light"
     },
     "output_type": "display_data"
    }
   ],
   "source": []
  },
  {
   "cell_type": "code",
   "execution_count": 76,
   "metadata": {},
   "outputs": [],
   "source": [
    "def get_phase(nu, t, y):\n",
    "    arg = 2*np.pi*nu[None, :]*t[:, None]\n",
    "    D = np.concatenate((np.sin(arg), np.cos(arg),\n",
    "                        np.ones((len(t), 1))), axis=1)\n",
    "    DT = D.T\n",
    "    DTD = np.dot(DT, D)\n",
    "    w = np.linalg.solve(DTD, np.dot(D.T, y))\n",
    "    return np.arctan2(w[:len(nu)], w[len(nu):2*len(nu)]) / (2*np.pi*nu)"
   ]
  },
  {
   "cell_type": "code",
   "execution_count": 77,
   "metadata": {},
   "outputs": [
    {
     "name": "stderr",
     "output_type": "stream",
     "text": [
      "100%|██████████| 1499/1499 [00:00<00:00, 2671.48it/s]\n"
     ]
    }
   ],
   "source": [
    "segment = 3\n",
    "t0s = np.arange(lc.time.min(), lc.time.max(), 1)\n",
    "phases = np.empty((len(t0s)-1, len(freqs)))\n",
    "phases[:] = np.nan\n",
    "for i, t0 in tqdm(enumerate(t0s[:-1]), total=len(t0s)-1):\n",
    "    m = (t0 <= lc.time) & (lc.time < t0s[i+1])\n",
    "#     if m.sum() < 100:\n",
    "#         continue\n",
    "    phases[i] = get_phase(freqs, lc.time[m], lc.flux[m])\n",
    "m = np.isfinite(phases[:, 0])\n",
    "# phases -= np.nanmean(phases, axis=0)\n",
    "full = np.mean(phases, axis=1)"
   ]
  },
  {
   "cell_type": "code",
   "execution_count": 78,
   "metadata": {},
   "outputs": [
    {
     "data": {
      "text/plain": [
       "(1043.798972297358, 2.7525948856971367)"
      ]
     },
     "execution_count": 78,
     "metadata": {},
     "output_type": "execute_result"
    },
    {
     "data": {
      "image/png": "[encoded data removed]",
      "text/plain": [
       "<Figure size 432x288 with 1 Axes>"
      ]
     },
     "metadata": {
      "needs_background": "light"
     },
     "output_type": "display_data"
    }
   ],
   "source": [
    "res = xo.estimators.lomb_scargle_estimator(t0s[:-1][m], full[m], min_period=800,#2*segment, \n",
    "                                           max_period=1200)\n",
    "f, p = res[\"periodogram\"]\n",
    "plt.plot(1 / f, p)\n",
    "plt.axvline(res[\"peaks\"][0][\"period\"], color=\"green\", linewidth=5, alpha=0.2)\n",
    "plt.xlabel(\"period\")\n",
    "plt.ylabel(\"power\")\n",
    "plt.yticks([]);\n",
    "\n",
    "period_guess = res[\"peaks\"][0][\"period\"]\n",
    "arg = 2*np.pi*t0s[:-1][m]/period_guess\n",
    "D = np.concatenate((np.sin(arg)[:, None],\n",
    "                    np.cos(arg)[:, None],\n",
    "                    np.ones((len(phases[m]), 1))), axis=-1)\n",
    "w = np.linalg.solve(np.dot(D.T, D), np.dot(D.T, phases[m, 0]))\n",
    "a_guess = np.sqrt(np.sum(w[:2]**2)) * 86400\n",
    "period_guess, a_guess"
   ]
  },
  {
   "cell_type": "code",
   "execution_count": null,
   "metadata": {},
   "outputs": [],
   "source": []
  },
  {
   "cell_type": "code",
   "execution_count": 73,
   "metadata": {},
   "outputs": [
    {
     "ename": "NameError",
     "evalue": "name 'ms' is not defined",
     "output_type": "error",
     "traceback": [
      "\u001b[0;31m---------------------------------------------------------------------------\u001b[0m",
      "\u001b[0;31mNameError\u001b[0m                                 Traceback (most recent call last)",
      "\u001b[0;32m<ipython-input-73-912d1c9a0f15>\u001b[0m in \u001b[0;36m<module>\u001b[0;34m\u001b[0m\n\u001b[1;32m      1\u001b[0m \u001b[0;32mfrom\u001b[0m \u001b[0mtqdm\u001b[0m \u001b[0;32mimport\u001b[0m \u001b[0mtqdm\u001b[0m\u001b[0;34m\u001b[0m\u001b[0;34m\u001b[0m\u001b[0m\n\u001b[1;32m      2\u001b[0m \u001b[0;34m\u001b[0m\u001b[0m\n\u001b[0;32m----> 3\u001b[0;31m \u001b[0mtime\u001b[0m\u001b[0;34m,\u001b[0m \u001b[0mmag\u001b[0m \u001b[0;34m=\u001b[0m \u001b[0mms\u001b[0m\u001b[0;34m.\u001b[0m\u001b[0mtime\u001b[0m\u001b[0;34m,\u001b[0m \u001b[0mms\u001b[0m\u001b[0;34m.\u001b[0m\u001b[0mflux\u001b[0m\u001b[0;34m\u001b[0m\u001b[0;34m\u001b[0m\u001b[0m\n\u001b[0m\u001b[1;32m      4\u001b[0m \u001b[0mfreq\u001b[0m \u001b[0;34m=\u001b[0m \u001b[0mfreqs\u001b[0m\u001b[0;34m\u001b[0m\u001b[0;34m\u001b[0m\u001b[0m\n\u001b[1;32m      5\u001b[0m \u001b[0;32mwith\u001b[0m \u001b[0mpm\u001b[0m\u001b[0;34m.\u001b[0m\u001b[0mModel\u001b[0m\u001b[0;34m(\u001b[0m\u001b[0;34m)\u001b[0m \u001b[0;32mas\u001b[0m \u001b[0msimple_model\u001b[0m\u001b[0;34m:\u001b[0m\u001b[0;34m\u001b[0m\u001b[0;34m\u001b[0m\u001b[0m\n",
      "\u001b[0;31mNameError\u001b[0m: name 'ms' is not defined"
     ]
    }
   ],
   "source": [
    "from tqdm import tqdm\n",
    "\n",
    "time, mag = ms.time, ms.flux\n",
    "freq = freqs\n",
    "with pm.Model() as simple_model:\n",
    "    \n",
    "    period = pm.Flat(\"period\", testval=10.0)\n",
    "    nu = pm.Flat(\"nu\", testval=15)\n",
    "    \n",
    "    phi = xo.distributions.Angle(\"phi\")\n",
    "    logasini = pm.Uniform(\"logasini\", lower=np.log(1), upper=np.log(1000),\n",
    "                          testval=np.log(10))\n",
    "    drift = pm.Normal(\"drift\", mu=0, sd=1.0)\n",
    "    \n",
    "    M = 2.0 * np.pi * time / period - phi\n",
    "    \n",
    "    factor = 2. * np.pi * nu\n",
    "    A = factor * (1 + drift) * time\n",
    "    B = -factor * (tt.exp(logasini) / 86400) * tt.sin(M)\n",
    "    \n",
    "    sinarg = tt.sin(A+B)\n",
    "    cosarg = tt.cos(A+B)\n",
    "    \n",
    "    DT = tt.stack((sinarg, cosarg, tt.ones_like(sinarg)))\n",
    "    w = tt.slinalg.solve(tt.dot(DT, DT.T), tt.dot(DT, mag))\n",
    "    pm.Deterministic(\"w\", w)\n",
    "    pm.Deterministic(\"phase\", tt.arctan2(w[1], w[0]))\n",
    "    lc_model = tt.dot(DT.T, w)\n",
    "        \n",
    "    pm.Normal(\"obs\", mu=lc_model, observed=mag)\n",
    "    \n",
    "    fit_params = [v for v in simple_model.vars if v.name not in [\"period\", \"nu\"]]\n",
    "\n",
    "def run_fit(p, nu):\n",
    "    with simple_model:\n",
    "        start = dict(simple_model.test_point)\n",
    "        start[\"period\"] = p\n",
    "        start[\"nu\"] = nu\n",
    "        point, info = xo.optimize(start, vars=fit_params, return_info=True, verbose=False)\n",
    "    return -info.fun, point\n",
    "\n",
    "#periods = np.exp(np.linspace(np.log(10), np.log(25), 50))\n",
    "periods = np.linspace(80, 120, 50)\n",
    "results = []\n",
    "for f in freq[:2]:\n",
    "    results.append([run_fit(p, f) for p in tqdm(periods)])"
   ]
  },
  {
   "cell_type": "code",
   "execution_count": 67,
   "metadata": {},
   "outputs": [
    {
     "data": {
      "image/png": "[encoded data removed]",
      "text/plain": [
       "<Figure size 432x288 with 1 Axes>"
      ]
     },
     "metadata": {
      "needs_background": "light"
     },
     "output_type": "display_data"
    }
   ],
   "source": [
    "ys = np.array([[r[0] for r in row] for row in results])\n",
    "sm = np.sum(ys, axis=0)\n",
    "period_ind = np.argmax(sm)\n",
    "plt.plot(periods[:-2], sm[:-2]);"
   ]
  },
  {
   "cell_type": "code",
   "execution_count": 68,
   "metadata": {},
   "outputs": [
    {
     "data": {
      "image/png": "[encoded data removed]",
      "text/plain": [
       "<Figure size 432x288 with 1 Axes>"
      ]
     },
     "metadata": {
      "needs_background": "light"
     },
     "output_type": "display_data"
    }
   ],
   "source": [
    "ys = np.array([[np.exp(r[1][\"logasini\"]) for r in row] for row in results])\n",
    "sm = np.median(ys, axis=0)\n",
    "period_ind = np.argmax(sm)\n",
    "plt.plot(periods[:-2], sm[:-2]);"
   ]
  },
  {
   "cell_type": "code",
   "execution_count": 69,
   "metadata": {},
   "outputs": [
    {
     "data": {
      "image/png": "[encoded data removed]",
      "text/plain": [
       "<Figure size 432x288 with 1 Axes>"
      ]
     },
     "metadata": {
      "needs_background": "light"
     },
     "output_type": "display_data"
    }
   ],
   "source": [
    "ys = np.array([[np.exp(r[1][\"logasini\"]) for r in row] for row in results])\n",
    "for i in ys:\n",
    "    plt.plot(periods, i)"
   ]
  },
  {
   "cell_type": "code",
   "execution_count": 70,
   "metadata": {},
   "outputs": [
    {
     "data": {
      "text/plain": [
       "(118.36734693877551, 2.851333670178876)"
      ]
     },
     "execution_count": 70,
     "metadata": {},
     "output_type": "execute_result"
    }
   ],
   "source": [
    "period_guess = periods[period_ind]\n",
    "a_guess = np.max(sm)\n",
    "period_guess, a_guess\n"
   ]
  },
  {
   "cell_type": "code",
   "execution_count": 79,
   "metadata": {},
   "outputs": [
    {
     "data": {
      "text/plain": [
       "(1043.798972297358, 2.7525948856971367, array([30, 40, 50]))"
      ]
     },
     "execution_count": 79,
     "metadata": {},
     "output_type": "execute_result"
    }
   ],
   "source": [
    "period_guess, a_guess, freqs"
   ]
  },
  {
   "cell_type": "code",
   "execution_count": 80,
   "metadata": {},
   "outputs": [],
   "source": [
    "from exoplanet.orbits import get_true_anomaly\n",
    "import exoplanet as xo\n",
    "import astropy.units as u\n",
    "import theano.tensor as tt\n",
    "import theano\n",
    "\n",
    "def gen_model(time, flux, freq, period_guess, a_guess, with_gp=False, with_eccen=False):\n",
    "    new_model = pm.Model()\n",
    "    with new_model:\n",
    "        # Period\n",
    "        logP = pm.Normal(\"logP\", mu=np.log(period_guess), sd=50, shape=1, testval=np.log(period_guess))\n",
    "        period = pm.Deterministic(\"period\", pm.math.exp(logP))\n",
    "        asini = pm.Normal('asini', mu=a_guess, sd=3, testval=a_guess)\n",
    "        phi = xo.distributions.Angle('phi', testval=0)\n",
    "        mean = pm.Normal(\"mean\", mu=np.mean(flux), sd=10.0, testval=np.mean(flux))\n",
    "        logs_lc = pm.Normal('logs_lc', mu=np.log(np.median(np.abs(np.diff(flux)))), sd=1, testval=np.log(np.median(np.abs(np.diff(flux)))))\n",
    "        sigma = pm.Deterministic('sigma', tt.exp(2*logs_lc))\n",
    "        #     logs_lc = pm.HalfNormal(\"logs_lc\",  sigma=0.25, testval=0.05)\n",
    "        M = 2.0 * np.pi * (time) / period - phi\n",
    "\n",
    "        if with_eccen:\n",
    "            varpi = xo.distributions.Angle('varpi', testval=0)\n",
    "            eccen = pm.Uniform(\"ecc\", lower=0.0, upper=1.0, testval=0.001)\n",
    "            f = get_true_anomaly(M, eccen + tt.zeros_like(M))\n",
    "            psi = -(1 - tt.square(eccen)) * tt.sin(f+varpi) / (1 + eccen*tt.cos(f))\n",
    "        else:\n",
    "            psi = -tt.sin(M)\n",
    "\n",
    "        lognu = pm.Normal(\"lognu\", mu=np.log(freq), sd=0.1, shape=len(freq))\n",
    "        nu = pm.Deterministic(\"nu\", tt.exp(lognu))\n",
    "        tau = ((asini) / 86400) * psi[:, None]\n",
    "        arg = 2. * np.pi * nu * (time[:, None] - tau)\n",
    "        D = tt.concatenate((tt.cos(arg), tt.sin(arg)), axis=-1)\n",
    "        w = tt.slinalg.solve(tt.dot(D.T, D), tt.dot(D.T, flux))\n",
    "        pm.Deterministic('w', w)\n",
    "        lc_model = tt.dot(D, w)\n",
    "        full_lc = lc_model - mean\n",
    "\n",
    "        if with_gp:\n",
    "            logw0 = pm.Bound(pm.Normal,\n",
    "                             lower=np.log(2*np.pi/100.0),\n",
    "                             upper=np.log(2*np.pi/2))(\"logw0\", mu=np.log(2*np.pi/10), sd=10,\n",
    "                                                        testval=np.log(2*np.pi/10))\n",
    "            logpower = pm.Normal(\"logpower\", mu=np.log(np.var(flux)), sd=10)\n",
    "            logS0 = pm.Deterministic(\"logS0\", logpower - 4 * logw0)\n",
    "            kernel = xo.gp.terms.SHOTerm(log_S0=logS0, log_w0=logw0, Q=1/np.sqrt(2))\n",
    "            gp = xo.gp.GP(kernel, time, tt.exp(2*logs_lc) + tt.zeros(len(time)), J=2)\n",
    "\n",
    "            pm.Potential(\"obs\", gp.log_likelihood(flux - full_lc))\n",
    "        else:\n",
    "            pm.Normal('obs', mu=full_lc, \n",
    "                      sd=sigma, \n",
    "                      observed=flux)\n",
    "            \n",
    "    return new_model\n",
    "\n",
    "model = gen_model(lc.time, lc.flux, freqs, period_guess, a_guess)"
   ]
  },
  {
   "cell_type": "code",
   "execution_count": 81,
   "metadata": {},
   "outputs": [
    {
     "name": "stderr",
     "output_type": "stream",
     "text": [
      "optimizing logp for variables: [logs_lc, mean]\n",
      "168it [00:04, 38.17it/s, logp=-1.721197e+04]\n",
      "message: Desired error not necessarily achieved due to precision loss.\n",
      "logp: -70037.0285817272 -> -17211.974008590285\n",
      "optimizing logp for variables: [phi]\n",
      "15it [00:00, 23.04it/s, logp=-1.715006e+04]\n",
      "message: Optimization terminated successfully.\n",
      "logp: -17211.974008590285 -> -17150.063525636673\n",
      "optimizing logp for variables: [lognu]\n",
      "93it [00:03, 30.10it/s, logp=-1.714911e+04]\n",
      "message: Desired error not necessarily achieved due to precision loss.\n",
      "logp: -17150.063525636673 -> -17149.114309981756\n",
      "optimizing logp for variables: [lognu, logs_lc, mean, phi, asini, logP]\n",
      "165it [00:05, 30.66it/s, logp=-1.714903e+04]\n",
      "message: Desired error not necessarily achieved due to precision loss.\n",
      "logp: -17149.114309981756 -> -17149.02786515029\n",
      "optimizing logp for variables: [asini]\n",
      "3it [00:00,  4.47it/s, logp=-1.714903e+04]\n",
      "message: Optimization terminated successfully.\n",
      "logp: -17149.02786515029 -> -17149.02786515029\n",
      "optimizing logp for variables: [lognu, logs_lc, mean, phi, asini, logP]\n",
      "73it [00:02, 28.77it/s, logp=-4.630291e+05]\n",
      "message: Desired error not necessarily achieved due to precision loss.\n",
      "logp: -17149.02786515029 -> -17149.02786515029\n",
      "optimizing logp for variables: [logP]\n",
      "69it [00:02, 29.23it/s, logp=-1.714903e+04]\n",
      "message: Desired error not necessarily achieved due to precision loss.\n",
      "logp: -17149.02786515029 -> -17149.02786515029\n"
     ]
    }
   ],
   "source": [
    "with model:\n",
    "    map_params = xo.optimize(start=None, vars=[model.mean,model.logs_lc])\n",
    "    map_params = xo.optimize(start=map_params, vars=[model.phi])\n",
    "    map_params = xo.optimize(start=map_params, vars=[model.lognu])\n",
    "    map_params = xo.optimize(start=map_params)\n",
    "    \n",
    "    map_params = xo.optimize(start=map_params, vars=[model.asini])\n",
    "    map_params = xo.optimize(start=map_params)\n",
    "    map_params = xo.optimize(start=map_params, vars=[model.logP])"
   ]
  },
  {
   "cell_type": "code",
   "execution_count": 83,
   "metadata": {},
   "outputs": [
    {
     "data": {
      "text/plain": [
       "{'logP': array([6.94903515]),\n",
       " 'asini': array(2.58161807),\n",
       " 'phi_angle__': array([ 3.91985243, -2.15284933]),\n",
       " 'mean': array(0.00232803),\n",
       " 'logs_lc': array(-0.59247183),\n",
       " 'lognu': array([3.40119736, 3.68887947, 3.91202301]),\n",
       " 'period': array([1042.1437321]),\n",
       " 'phi': array(2.07303814),\n",
       " 'sigma': array(0.30576341),\n",
       " 'nu': array([29.99999932, 40.00000075, 50.        ]),\n",
       " 'w': array([-0.0448259 ,  0.7221637 ,  0.38509981, -0.79824311,  0.34334155,\n",
       "         0.92028878])}"
      ]
     },
     "execution_count": 83,
     "metadata": {},
     "output_type": "execute_result"
    }
   ],
   "source": [
    "map_params"
   ]
  },
  {
   "cell_type": "code",
   "execution_count": 84,
   "metadata": {},
   "outputs": [
    {
     "name": "stderr",
     "output_type": "stream",
     "text": [
      "Sampling 2 chains: 100%|██████████| 204/204 [17:13<00:00, 17.40s/draws]\n",
      "Sampling 2 chains: 100%|██████████| 204/204 [16:01<00:00, 12.94s/draws]\n",
      "Sampling 2 chains:   6%|▌         | 23/404 [02:25<39:40,  6.25s/draws] \n"
     ]
    },
    {
     "ename": "ValueError",
     "evalue": "Not enough samples to build a trace.",
     "output_type": "error",
     "traceback": [
      "\u001b[0;31m---------------------------------------------------------------------------\u001b[0m",
      "\u001b[0;31mKeyboardInterrupt\u001b[0m                         Traceback (most recent call last)",
      "\u001b[0;32m~/anaconda3/lib/python3.7/site-packages/pymc3/sampling.py\u001b[0m in \u001b[0;36m_mp_sample\u001b[0;34m(draws, tune, step, chains, cores, chain, random_seed, start, progressbar, trace, model, **kwargs)\u001b[0m\n\u001b[1;32m    968\u001b[0m             \u001b[0;32mwith\u001b[0m \u001b[0msampler\u001b[0m\u001b[0;34m:\u001b[0m\u001b[0;34m\u001b[0m\u001b[0;34m\u001b[0m\u001b[0m\n\u001b[0;32m--> 969\u001b[0;31m                 \u001b[0;32mfor\u001b[0m \u001b[0mdraw\u001b[0m \u001b[0;32min\u001b[0m \u001b[0msampler\u001b[0m\u001b[0;34m:\u001b[0m\u001b[0;34m\u001b[0m\u001b[0;34m\u001b[0m\u001b[0m\n\u001b[0m\u001b[1;32m    970\u001b[0m                     \u001b[0mtrace\u001b[0m \u001b[0;34m=\u001b[0m \u001b[0mtraces\u001b[0m\u001b[0;34m[\u001b[0m\u001b[0mdraw\u001b[0m\u001b[0;34m.\u001b[0m\u001b[0mchain\u001b[0m \u001b[0;34m-\u001b[0m \u001b[0mchain\u001b[0m\u001b[0;34m]\u001b[0m\u001b[0;34m\u001b[0m\u001b[0;34m\u001b[0m\u001b[0m\n",
      "\u001b[0;32m~/anaconda3/lib/python3.7/site-packages/pymc3/parallel_sampling.py\u001b[0m in \u001b[0;36m__iter__\u001b[0;34m(self)\u001b[0m\n\u001b[1;32m    392\u001b[0m         \u001b[0;32mwhile\u001b[0m \u001b[0mself\u001b[0m\u001b[0;34m.\u001b[0m\u001b[0m_active\u001b[0m\u001b[0;34m:\u001b[0m\u001b[0;34m\u001b[0m\u001b[0;34m\u001b[0m\u001b[0m\n\u001b[0;32m--> 393\u001b[0;31m             \u001b[0mdraw\u001b[0m \u001b[0;34m=\u001b[0m \u001b[0mProcessAdapter\u001b[0m\u001b[0;34m.\u001b[0m\u001b[0mrecv_draw\u001b[0m\u001b[0;34m(\u001b[0m\u001b[0mself\u001b[0m\u001b[0;34m.\u001b[0m\u001b[0m_active\u001b[0m\u001b[0;34m)\u001b[0m\u001b[0;34m\u001b[0m\u001b[0;34m\u001b[0m\u001b[0m\n\u001b[0m\u001b[1;32m    394\u001b[0m             \u001b[0mproc\u001b[0m\u001b[0;34m,\u001b[0m \u001b[0mis_last\u001b[0m\u001b[0;34m,\u001b[0m \u001b[0mdraw\u001b[0m\u001b[0;34m,\u001b[0m \u001b[0mtuning\u001b[0m\u001b[0;34m,\u001b[0m \u001b[0mstats\u001b[0m\u001b[0;34m,\u001b[0m \u001b[0mwarns\u001b[0m \u001b[0;34m=\u001b[0m \u001b[0mdraw\u001b[0m\u001b[0;34m\u001b[0m\u001b[0;34m\u001b[0m\u001b[0m\n",
      "\u001b[0;32m~/anaconda3/lib/python3.7/site-packages/pymc3/parallel_sampling.py\u001b[0m in \u001b[0;36mrecv_draw\u001b[0;34m(processes, timeout)\u001b[0m\n\u001b[1;32m    283\u001b[0m         \u001b[0mpipes\u001b[0m \u001b[0;34m=\u001b[0m \u001b[0;34m[\u001b[0m\u001b[0mproc\u001b[0m\u001b[0;34m.\u001b[0m\u001b[0m_msg_pipe\u001b[0m \u001b[0;32mfor\u001b[0m \u001b[0mproc\u001b[0m \u001b[0;32min\u001b[0m \u001b[0mprocesses\u001b[0m\u001b[0;34m]\u001b[0m\u001b[0;34m\u001b[0m\u001b[0;34m\u001b[0m\u001b[0m\n\u001b[0;32m--> 284\u001b[0;31m         \u001b[0mready\u001b[0m \u001b[0;34m=\u001b[0m \u001b[0mmultiprocessing\u001b[0m\u001b[0;34m.\u001b[0m\u001b[0mconnection\u001b[0m\u001b[0;34m.\u001b[0m\u001b[0mwait\u001b[0m\u001b[0;34m(\u001b[0m\u001b[0mpipes\u001b[0m\u001b[0;34m)\u001b[0m\u001b[0;34m\u001b[0m\u001b[0;34m\u001b[0m\u001b[0m\n\u001b[0m\u001b[1;32m    285\u001b[0m         \u001b[0;32mif\u001b[0m \u001b[0;32mnot\u001b[0m \u001b[0mready\u001b[0m\u001b[0;34m:\u001b[0m\u001b[0;34m\u001b[0m\u001b[0;34m\u001b[0m\u001b[0m\n",
      "\u001b[0;32m~/anaconda3/lib/python3.7/multiprocessing/connection.py\u001b[0m in \u001b[0;36mwait\u001b[0;34m(object_list, timeout)\u001b[0m\n\u001b[1;32m    919\u001b[0m             \u001b[0;32mwhile\u001b[0m \u001b[0;32mTrue\u001b[0m\u001b[0;34m:\u001b[0m\u001b[0;34m\u001b[0m\u001b[0;34m\u001b[0m\u001b[0m\n\u001b[0;32m--> 920\u001b[0;31m                 \u001b[0mready\u001b[0m \u001b[0;34m=\u001b[0m \u001b[0mselector\u001b[0m\u001b[0;34m.\u001b[0m\u001b[0mselect\u001b[0m\u001b[0;34m(\u001b[0m\u001b[0mtimeout\u001b[0m\u001b[0;34m)\u001b[0m\u001b[0;34m\u001b[0m\u001b[0;34m\u001b[0m\u001b[0m\n\u001b[0m\u001b[1;32m    921\u001b[0m                 \u001b[0;32mif\u001b[0m \u001b[0mready\u001b[0m\u001b[0;34m:\u001b[0m\u001b[0;34m\u001b[0m\u001b[0;34m\u001b[0m\u001b[0m\n",
      "\u001b[0;32m~/anaconda3/lib/python3.7/selectors.py\u001b[0m in \u001b[0;36mselect\u001b[0;34m(self, timeout)\u001b[0m\n\u001b[1;32m    414\u001b[0m         \u001b[0;32mtry\u001b[0m\u001b[0;34m:\u001b[0m\u001b[0;34m\u001b[0m\u001b[0;34m\u001b[0m\u001b[0m\n\u001b[0;32m--> 415\u001b[0;31m             \u001b[0mfd_event_list\u001b[0m \u001b[0;34m=\u001b[0m \u001b[0mself\u001b[0m\u001b[0;34m.\u001b[0m\u001b[0m_selector\u001b[0m\u001b[0;34m.\u001b[0m\u001b[0mpoll\u001b[0m\u001b[0;34m(\u001b[0m\u001b[0mtimeout\u001b[0m\u001b[0;34m)\u001b[0m\u001b[0;34m\u001b[0m\u001b[0;34m\u001b[0m\u001b[0m\n\u001b[0m\u001b[1;32m    416\u001b[0m         \u001b[0;32mexcept\u001b[0m \u001b[0mInterruptedError\u001b[0m\u001b[0;34m:\u001b[0m\u001b[0;34m\u001b[0m\u001b[0;34m\u001b[0m\u001b[0m\n",
      "\u001b[0;31mKeyboardInterrupt\u001b[0m: ",
      "\nDuring handling of the above exception, another exception occurred:\n",
      "\u001b[0;31mValueError\u001b[0m                                Traceback (most recent call last)",
      "\u001b[0;32m<ipython-input-84-9c25976c80d9>\u001b[0m in \u001b[0;36m<module>\u001b[0;34m\u001b[0m\n\u001b[1;32m      1\u001b[0m \u001b[0msampler\u001b[0m \u001b[0;34m=\u001b[0m \u001b[0mxo\u001b[0m\u001b[0;34m.\u001b[0m\u001b[0mPyMC3Sampler\u001b[0m\u001b[0;34m(\u001b[0m\u001b[0mstart\u001b[0m\u001b[0;34m=\u001b[0m\u001b[0;36m100\u001b[0m\u001b[0;34m,\u001b[0m \u001b[0mwindow\u001b[0m\u001b[0;34m=\u001b[0m\u001b[0;36m100\u001b[0m\u001b[0;34m,\u001b[0m \u001b[0mfinish\u001b[0m\u001b[0;34m=\u001b[0m\u001b[0;36m500\u001b[0m\u001b[0;34m,\u001b[0m \u001b[0mchains\u001b[0m\u001b[0;34m=\u001b[0m\u001b[0;36m2\u001b[0m\u001b[0;34m)\u001b[0m\u001b[0;34m\u001b[0m\u001b[0;34m\u001b[0m\u001b[0m\n\u001b[1;32m      2\u001b[0m \u001b[0;32mwith\u001b[0m \u001b[0mmodel\u001b[0m\u001b[0;34m:\u001b[0m\u001b[0;34m\u001b[0m\u001b[0;34m\u001b[0m\u001b[0m\n\u001b[0;32m----> 3\u001b[0;31m     \u001b[0mburnin\u001b[0m \u001b[0;34m=\u001b[0m \u001b[0msampler\u001b[0m\u001b[0;34m.\u001b[0m\u001b[0mtune\u001b[0m\u001b[0;34m(\u001b[0m\u001b[0mtune\u001b[0m\u001b[0;34m=\u001b[0m\u001b[0;36m1000\u001b[0m\u001b[0;34m,\u001b[0m \u001b[0mstep_kwargs\u001b[0m\u001b[0;34m=\u001b[0m\u001b[0mdict\u001b[0m\u001b[0;34m(\u001b[0m\u001b[0mtarget_accept\u001b[0m\u001b[0;34m=\u001b[0m\u001b[0;36m0.9\u001b[0m\u001b[0;34m)\u001b[0m\u001b[0;34m,\u001b[0m \u001b[0mstart\u001b[0m\u001b[0;34m=\u001b[0m\u001b[0mmap_params\u001b[0m\u001b[0;34m)\u001b[0m\u001b[0;34m\u001b[0m\u001b[0;34m\u001b[0m\u001b[0m\n\u001b[0m",
      "\u001b[0;32m~/anaconda3/lib/python3.7/site-packages/exoplanet/sampling.py\u001b[0m in \u001b[0;36mtune\u001b[0;34m(self, tune, start, step_kwargs, **kwargs)\u001b[0m\n\u001b[1;32m    214\u001b[0m                 \u001b[0msteps\u001b[0m\u001b[0;34m=\u001b[0m\u001b[0msteps\u001b[0m\u001b[0;34m,\u001b[0m\u001b[0;34m\u001b[0m\u001b[0;34m\u001b[0m\u001b[0m\n\u001b[1;32m    215\u001b[0m                 \u001b[0mtrace\u001b[0m\u001b[0;34m=\u001b[0m\u001b[0mtrace\u001b[0m\u001b[0;34m,\u001b[0m\u001b[0;34m\u001b[0m\u001b[0;34m\u001b[0m\u001b[0m\n\u001b[0;32m--> 216\u001b[0;31m                 \u001b[0;34m**\u001b[0m\u001b[0mkwargs\u001b[0m\u001b[0;34m\u001b[0m\u001b[0;34m\u001b[0m\u001b[0m\n\u001b[0m\u001b[1;32m    217\u001b[0m             )\n\u001b[1;32m    218\u001b[0m             \u001b[0msteps\u001b[0m \u001b[0;34m*=\u001b[0m \u001b[0;36m2\u001b[0m\u001b[0;34m\u001b[0m\u001b[0;34m\u001b[0m\u001b[0m\n",
      "\u001b[0;32m~/anaconda3/lib/python3.7/site-packages/exoplanet/sampling.py\u001b[0m in \u001b[0;36mextend_tune\u001b[0;34m(self, steps, start, step_kwargs, trace, step, **kwargs)\u001b[0m\n\u001b[1;32m    181\u001b[0m             \u001b[0mstart\u001b[0m\u001b[0;34m=\u001b[0m\u001b[0mstart\u001b[0m\u001b[0;34m,\u001b[0m \u001b[0mstep_kwargs\u001b[0m\u001b[0;34m=\u001b[0m\u001b[0mstep_kwargs\u001b[0m\u001b[0;34m,\u001b[0m \u001b[0mtrace\u001b[0m\u001b[0;34m=\u001b[0m\u001b[0mtrace\u001b[0m\u001b[0;34m,\u001b[0m \u001b[0mstep\u001b[0m\u001b[0;34m=\u001b[0m\u001b[0mstep\u001b[0m\u001b[0;34m\u001b[0m\u001b[0;34m\u001b[0m\u001b[0m\n\u001b[1;32m    182\u001b[0m         )\n\u001b[0;32m--> 183\u001b[0;31m         \u001b[0mself\u001b[0m\u001b[0;34m.\u001b[0m\u001b[0m_extend\u001b[0m\u001b[0;34m(\u001b[0m\u001b[0msteps\u001b[0m\u001b[0;34m,\u001b[0m \u001b[0mstart\u001b[0m\u001b[0;34m=\u001b[0m\u001b[0mstart\u001b[0m\u001b[0;34m,\u001b[0m \u001b[0mstep\u001b[0m\u001b[0;34m=\u001b[0m\u001b[0mstep\u001b[0m\u001b[0;34m,\u001b[0m \u001b[0;34m**\u001b[0m\u001b[0mkwargs\u001b[0m\u001b[0;34m)\u001b[0m\u001b[0;34m\u001b[0m\u001b[0;34m\u001b[0m\u001b[0m\n\u001b[0m\u001b[1;32m    184\u001b[0m         \u001b[0mself\u001b[0m\u001b[0;34m.\u001b[0m\u001b[0m_current_step\u001b[0m \u001b[0;34m=\u001b[0m \u001b[0mstep\u001b[0m\u001b[0;34m\u001b[0m\u001b[0;34m\u001b[0m\u001b[0m\n\u001b[1;32m    185\u001b[0m         \u001b[0;32mreturn\u001b[0m \u001b[0mself\u001b[0m\u001b[0;34m.\u001b[0m\u001b[0m_current_trace\u001b[0m\u001b[0;34m\u001b[0m\u001b[0;34m\u001b[0m\u001b[0m\n",
      "\u001b[0;32m~/anaconda3/lib/python3.7/site-packages/exoplanet/sampling.py\u001b[0m in \u001b[0;36m_extend\u001b[0;34m(self, steps, start, step, **kwargs)\u001b[0m\n\u001b[1;32m    126\u001b[0m \u001b[0;34m\u001b[0m\u001b[0m\n\u001b[1;32m    127\u001b[0m         self._current_trace = pm.sample(\n\u001b[0;32m--> 128\u001b[0;31m             \u001b[0mstart\u001b[0m\u001b[0;34m=\u001b[0m\u001b[0mstart\u001b[0m\u001b[0;34m,\u001b[0m \u001b[0mtune\u001b[0m\u001b[0;34m=\u001b[0m\u001b[0msteps\u001b[0m\u001b[0;34m,\u001b[0m \u001b[0mstep\u001b[0m\u001b[0;34m=\u001b[0m\u001b[0mstep\u001b[0m\u001b[0;34m,\u001b[0m \u001b[0;34m**\u001b[0m\u001b[0mkwargs\u001b[0m\u001b[0;34m\u001b[0m\u001b[0;34m\u001b[0m\u001b[0m\n\u001b[0m\u001b[1;32m    129\u001b[0m         )\n\u001b[1;32m    130\u001b[0m         \u001b[0mself\u001b[0m\u001b[0;34m.\u001b[0m\u001b[0mcount\u001b[0m \u001b[0;34m+=\u001b[0m \u001b[0msteps\u001b[0m\u001b[0;34m\u001b[0m\u001b[0;34m\u001b[0m\u001b[0m\n",
      "\u001b[0;32m~/anaconda3/lib/python3.7/site-packages/pymc3/sampling.py\u001b[0m in \u001b[0;36msample\u001b[0;34m(draws, step, init, n_init, start, trace, chain_idx, chains, cores, tune, progressbar, model, random_seed, discard_tuned_samples, compute_convergence_checks, **kwargs)\u001b[0m\n\u001b[1;32m    435\u001b[0m             \u001b[0m_print_step_hierarchy\u001b[0m\u001b[0;34m(\u001b[0m\u001b[0mstep\u001b[0m\u001b[0;34m)\u001b[0m\u001b[0;34m\u001b[0m\u001b[0;34m\u001b[0m\u001b[0m\n\u001b[1;32m    436\u001b[0m             \u001b[0;32mtry\u001b[0m\u001b[0;34m:\u001b[0m\u001b[0;34m\u001b[0m\u001b[0;34m\u001b[0m\u001b[0m\n\u001b[0;32m--> 437\u001b[0;31m                 \u001b[0mtrace\u001b[0m \u001b[0;34m=\u001b[0m \u001b[0m_mp_sample\u001b[0m\u001b[0;34m(\u001b[0m\u001b[0;34m**\u001b[0m\u001b[0msample_args\u001b[0m\u001b[0;34m)\u001b[0m\u001b[0;34m\u001b[0m\u001b[0;34m\u001b[0m\u001b[0m\n\u001b[0m\u001b[1;32m    438\u001b[0m             \u001b[0;32mexcept\u001b[0m \u001b[0mpickle\u001b[0m\u001b[0;34m.\u001b[0m\u001b[0mPickleError\u001b[0m\u001b[0;34m:\u001b[0m\u001b[0;34m\u001b[0m\u001b[0;34m\u001b[0m\u001b[0m\n\u001b[1;32m    439\u001b[0m                 \u001b[0m_log\u001b[0m\u001b[0;34m.\u001b[0m\u001b[0mwarning\u001b[0m\u001b[0;34m(\u001b[0m\u001b[0;34m\"Could not pickle model, sampling singlethreaded.\"\u001b[0m\u001b[0;34m)\u001b[0m\u001b[0;34m\u001b[0m\u001b[0;34m\u001b[0m\u001b[0m\n",
      "\u001b[0;32m~/anaconda3/lib/python3.7/site-packages/pymc3/sampling.py\u001b[0m in \u001b[0;36m_mp_sample\u001b[0;34m(draws, tune, step, chains, cores, chain, random_seed, start, progressbar, trace, model, **kwargs)\u001b[0m\n\u001b[1;32m    989\u001b[0m         \u001b[0;32mreturn\u001b[0m \u001b[0mMultiTrace\u001b[0m\u001b[0;34m(\u001b[0m\u001b[0mtraces\u001b[0m\u001b[0;34m)\u001b[0m\u001b[0;34m\u001b[0m\u001b[0;34m\u001b[0m\u001b[0m\n\u001b[1;32m    990\u001b[0m     \u001b[0;32mexcept\u001b[0m \u001b[0mKeyboardInterrupt\u001b[0m\u001b[0;34m:\u001b[0m\u001b[0;34m\u001b[0m\u001b[0;34m\u001b[0m\u001b[0m\n\u001b[0;32m--> 991\u001b[0;31m         \u001b[0mtraces\u001b[0m\u001b[0;34m,\u001b[0m \u001b[0mlength\u001b[0m \u001b[0;34m=\u001b[0m \u001b[0m_choose_chains\u001b[0m\u001b[0;34m(\u001b[0m\u001b[0mtraces\u001b[0m\u001b[0;34m,\u001b[0m \u001b[0mtune\u001b[0m\u001b[0;34m)\u001b[0m\u001b[0;34m\u001b[0m\u001b[0;34m\u001b[0m\u001b[0m\n\u001b[0m\u001b[1;32m    992\u001b[0m         \u001b[0;32mreturn\u001b[0m \u001b[0mMultiTrace\u001b[0m\u001b[0;34m(\u001b[0m\u001b[0mtraces\u001b[0m\u001b[0;34m)\u001b[0m\u001b[0;34m[\u001b[0m\u001b[0;34m:\u001b[0m\u001b[0mlength\u001b[0m\u001b[0;34m]\u001b[0m\u001b[0;34m\u001b[0m\u001b[0;34m\u001b[0m\u001b[0m\n\u001b[1;32m    993\u001b[0m     \u001b[0;32mfinally\u001b[0m\u001b[0;34m:\u001b[0m\u001b[0;34m\u001b[0m\u001b[0;34m\u001b[0m\u001b[0m\n",
      "\u001b[0;32m~/anaconda3/lib/python3.7/site-packages/pymc3/sampling.py\u001b[0m in \u001b[0;36m_choose_chains\u001b[0;34m(traces, tune)\u001b[0m\n\u001b[1;32m   1005\u001b[0m     \u001b[0mlengths\u001b[0m \u001b[0;34m=\u001b[0m \u001b[0;34m[\u001b[0m\u001b[0mmax\u001b[0m\u001b[0;34m(\u001b[0m\u001b[0;36m0\u001b[0m\u001b[0;34m,\u001b[0m \u001b[0mlen\u001b[0m\u001b[0;34m(\u001b[0m\u001b[0mtrace\u001b[0m\u001b[0;34m)\u001b[0m \u001b[0;34m-\u001b[0m \u001b[0mtune\u001b[0m\u001b[0;34m)\u001b[0m \u001b[0;32mfor\u001b[0m \u001b[0mtrace\u001b[0m \u001b[0;32min\u001b[0m \u001b[0mtraces\u001b[0m\u001b[0;34m]\u001b[0m\u001b[0;34m\u001b[0m\u001b[0;34m\u001b[0m\u001b[0m\n\u001b[1;32m   1006\u001b[0m     \u001b[0;32mif\u001b[0m \u001b[0;32mnot\u001b[0m \u001b[0msum\u001b[0m\u001b[0;34m(\u001b[0m\u001b[0mlengths\u001b[0m\u001b[0;34m)\u001b[0m\u001b[0;34m:\u001b[0m\u001b[0;34m\u001b[0m\u001b[0;34m\u001b[0m\u001b[0m\n\u001b[0;32m-> 1007\u001b[0;31m         \u001b[0;32mraise\u001b[0m \u001b[0mValueError\u001b[0m\u001b[0;34m(\u001b[0m\u001b[0;34m'Not enough samples to build a trace.'\u001b[0m\u001b[0;34m)\u001b[0m\u001b[0;34m\u001b[0m\u001b[0;34m\u001b[0m\u001b[0m\n\u001b[0m\u001b[1;32m   1008\u001b[0m \u001b[0;34m\u001b[0m\u001b[0m\n\u001b[1;32m   1009\u001b[0m     \u001b[0midxs\u001b[0m \u001b[0;34m=\u001b[0m \u001b[0mnp\u001b[0m\u001b[0;34m.\u001b[0m\u001b[0margsort\u001b[0m\u001b[0;34m(\u001b[0m\u001b[0mlengths\u001b[0m\u001b[0;34m)\u001b[0m\u001b[0;34m[\u001b[0m\u001b[0;34m:\u001b[0m\u001b[0;34m:\u001b[0m\u001b[0;34m-\u001b[0m\u001b[0;36m1\u001b[0m\u001b[0;34m]\u001b[0m\u001b[0;34m\u001b[0m\u001b[0;34m\u001b[0m\u001b[0m\n",
      "\u001b[0;31mValueError\u001b[0m: Not enough samples to build a trace."
     ]
    }
   ],
   "source": [
    "sampler = xo.PyMC3Sampler(start=100, window=100, finish=500, chains=2)\n",
    "with model:\n",
    "    burnin = sampler.tune(tune=1000, step_kwargs=dict(target_accept=0.9), start=map_params)"
   ]
  },
  {
   "cell_type": "code",
   "execution_count": null,
   "metadata": {},
   "outputs": [],
   "source": []
  },
  {
   "cell_type": "code",
   "execution_count": null,
   "metadata": {},
   "outputs": [],
   "source": []
  },
  {
   "cell_type": "code",
   "execution_count": null,
   "metadata": {},
   "outputs": [],
   "source": []
  },
  {
   "cell_type": "code",
   "execution_count": null,
   "metadata": {},
   "outputs": [],
   "source": []
  },
  {
   "cell_type": "code",
   "execution_count": null,
   "metadata": {},
   "outputs": [],
   "source": []
  },
  {
   "cell_type": "code",
   "execution_count": 28,
   "metadata": {},
   "outputs": [
    {
     "name": "stdout",
     "output_type": "stream",
     "text": [
      "[phi_angle__, logs_lc, asini, mean, lognu]\n"
     ]
    },
    {
     "name": "stderr",
     "output_type": "stream",
     "text": [
      "optimizing logp for variables: [mean]\n",
      "5it [00:00, 20.84it/s, logp=-6.827090e+04]\n",
      "message: Optimization terminated successfully.\n",
      "logp: -68271.53359146534 -> -68270.89756751999\n",
      "optimizing logp for variables: [logs_lc]\n",
      "12it [00:00, 33.70it/s, logp=3.361022e+04]\n",
      "message: Optimization terminated successfully.\n",
      "logp: -68270.89756751999 -> 33610.216083430205\n",
      "optimizing logp for variables: [phi]\n",
      "14it [00:00, 22.79it/s, logp=3.366268e+04]\n",
      "message: Optimization terminated successfully.\n",
      "logp: 33610.216083430205 -> 33662.678680944904\n",
      "optimizing logp for variables: [lognu]\n",
      "76it [00:02, 26.15it/s, logp=3.366373e+04]\n",
      "message: Desired error not necessarily achieved due to precision loss.\n",
      "logp: 33662.678680944904 -> 33663.730333313695\n",
      "optimizing logp for variables: [lognu, mean, asini, logs_lc, phi]\n",
      "107it [00:04, 23.47it/s, logp=3.366373e+04]\n",
      "message: Desired error not necessarily achieved due to precision loss.\n",
      "logp: 33663.730333313695 -> 33663.730333361134\n",
      "optimizing logp for variables: [asini]\n",
      "6it [00:00, 26.01it/s, logp=3.368373e+04]\n",
      "message: Optimization terminated successfully.\n",
      "logp: 33663.730333361134 -> 33683.73467970412\n",
      "optimizing logp for variables: [lognu, mean, asini, logs_lc, phi]\n",
      "108it [00:04, 24.81it/s, logp=3.368377e+04]\n",
      "message: Desired error not necessarily achieved due to precision loss.\n",
      "logp: 33683.73467970412 -> 33683.7732734837\n",
      "optimizing logp for variables: [logP]\n",
      "82it [00:03, 23.63it/s, logp=3.368379e+04]\n",
      "message: Desired error not necessarily achieved due to precision loss.\n",
      "logp: 33683.7732734837 -> 33683.78729661977\n",
      "optimizing logp for variables: [lognu, mean, asini, logs_lc, phi]\n",
      "106it [00:04, 23.22it/s, logp=3.368379e+04]\n",
      "message: Desired error not necessarily achieved due to precision loss.\n",
      "logp: 33683.78729661977 -> 33683.787296896524\n"
     ]
    },
    {
     "data": {
      "image/png": "[encoded data removed]",
      "text/plain": [
       "<Figure size 432x288 with 1 Axes>"
      ]
     },
     "metadata": {
      "needs_background": "light"
     },
     "output_type": "display_data"
    }
   ],
   "source": [
    "with model:\n",
    "    all_but = [v for v in model.vars if v.name not in [\"logP_interval__\", \"logasini_interval__\"]]\n",
    "    print(all_but)\n",
    "    \n",
    "    map_params = xo.optimize(start=None, vars=[mean])\n",
    "    map_params = xo.optimize(start=map_params, vars=[logs_lc])\n",
    "#     map_params = xo.optimize(start=map_params, vars=[logpower, logw0])\n",
    "#     map_params = xo.optimize(start=map_params, vars=[phase, logamp])\n",
    "#     map_params = xo.optimize(start=map_params, vars=[eccen, omega])\n",
    "    map_params = xo.optimize(start=map_params, vars=[phi])\n",
    "    map_params = xo.optimize(start=map_params, vars=[lognu])\n",
    "    map_params = xo.optimize(start=map_params, vars=all_but)\n",
    "    \n",
    "    map_params = xo.optimize(start=map_params, vars=[asini])\n",
    "    map_params = xo.optimize(start=map_params, vars=all_but)\n",
    "\n",
    "    map_params = xo.optimize(start=map_params, vars=[logP])\n",
    "    map_params = xo.optimize(start=map_params, vars=all_but)\n",
    "\n",
    "#     map_params = xo.optimize(start=map_params)\n",
    "\n",
    "    plt.plot(time, xo.eval_in_model(lc_model, map_params), alpha=0.5)\n",
    "    plt.plot(time, mag, alpha=0.5)"
   ]
  },
  {
   "cell_type": "code",
   "execution_count": 29,
   "metadata": {},
   "outputs": [
    {
     "data": {
      "text/plain": [
       "{'logP_interval__': array(-5.59753796),\n",
       " 'phi_angle__': array([-2.14068454, -3.92650622]),\n",
       " 'logs_lc': array(-1.87810769),\n",
       " 'asini': array(0.60013125),\n",
       " 'mean': array(-0.00116393),\n",
       " 'lognu': array([3.40119737, 3.68887947, 3.912023  ]),\n",
       " 'logP': array(2.32553743),\n",
       " 'period': array(10.23217771),\n",
       " 'phi': array(-2.64245129),\n",
       " 'nu': array([29.99999971, 40.00000045, 49.99999997]),\n",
       " 'mass_function': array(4.40763395e+24)}"
      ]
     },
     "execution_count": 29,
     "metadata": {},
     "output_type": "execute_result"
    }
   ],
   "source": [
    "map_params"
   ]
  },
  {
   "cell_type": "code",
   "execution_count": 95,
   "metadata": {},
   "outputs": [
    {
     "name": "stderr",
     "output_type": "stream",
     "text": [
      "Sampling 2 chains:   0%|          | 0/204 [00:00<?, ?draws/s]/Users/danielhey/anaconda3/lib/python3.7/site-packages/theano/tensor/slinalg.py:255: LinAlgWarning: Ill-conditioned matrix (rcond=0): result may not be accurate.\n",
      "  rval = scipy.linalg.solve(A, b)\n",
      "/Users/danielhey/anaconda3/lib/python3.7/site-packages/theano/tensor/slinalg.py:255: LinAlgWarning: Ill-conditioned matrix (rcond=0): result may not be accurate.\n",
      "  rval = scipy.linalg.solve(A, b)\n",
      "Sampling 2 chains: 100%|██████████| 204/204 [14:04<00:00, 12.04s/draws]\n",
      "Sampling 2 chains:   0%|          | 0/204 [00:00<?, ?draws/s]/Users/danielhey/anaconda3/lib/python3.7/site-packages/theano/tensor/slinalg.py:255: LinAlgWarning: Ill-conditioned matrix (rcond=0): result may not be accurate.\n",
      "  rval = scipy.linalg.solve(A, b)\n",
      "/Users/danielhey/anaconda3/lib/python3.7/site-packages/theano/tensor/slinalg.py:255: LinAlgWarning: Ill-conditioned matrix (rcond=0): result may not be accurate.\n",
      "  rval = scipy.linalg.solve(A, b)\n",
      "Sampling 2 chains: 100%|██████████| 204/204 [13:17<00:00, 13.77s/draws]\n",
      "Sampling 2 chains: 100%|██████████| 404/404 [32:59<00:00, 17.08s/draws]\n",
      "Sampling 2 chains:  44%|████▍     | 534/1204 [44:09<2:28:16, 13.28s/draws]\n"
     ]
    },
    {
     "ename": "ValueError",
     "evalue": "Not enough samples to build a trace.",
     "output_type": "error",
     "traceback": [
      "\u001b[0;31m---------------------------------------------------------------------------\u001b[0m",
      "\u001b[0;31mKeyboardInterrupt\u001b[0m                         Traceback (most recent call last)",
      "\u001b[0;32m~/anaconda3/lib/python3.7/site-packages/pymc3/sampling.py\u001b[0m in \u001b[0;36m_mp_sample\u001b[0;34m(draws, tune, step, chains, cores, chain, random_seed, start, progressbar, trace, model, **kwargs)\u001b[0m\n\u001b[1;32m    968\u001b[0m             \u001b[0;32mwith\u001b[0m \u001b[0msampler\u001b[0m\u001b[0;34m:\u001b[0m\u001b[0;34m\u001b[0m\u001b[0;34m\u001b[0m\u001b[0m\n\u001b[0;32m--> 969\u001b[0;31m                 \u001b[0;32mfor\u001b[0m \u001b[0mdraw\u001b[0m \u001b[0;32min\u001b[0m \u001b[0msampler\u001b[0m\u001b[0;34m:\u001b[0m\u001b[0;34m\u001b[0m\u001b[0;34m\u001b[0m\u001b[0m\n\u001b[0m\u001b[1;32m    970\u001b[0m                     \u001b[0mtrace\u001b[0m \u001b[0;34m=\u001b[0m \u001b[0mtraces\u001b[0m\u001b[0;34m[\u001b[0m\u001b[0mdraw\u001b[0m\u001b[0;34m.\u001b[0m\u001b[0mchain\u001b[0m \u001b[0;34m-\u001b[0m \u001b[0mchain\u001b[0m\u001b[0;34m]\u001b[0m\u001b[0;34m\u001b[0m\u001b[0;34m\u001b[0m\u001b[0m\n",
      "\u001b[0;32m~/anaconda3/lib/python3.7/site-packages/pymc3/parallel_sampling.py\u001b[0m in \u001b[0;36m__iter__\u001b[0;34m(self)\u001b[0m\n\u001b[1;32m    392\u001b[0m         \u001b[0;32mwhile\u001b[0m \u001b[0mself\u001b[0m\u001b[0;34m.\u001b[0m\u001b[0m_active\u001b[0m\u001b[0;34m:\u001b[0m\u001b[0;34m\u001b[0m\u001b[0;34m\u001b[0m\u001b[0m\n\u001b[0;32m--> 393\u001b[0;31m             \u001b[0mdraw\u001b[0m \u001b[0;34m=\u001b[0m \u001b[0mProcessAdapter\u001b[0m\u001b[0;34m.\u001b[0m\u001b[0mrecv_draw\u001b[0m\u001b[0;34m(\u001b[0m\u001b[0mself\u001b[0m\u001b[0;34m.\u001b[0m\u001b[0m_active\u001b[0m\u001b[0;34m)\u001b[0m\u001b[0;34m\u001b[0m\u001b[0;34m\u001b[0m\u001b[0m\n\u001b[0m\u001b[1;32m    394\u001b[0m             \u001b[0mproc\u001b[0m\u001b[0;34m,\u001b[0m \u001b[0mis_last\u001b[0m\u001b[0;34m,\u001b[0m \u001b[0mdraw\u001b[0m\u001b[0;34m,\u001b[0m \u001b[0mtuning\u001b[0m\u001b[0;34m,\u001b[0m \u001b[0mstats\u001b[0m\u001b[0;34m,\u001b[0m \u001b[0mwarns\u001b[0m \u001b[0;34m=\u001b[0m \u001b[0mdraw\u001b[0m\u001b[0;34m\u001b[0m\u001b[0;34m\u001b[0m\u001b[0m\n",
      "\u001b[0;32m~/anaconda3/lib/python3.7/site-packages/pymc3/parallel_sampling.py\u001b[0m in \u001b[0;36mrecv_draw\u001b[0;34m(processes, timeout)\u001b[0m\n\u001b[1;32m    283\u001b[0m         \u001b[0mpipes\u001b[0m \u001b[0;34m=\u001b[0m \u001b[0;34m[\u001b[0m\u001b[0mproc\u001b[0m\u001b[0;34m.\u001b[0m\u001b[0m_msg_pipe\u001b[0m \u001b[0;32mfor\u001b[0m \u001b[0mproc\u001b[0m \u001b[0;32min\u001b[0m \u001b[0mprocesses\u001b[0m\u001b[0;34m]\u001b[0m\u001b[0;34m\u001b[0m\u001b[0;34m\u001b[0m\u001b[0m\n\u001b[0;32m--> 284\u001b[0;31m         \u001b[0mready\u001b[0m \u001b[0;34m=\u001b[0m \u001b[0mmultiprocessing\u001b[0m\u001b[0;34m.\u001b[0m\u001b[0mconnection\u001b[0m\u001b[0;34m.\u001b[0m\u001b[0mwait\u001b[0m\u001b[0;34m(\u001b[0m\u001b[0mpipes\u001b[0m\u001b[0;34m)\u001b[0m\u001b[0;34m\u001b[0m\u001b[0;34m\u001b[0m\u001b[0m\n\u001b[0m\u001b[1;32m    285\u001b[0m         \u001b[0;32mif\u001b[0m \u001b[0;32mnot\u001b[0m \u001b[0mready\u001b[0m\u001b[0;34m:\u001b[0m\u001b[0;34m\u001b[0m\u001b[0;34m\u001b[0m\u001b[0m\n",
      "\u001b[0;32m~/anaconda3/lib/python3.7/multiprocessing/connection.py\u001b[0m in \u001b[0;36mwait\u001b[0;34m(object_list, timeout)\u001b[0m\n\u001b[1;32m    919\u001b[0m             \u001b[0;32mwhile\u001b[0m \u001b[0;32mTrue\u001b[0m\u001b[0;34m:\u001b[0m\u001b[0;34m\u001b[0m\u001b[0;34m\u001b[0m\u001b[0m\n\u001b[0;32m--> 920\u001b[0;31m                 \u001b[0mready\u001b[0m \u001b[0;34m=\u001b[0m \u001b[0mselector\u001b[0m\u001b[0;34m.\u001b[0m\u001b[0mselect\u001b[0m\u001b[0;34m(\u001b[0m\u001b[0mtimeout\u001b[0m\u001b[0;34m)\u001b[0m\u001b[0;34m\u001b[0m\u001b[0;34m\u001b[0m\u001b[0m\n\u001b[0m\u001b[1;32m    921\u001b[0m                 \u001b[0;32mif\u001b[0m \u001b[0mready\u001b[0m\u001b[0;34m:\u001b[0m\u001b[0;34m\u001b[0m\u001b[0;34m\u001b[0m\u001b[0m\n",
      "\u001b[0;32m~/anaconda3/lib/python3.7/selectors.py\u001b[0m in \u001b[0;36mselect\u001b[0;34m(self, timeout)\u001b[0m\n\u001b[1;32m    414\u001b[0m         \u001b[0;32mtry\u001b[0m\u001b[0;34m:\u001b[0m\u001b[0;34m\u001b[0m\u001b[0;34m\u001b[0m\u001b[0m\n\u001b[0;32m--> 415\u001b[0;31m             \u001b[0mfd_event_list\u001b[0m \u001b[0;34m=\u001b[0m \u001b[0mself\u001b[0m\u001b[0;34m.\u001b[0m\u001b[0m_selector\u001b[0m\u001b[0;34m.\u001b[0m\u001b[0mpoll\u001b[0m\u001b[0;34m(\u001b[0m\u001b[0mtimeout\u001b[0m\u001b[0;34m)\u001b[0m\u001b[0;34m\u001b[0m\u001b[0;34m\u001b[0m\u001b[0m\n\u001b[0m\u001b[1;32m    416\u001b[0m         \u001b[0;32mexcept\u001b[0m \u001b[0mInterruptedError\u001b[0m\u001b[0;34m:\u001b[0m\u001b[0;34m\u001b[0m\u001b[0;34m\u001b[0m\u001b[0m\n",
      "\u001b[0;31mKeyboardInterrupt\u001b[0m: ",
      "\nDuring handling of the above exception, another exception occurred:\n",
      "\u001b[0;31mValueError\u001b[0m                                Traceback (most recent call last)",
      "\u001b[0;32m<ipython-input-95-9c25976c80d9>\u001b[0m in \u001b[0;36m<module>\u001b[0;34m\u001b[0m\n\u001b[1;32m      1\u001b[0m \u001b[0msampler\u001b[0m \u001b[0;34m=\u001b[0m \u001b[0mxo\u001b[0m\u001b[0;34m.\u001b[0m\u001b[0mPyMC3Sampler\u001b[0m\u001b[0;34m(\u001b[0m\u001b[0mstart\u001b[0m\u001b[0;34m=\u001b[0m\u001b[0;36m100\u001b[0m\u001b[0;34m,\u001b[0m \u001b[0mwindow\u001b[0m\u001b[0;34m=\u001b[0m\u001b[0;36m100\u001b[0m\u001b[0;34m,\u001b[0m \u001b[0mfinish\u001b[0m\u001b[0;34m=\u001b[0m\u001b[0;36m500\u001b[0m\u001b[0;34m,\u001b[0m \u001b[0mchains\u001b[0m\u001b[0;34m=\u001b[0m\u001b[0;36m2\u001b[0m\u001b[0;34m)\u001b[0m\u001b[0;34m\u001b[0m\u001b[0;34m\u001b[0m\u001b[0m\n\u001b[1;32m      2\u001b[0m \u001b[0;32mwith\u001b[0m \u001b[0mmodel\u001b[0m\u001b[0;34m:\u001b[0m\u001b[0;34m\u001b[0m\u001b[0;34m\u001b[0m\u001b[0m\n\u001b[0;32m----> 3\u001b[0;31m     \u001b[0mburnin\u001b[0m \u001b[0;34m=\u001b[0m \u001b[0msampler\u001b[0m\u001b[0;34m.\u001b[0m\u001b[0mtune\u001b[0m\u001b[0;34m(\u001b[0m\u001b[0mtune\u001b[0m\u001b[0;34m=\u001b[0m\u001b[0;36m1000\u001b[0m\u001b[0;34m,\u001b[0m \u001b[0mstep_kwargs\u001b[0m\u001b[0;34m=\u001b[0m\u001b[0mdict\u001b[0m\u001b[0;34m(\u001b[0m\u001b[0mtarget_accept\u001b[0m\u001b[0;34m=\u001b[0m\u001b[0;36m0.9\u001b[0m\u001b[0;34m)\u001b[0m\u001b[0;34m,\u001b[0m \u001b[0mstart\u001b[0m\u001b[0;34m=\u001b[0m\u001b[0mmap_params\u001b[0m\u001b[0;34m)\u001b[0m\u001b[0;34m\u001b[0m\u001b[0;34m\u001b[0m\u001b[0m\n\u001b[0m",
      "\u001b[0;32m~/anaconda3/lib/python3.7/site-packages/exoplanet/sampling.py\u001b[0m in \u001b[0;36mtune\u001b[0;34m(self, tune, start, step_kwargs, **kwargs)\u001b[0m\n\u001b[1;32m    214\u001b[0m                 \u001b[0msteps\u001b[0m\u001b[0;34m=\u001b[0m\u001b[0msteps\u001b[0m\u001b[0;34m,\u001b[0m\u001b[0;34m\u001b[0m\u001b[0;34m\u001b[0m\u001b[0m\n\u001b[1;32m    215\u001b[0m                 \u001b[0mtrace\u001b[0m\u001b[0;34m=\u001b[0m\u001b[0mtrace\u001b[0m\u001b[0;34m,\u001b[0m\u001b[0;34m\u001b[0m\u001b[0;34m\u001b[0m\u001b[0m\n\u001b[0;32m--> 216\u001b[0;31m                 \u001b[0;34m**\u001b[0m\u001b[0mkwargs\u001b[0m\u001b[0;34m\u001b[0m\u001b[0;34m\u001b[0m\u001b[0m\n\u001b[0m\u001b[1;32m    217\u001b[0m             )\n\u001b[1;32m    218\u001b[0m             \u001b[0msteps\u001b[0m \u001b[0;34m*=\u001b[0m \u001b[0;36m2\u001b[0m\u001b[0;34m\u001b[0m\u001b[0;34m\u001b[0m\u001b[0m\n",
      "\u001b[0;32m~/anaconda3/lib/python3.7/site-packages/exoplanet/sampling.py\u001b[0m in \u001b[0;36mextend_tune\u001b[0;34m(self, steps, start, step_kwargs, trace, step, **kwargs)\u001b[0m\n\u001b[1;32m    181\u001b[0m             \u001b[0mstart\u001b[0m\u001b[0;34m=\u001b[0m\u001b[0mstart\u001b[0m\u001b[0;34m,\u001b[0m \u001b[0mstep_kwargs\u001b[0m\u001b[0;34m=\u001b[0m\u001b[0mstep_kwargs\u001b[0m\u001b[0;34m,\u001b[0m \u001b[0mtrace\u001b[0m\u001b[0;34m=\u001b[0m\u001b[0mtrace\u001b[0m\u001b[0;34m,\u001b[0m \u001b[0mstep\u001b[0m\u001b[0;34m=\u001b[0m\u001b[0mstep\u001b[0m\u001b[0;34m\u001b[0m\u001b[0;34m\u001b[0m\u001b[0m\n\u001b[1;32m    182\u001b[0m         )\n\u001b[0;32m--> 183\u001b[0;31m         \u001b[0mself\u001b[0m\u001b[0;34m.\u001b[0m\u001b[0m_extend\u001b[0m\u001b[0;34m(\u001b[0m\u001b[0msteps\u001b[0m\u001b[0;34m,\u001b[0m \u001b[0mstart\u001b[0m\u001b[0;34m=\u001b[0m\u001b[0mstart\u001b[0m\u001b[0;34m,\u001b[0m \u001b[0mstep\u001b[0m\u001b[0;34m=\u001b[0m\u001b[0mstep\u001b[0m\u001b[0;34m,\u001b[0m \u001b[0;34m**\u001b[0m\u001b[0mkwargs\u001b[0m\u001b[0;34m)\u001b[0m\u001b[0;34m\u001b[0m\u001b[0;34m\u001b[0m\u001b[0m\n\u001b[0m\u001b[1;32m    184\u001b[0m         \u001b[0mself\u001b[0m\u001b[0;34m.\u001b[0m\u001b[0m_current_step\u001b[0m \u001b[0;34m=\u001b[0m \u001b[0mstep\u001b[0m\u001b[0;34m\u001b[0m\u001b[0;34m\u001b[0m\u001b[0m\n\u001b[1;32m    185\u001b[0m         \u001b[0;32mreturn\u001b[0m \u001b[0mself\u001b[0m\u001b[0;34m.\u001b[0m\u001b[0m_current_trace\u001b[0m\u001b[0;34m\u001b[0m\u001b[0;34m\u001b[0m\u001b[0m\n",
      "\u001b[0;32m~/anaconda3/lib/python3.7/site-packages/exoplanet/sampling.py\u001b[0m in \u001b[0;36m_extend\u001b[0;34m(self, steps, start, step, **kwargs)\u001b[0m\n\u001b[1;32m    126\u001b[0m \u001b[0;34m\u001b[0m\u001b[0m\n\u001b[1;32m    127\u001b[0m         self._current_trace = pm.sample(\n\u001b[0;32m--> 128\u001b[0;31m             \u001b[0mstart\u001b[0m\u001b[0;34m=\u001b[0m\u001b[0mstart\u001b[0m\u001b[0;34m,\u001b[0m \u001b[0mtune\u001b[0m\u001b[0;34m=\u001b[0m\u001b[0msteps\u001b[0m\u001b[0;34m,\u001b[0m \u001b[0mstep\u001b[0m\u001b[0;34m=\u001b[0m\u001b[0mstep\u001b[0m\u001b[0;34m,\u001b[0m \u001b[0;34m**\u001b[0m\u001b[0mkwargs\u001b[0m\u001b[0;34m\u001b[0m\u001b[0;34m\u001b[0m\u001b[0m\n\u001b[0m\u001b[1;32m    129\u001b[0m         )\n\u001b[1;32m    130\u001b[0m         \u001b[0mself\u001b[0m\u001b[0;34m.\u001b[0m\u001b[0mcount\u001b[0m \u001b[0;34m+=\u001b[0m \u001b[0msteps\u001b[0m\u001b[0;34m\u001b[0m\u001b[0;34m\u001b[0m\u001b[0m\n",
      "\u001b[0;32m~/anaconda3/lib/python3.7/site-packages/pymc3/sampling.py\u001b[0m in \u001b[0;36msample\u001b[0;34m(draws, step, init, n_init, start, trace, chain_idx, chains, cores, tune, progressbar, model, random_seed, discard_tuned_samples, compute_convergence_checks, **kwargs)\u001b[0m\n\u001b[1;32m    435\u001b[0m             \u001b[0m_print_step_hierarchy\u001b[0m\u001b[0;34m(\u001b[0m\u001b[0mstep\u001b[0m\u001b[0;34m)\u001b[0m\u001b[0;34m\u001b[0m\u001b[0;34m\u001b[0m\u001b[0m\n\u001b[1;32m    436\u001b[0m             \u001b[0;32mtry\u001b[0m\u001b[0;34m:\u001b[0m\u001b[0;34m\u001b[0m\u001b[0;34m\u001b[0m\u001b[0m\n\u001b[0;32m--> 437\u001b[0;31m                 \u001b[0mtrace\u001b[0m \u001b[0;34m=\u001b[0m \u001b[0m_mp_sample\u001b[0m\u001b[0;34m(\u001b[0m\u001b[0;34m**\u001b[0m\u001b[0msample_args\u001b[0m\u001b[0;34m)\u001b[0m\u001b[0;34m\u001b[0m\u001b[0;34m\u001b[0m\u001b[0m\n\u001b[0m\u001b[1;32m    438\u001b[0m             \u001b[0;32mexcept\u001b[0m \u001b[0mpickle\u001b[0m\u001b[0;34m.\u001b[0m\u001b[0mPickleError\u001b[0m\u001b[0;34m:\u001b[0m\u001b[0;34m\u001b[0m\u001b[0;34m\u001b[0m\u001b[0m\n\u001b[1;32m    439\u001b[0m                 \u001b[0m_log\u001b[0m\u001b[0;34m.\u001b[0m\u001b[0mwarning\u001b[0m\u001b[0;34m(\u001b[0m\u001b[0;34m\"Could not pickle model, sampling singlethreaded.\"\u001b[0m\u001b[0;34m)\u001b[0m\u001b[0;34m\u001b[0m\u001b[0;34m\u001b[0m\u001b[0m\n",
      "\u001b[0;32m~/anaconda3/lib/python3.7/site-packages/pymc3/sampling.py\u001b[0m in \u001b[0;36m_mp_sample\u001b[0;34m(draws, tune, step, chains, cores, chain, random_seed, start, progressbar, trace, model, **kwargs)\u001b[0m\n\u001b[1;32m    989\u001b[0m         \u001b[0;32mreturn\u001b[0m \u001b[0mMultiTrace\u001b[0m\u001b[0;34m(\u001b[0m\u001b[0mtraces\u001b[0m\u001b[0;34m)\u001b[0m\u001b[0;34m\u001b[0m\u001b[0;34m\u001b[0m\u001b[0m\n\u001b[1;32m    990\u001b[0m     \u001b[0;32mexcept\u001b[0m \u001b[0mKeyboardInterrupt\u001b[0m\u001b[0;34m:\u001b[0m\u001b[0;34m\u001b[0m\u001b[0;34m\u001b[0m\u001b[0m\n\u001b[0;32m--> 991\u001b[0;31m         \u001b[0mtraces\u001b[0m\u001b[0;34m,\u001b[0m \u001b[0mlength\u001b[0m \u001b[0;34m=\u001b[0m \u001b[0m_choose_chains\u001b[0m\u001b[0;34m(\u001b[0m\u001b[0mtraces\u001b[0m\u001b[0;34m,\u001b[0m \u001b[0mtune\u001b[0m\u001b[0;34m)\u001b[0m\u001b[0;34m\u001b[0m\u001b[0;34m\u001b[0m\u001b[0m\n\u001b[0m\u001b[1;32m    992\u001b[0m         \u001b[0;32mreturn\u001b[0m \u001b[0mMultiTrace\u001b[0m\u001b[0;34m(\u001b[0m\u001b[0mtraces\u001b[0m\u001b[0;34m)\u001b[0m\u001b[0;34m[\u001b[0m\u001b[0;34m:\u001b[0m\u001b[0mlength\u001b[0m\u001b[0;34m]\u001b[0m\u001b[0;34m\u001b[0m\u001b[0;34m\u001b[0m\u001b[0m\n\u001b[1;32m    993\u001b[0m     \u001b[0;32mfinally\u001b[0m\u001b[0;34m:\u001b[0m\u001b[0;34m\u001b[0m\u001b[0;34m\u001b[0m\u001b[0m\n",
      "\u001b[0;32m~/anaconda3/lib/python3.7/site-packages/pymc3/sampling.py\u001b[0m in \u001b[0;36m_choose_chains\u001b[0;34m(traces, tune)\u001b[0m\n\u001b[1;32m   1005\u001b[0m     \u001b[0mlengths\u001b[0m \u001b[0;34m=\u001b[0m \u001b[0;34m[\u001b[0m\u001b[0mmax\u001b[0m\u001b[0;34m(\u001b[0m\u001b[0;36m0\u001b[0m\u001b[0;34m,\u001b[0m \u001b[0mlen\u001b[0m\u001b[0;34m(\u001b[0m\u001b[0mtrace\u001b[0m\u001b[0;34m)\u001b[0m \u001b[0;34m-\u001b[0m \u001b[0mtune\u001b[0m\u001b[0;34m)\u001b[0m \u001b[0;32mfor\u001b[0m \u001b[0mtrace\u001b[0m \u001b[0;32min\u001b[0m \u001b[0mtraces\u001b[0m\u001b[0;34m]\u001b[0m\u001b[0;34m\u001b[0m\u001b[0;34m\u001b[0m\u001b[0m\n\u001b[1;32m   1006\u001b[0m     \u001b[0;32mif\u001b[0m \u001b[0;32mnot\u001b[0m \u001b[0msum\u001b[0m\u001b[0;34m(\u001b[0m\u001b[0mlengths\u001b[0m\u001b[0;34m)\u001b[0m\u001b[0;34m:\u001b[0m\u001b[0;34m\u001b[0m\u001b[0;34m\u001b[0m\u001b[0m\n\u001b[0;32m-> 1007\u001b[0;31m         \u001b[0;32mraise\u001b[0m \u001b[0mValueError\u001b[0m\u001b[0;34m(\u001b[0m\u001b[0;34m'Not enough samples to build a trace.'\u001b[0m\u001b[0;34m)\u001b[0m\u001b[0;34m\u001b[0m\u001b[0;34m\u001b[0m\u001b[0m\n\u001b[0m\u001b[1;32m   1008\u001b[0m \u001b[0;34m\u001b[0m\u001b[0m\n\u001b[1;32m   1009\u001b[0m     \u001b[0midxs\u001b[0m \u001b[0;34m=\u001b[0m \u001b[0mnp\u001b[0m\u001b[0;34m.\u001b[0m\u001b[0margsort\u001b[0m\u001b[0;34m(\u001b[0m\u001b[0mlengths\u001b[0m\u001b[0;34m)\u001b[0m\u001b[0;34m[\u001b[0m\u001b[0;34m:\u001b[0m\u001b[0;34m:\u001b[0m\u001b[0;34m-\u001b[0m\u001b[0;36m1\u001b[0m\u001b[0;34m]\u001b[0m\u001b[0;34m\u001b[0m\u001b[0;34m\u001b[0m\u001b[0m\n",
      "\u001b[0;31mValueError\u001b[0m: Not enough samples to build a trace."
     ]
    }
   ],
   "source": [
    "sampler = xo.PyMC3Sampler(start=100, window=100, finish=500, chains=2)\n",
    "with model:\n",
    "    burnin = sampler.tune(tune=1000, step_kwargs=dict(target_accept=0.9), start=map_params)"
   ]
  },
  {
   "cell_type": "code",
   "execution_count": null,
   "metadata": {},
   "outputs": [],
   "source": []
  },
  {
   "cell_type": "code",
   "execution_count": 113,
   "metadata": {},
   "outputs": [
    {
     "data": {
      "text/html": [
       "<div>\n",
       "<style scoped>\n",
       "    .dataframe tbody tr th:only-of-type {\n",
       "        vertical-align: middle;\n",
       "    }\n",
       "\n",
       "    .dataframe tbody tr th {\n",
       "        vertical-align: top;\n",
       "    }\n",
       "\n",
       "    .dataframe thead th {\n",
       "        text-align: right;\n",
       "    }\n",
       "</style>\n",
       "<table border=\"1\" class=\"dataframe\">\n",
       "  <thead>\n",
       "    <tr style=\"text-align: right;\">\n",
       "      <th></th>\n",
       "      <th>mean</th>\n",
       "      <th>sd</th>\n",
       "      <th>mc_error</th>\n",
       "      <th>hpd_2.5</th>\n",
       "      <th>hpd_97.5</th>\n",
       "      <th>n_eff</th>\n",
       "      <th>Rhat</th>\n",
       "    </tr>\n",
       "  </thead>\n",
       "  <tbody>\n",
       "    <tr>\n",
       "      <th>logs_lc</th>\n",
       "      <td>-1.184980e+00</td>\n",
       "      <td>2.587202e-03</td>\n",
       "      <td>8.446848e-05</td>\n",
       "      <td>-1.189964e+00</td>\n",
       "      <td>-1.179802e+00</td>\n",
       "      <td>744.746085</td>\n",
       "      <td>0.999527</td>\n",
       "    </tr>\n",
       "    <tr>\n",
       "      <th>mean</th>\n",
       "      <td>-1.055745e-04</td>\n",
       "      <td>1.088681e-03</td>\n",
       "      <td>3.677544e-05</td>\n",
       "      <td>-2.268896e-03</td>\n",
       "      <td>1.860111e-03</td>\n",
       "      <td>685.952393</td>\n",
       "      <td>1.001982</td>\n",
       "    </tr>\n",
       "    <tr>\n",
       "      <th>lognu__0</th>\n",
       "      <td>3.912023e+00</td>\n",
       "      <td>1.475948e-08</td>\n",
       "      <td>7.538497e-10</td>\n",
       "      <td>3.912023e+00</td>\n",
       "      <td>3.912023e+00</td>\n",
       "      <td>384.507109</td>\n",
       "      <td>1.001926</td>\n",
       "    </tr>\n",
       "    <tr>\n",
       "      <th>logP</th>\n",
       "      <td>5.709772e+00</td>\n",
       "      <td>1.767603e+00</td>\n",
       "      <td>8.698861e-02</td>\n",
       "      <td>2.738882e+00</td>\n",
       "      <td>8.487763e+00</td>\n",
       "      <td>235.107832</td>\n",
       "      <td>1.004883</td>\n",
       "    </tr>\n",
       "    <tr>\n",
       "      <th>period</th>\n",
       "      <td>9.732761e+02</td>\n",
       "      <td>1.290794e+03</td>\n",
       "      <td>5.239732e+01</td>\n",
       "      <td>1.003408e+01</td>\n",
       "      <td>4.010982e+03</td>\n",
       "      <td>521.815191</td>\n",
       "      <td>1.007127</td>\n",
       "    </tr>\n",
       "    <tr>\n",
       "      <th>phi</th>\n",
       "      <td>7.328886e-03</td>\n",
       "      <td>1.768326e+00</td>\n",
       "      <td>8.445649e-02</td>\n",
       "      <td>-3.012153e+00</td>\n",
       "      <td>2.853028e+00</td>\n",
       "      <td>323.255937</td>\n",
       "      <td>1.000257</td>\n",
       "    </tr>\n",
       "    <tr>\n",
       "      <th>logasini</th>\n",
       "      <td>-2.814298e+00</td>\n",
       "      <td>2.064657e+00</td>\n",
       "      <td>1.046570e-01</td>\n",
       "      <td>-6.669851e+00</td>\n",
       "      <td>3.992745e-01</td>\n",
       "      <td>308.950331</td>\n",
       "      <td>1.000035</td>\n",
       "    </tr>\n",
       "    <tr>\n",
       "      <th>asini</th>\n",
       "      <td>3.212217e-01</td>\n",
       "      <td>8.553289e-01</td>\n",
       "      <td>5.557884e-02</td>\n",
       "      <td>1.038052e-03</td>\n",
       "      <td>1.296913e+00</td>\n",
       "      <td>221.594968</td>\n",
       "      <td>1.000397</td>\n",
       "    </tr>\n",
       "    <tr>\n",
       "      <th>nu__0</th>\n",
       "      <td>5.000000e+01</td>\n",
       "      <td>7.379742e-07</td>\n",
       "      <td>3.769248e-08</td>\n",
       "      <td>5.000000e+01</td>\n",
       "      <td>5.000000e+01</td>\n",
       "      <td>384.507125</td>\n",
       "      <td>1.001926</td>\n",
       "    </tr>\n",
       "    <tr>\n",
       "      <th>mass_function</th>\n",
       "      <td>5.374470e+23</td>\n",
       "      <td>3.027200e+24</td>\n",
       "      <td>2.819122e+23</td>\n",
       "      <td>3.970389e+11</td>\n",
       "      <td>1.835203e+23</td>\n",
       "      <td>36.838411</td>\n",
       "      <td>1.027540</td>\n",
       "    </tr>\n",
       "  </tbody>\n",
       "</table>\n",
       "</div>"
      ],
      "text/plain": [
       "                       mean            sd      mc_error       hpd_2.5  \\\n",
       "logs_lc       -1.184980e+00  2.587202e-03  8.446848e-05 -1.189964e+00   \n",
       "mean          -1.055745e-04  1.088681e-03  3.677544e-05 -2.268896e-03   \n",
       "lognu__0       3.912023e+00  1.475948e-08  7.538497e-10  3.912023e+00   \n",
       "logP           5.709772e+00  1.767603e+00  8.698861e-02  2.738882e+00   \n",
       "period         9.732761e+02  1.290794e+03  5.239732e+01  1.003408e+01   \n",
       "phi            7.328886e-03  1.768326e+00  8.445649e-02 -3.012153e+00   \n",
       "logasini      -2.814298e+00  2.064657e+00  1.046570e-01 -6.669851e+00   \n",
       "asini          3.212217e-01  8.553289e-01  5.557884e-02  1.038052e-03   \n",
       "nu__0          5.000000e+01  7.379742e-07  3.769248e-08  5.000000e+01   \n",
       "mass_function  5.374470e+23  3.027200e+24  2.819122e+23  3.970389e+11   \n",
       "\n",
       "                   hpd_97.5       n_eff      Rhat  \n",
       "logs_lc       -1.179802e+00  744.746085  0.999527  \n",
       "mean           1.860111e-03  685.952393  1.001982  \n",
       "lognu__0       3.912023e+00  384.507109  1.001926  \n",
       "logP           8.487763e+00  235.107832  1.004883  \n",
       "period         4.010982e+03  521.815191  1.007127  \n",
       "phi            2.853028e+00  323.255937  1.000257  \n",
       "logasini       3.992745e-01  308.950331  1.000035  \n",
       "asini          1.296913e+00  221.594968  1.000397  \n",
       "nu__0          5.000000e+01  384.507125  1.001926  \n",
       "mass_function  1.835203e+23   36.838411  1.027540  "
      ]
     },
     "execution_count": 113,
     "metadata": {},
     "output_type": "execute_result"
    }
   ],
   "source": [
    "pm.summary(trace)"
   ]
  },
  {
   "cell_type": "code",
   "execution_count": 115,
   "metadata": {},
   "outputs": [
    {
     "data": {
      "text/plain": [
       "'traces/planet_test/1000d_0x7'"
      ]
     },
     "execution_count": 115,
     "metadata": {},
     "output_type": "execute_result"
    }
   ],
   "source": []
  },
  {
   "cell_type": "code",
   "execution_count": 116,
   "metadata": {},
   "outputs": [
    {
     "name": "stderr",
     "output_type": "stream",
     "text": [
      "WARNING:root:Too few points to create valid contours\n"
     ]
    },
    {
     "data": {
      "image/png": "[encoded data removed]",
      "text/plain": [
       "<Figure size 396x396 with 4 Axes>"
      ]
     },
     "metadata": {
      "needs_background": "light"
     },
     "output_type": "display_data"
    }
   ],
   "source": [
    "corner.corner(pm.trace_to_dataframe(trace, varnames=['period', 'asini']));"
   ]
  },
  {
   "cell_type": "code",
   "execution_count": 117,
   "metadata": {},
   "outputs": [
    {
     "name": "stdout",
     "output_type": "stream",
     "text": [
      "period :  352.7597  +  2014.3835  -  317.6816\n",
      "asini :  0.068  +  0.4588  -  0.0627\n",
      "phi :  0.117  +  1.9016  -  2.2087\n"
     ]
    }
   ],
   "source": [
    "\n",
    "varnames=['period', 'asini', 'phi']\n",
    "rounding = 4\n",
    "for varname in varnames:\n",
    "    upper, med, lower = np.percentile(trace[varname], [84.13, 50, 15.86])\n",
    "    print(varname, ': ', np.round(med,rounding), ' + ', np.round(upper - med,rounding), ' - ', np.round(med - lower,rounding))"
   ]
  },
  {
   "cell_type": "code",
   "execution_count": 118,
   "metadata": {},
   "outputs": [
    {
     "data": {
      "text/html": [
       "<div>\n",
       "<style scoped>\n",
       "    .dataframe tbody tr th:only-of-type {\n",
       "        vertical-align: middle;\n",
       "    }\n",
       "\n",
       "    .dataframe tbody tr th {\n",
       "        vertical-align: top;\n",
       "    }\n",
       "\n",
       "    .dataframe thead th {\n",
       "        text-align: right;\n",
       "    }\n",
       "</style>\n",
       "<table border=\"1\" class=\"dataframe\">\n",
       "  <thead>\n",
       "    <tr style=\"text-align: right;\">\n",
       "      <th></th>\n",
       "      <th>mean</th>\n",
       "      <th>sd</th>\n",
       "      <th>mc_error</th>\n",
       "      <th>hpd_2.5</th>\n",
       "      <th>hpd_97.5</th>\n",
       "      <th>n_eff</th>\n",
       "      <th>Rhat</th>\n",
       "    </tr>\n",
       "  </thead>\n",
       "  <tbody>\n",
       "    <tr>\n",
       "      <th>logs_lc</th>\n",
       "      <td>-1.184980e+00</td>\n",
       "      <td>2.587202e-03</td>\n",
       "      <td>8.446848e-05</td>\n",
       "      <td>-1.189964e+00</td>\n",
       "      <td>-1.179802e+00</td>\n",
       "      <td>744.746085</td>\n",
       "      <td>0.999527</td>\n",
       "    </tr>\n",
       "    <tr>\n",
       "      <th>mean</th>\n",
       "      <td>-1.055745e-04</td>\n",
       "      <td>1.088681e-03</td>\n",
       "      <td>3.677544e-05</td>\n",
       "      <td>-2.268896e-03</td>\n",
       "      <td>1.860111e-03</td>\n",
       "      <td>685.952393</td>\n",
       "      <td>1.001982</td>\n",
       "    </tr>\n",
       "    <tr>\n",
       "      <th>lognu__0</th>\n",
       "      <td>3.912023e+00</td>\n",
       "      <td>1.475948e-08</td>\n",
       "      <td>7.538497e-10</td>\n",
       "      <td>3.912023e+00</td>\n",
       "      <td>3.912023e+00</td>\n",
       "      <td>384.507109</td>\n",
       "      <td>1.001926</td>\n",
       "    </tr>\n",
       "    <tr>\n",
       "      <th>logP</th>\n",
       "      <td>5.709772e+00</td>\n",
       "      <td>1.767603e+00</td>\n",
       "      <td>8.698861e-02</td>\n",
       "      <td>2.738882e+00</td>\n",
       "      <td>8.487763e+00</td>\n",
       "      <td>235.107832</td>\n",
       "      <td>1.004883</td>\n",
       "    </tr>\n",
       "    <tr>\n",
       "      <th>period</th>\n",
       "      <td>9.732761e+02</td>\n",
       "      <td>1.290794e+03</td>\n",
       "      <td>5.239732e+01</td>\n",
       "      <td>1.003408e+01</td>\n",
       "      <td>4.010982e+03</td>\n",
       "      <td>521.815191</td>\n",
       "      <td>1.007127</td>\n",
       "    </tr>\n",
       "    <tr>\n",
       "      <th>phi</th>\n",
       "      <td>7.328886e-03</td>\n",
       "      <td>1.768326e+00</td>\n",
       "      <td>8.445649e-02</td>\n",
       "      <td>-3.012153e+00</td>\n",
       "      <td>2.853028e+00</td>\n",
       "      <td>323.255937</td>\n",
       "      <td>1.000257</td>\n",
       "    </tr>\n",
       "    <tr>\n",
       "      <th>logasini</th>\n",
       "      <td>-2.814298e+00</td>\n",
       "      <td>2.064657e+00</td>\n",
       "      <td>1.046570e-01</td>\n",
       "      <td>-6.669851e+00</td>\n",
       "      <td>3.992745e-01</td>\n",
       "      <td>308.950331</td>\n",
       "      <td>1.000035</td>\n",
       "    </tr>\n",
       "    <tr>\n",
       "      <th>asini</th>\n",
       "      <td>3.212217e-01</td>\n",
       "      <td>8.553289e-01</td>\n",
       "      <td>5.557884e-02</td>\n",
       "      <td>1.038052e-03</td>\n",
       "      <td>1.296913e+00</td>\n",
       "      <td>221.594968</td>\n",
       "      <td>1.000397</td>\n",
       "    </tr>\n",
       "    <tr>\n",
       "      <th>nu__0</th>\n",
       "      <td>5.000000e+01</td>\n",
       "      <td>7.379742e-07</td>\n",
       "      <td>3.769248e-08</td>\n",
       "      <td>5.000000e+01</td>\n",
       "      <td>5.000000e+01</td>\n",
       "      <td>384.507125</td>\n",
       "      <td>1.001926</td>\n",
       "    </tr>\n",
       "    <tr>\n",
       "      <th>mass_function</th>\n",
       "      <td>5.374470e+23</td>\n",
       "      <td>3.027200e+24</td>\n",
       "      <td>2.819122e+23</td>\n",
       "      <td>3.970389e+11</td>\n",
       "      <td>1.835203e+23</td>\n",
       "      <td>36.838411</td>\n",
       "      <td>1.027540</td>\n",
       "    </tr>\n",
       "  </tbody>\n",
       "</table>\n",
       "</div>"
      ],
      "text/plain": [
       "                       mean            sd      mc_error       hpd_2.5  \\\n",
       "logs_lc       -1.184980e+00  2.587202e-03  8.446848e-05 -1.189964e+00   \n",
       "mean          -1.055745e-04  1.088681e-03  3.677544e-05 -2.268896e-03   \n",
       "lognu__0       3.912023e+00  1.475948e-08  7.538497e-10  3.912023e+00   \n",
       "logP           5.709772e+00  1.767603e+00  8.698861e-02  2.738882e+00   \n",
       "period         9.732761e+02  1.290794e+03  5.239732e+01  1.003408e+01   \n",
       "phi            7.328886e-03  1.768326e+00  8.445649e-02 -3.012153e+00   \n",
       "logasini      -2.814298e+00  2.064657e+00  1.046570e-01 -6.669851e+00   \n",
       "asini          3.212217e-01  8.553289e-01  5.557884e-02  1.038052e-03   \n",
       "nu__0          5.000000e+01  7.379742e-07  3.769248e-08  5.000000e+01   \n",
       "mass_function  5.374470e+23  3.027200e+24  2.819122e+23  3.970389e+11   \n",
       "\n",
       "                   hpd_97.5       n_eff      Rhat  \n",
       "logs_lc       -1.179802e+00  744.746085  0.999527  \n",
       "mean           1.860111e-03  685.952393  1.001982  \n",
       "lognu__0       3.912023e+00  384.507109  1.001926  \n",
       "logP           8.487763e+00  235.107832  1.004883  \n",
       "period         4.010982e+03  521.815191  1.007127  \n",
       "phi            2.853028e+00  323.255937  1.000257  \n",
       "logasini       3.992745e-01  308.950331  1.000035  \n",
       "asini          1.296913e+00  221.594968  1.000397  \n",
       "nu__0          5.000000e+01  384.507125  1.001926  \n",
       "mass_function  1.835203e+23   36.838411  1.027540  "
      ]
     },
     "execution_count": 118,
     "metadata": {},
     "output_type": "execute_result"
    }
   ],
   "source": [
    "pm.summary(trace)"
   ]
  },
  {
   "cell_type": "code",
   "execution_count": null,
   "metadata": {},
   "outputs": [],
   "source": []
  },
  {
   "cell_type": "code",
   "execution_count": null,
   "metadata": {},
   "outputs": [],
   "source": []
  },
  {
   "cell_type": "code",
   "execution_count": null,
   "metadata": {},
   "outputs": [],
   "source": []
  },
  {
   "cell_type": "code",
   "execution_count": null,
   "metadata": {},
   "outputs": [],
   "source": []
  }
 ],
 "metadata": {
  "kernelspec": {
   "display_name": "Python 3",
   "language": "python",
   "name": "python3"
  },
  "language_info": {
   "codemirror_mode": {
    "name": "ipython",
    "version": 3
   },
   "file_extension": ".py",
   "mimetype": "text/x-python",
   "name": "python",
   "nbconvert_exporter": "python",
   "pygments_lexer": "ipython3",
   "version": "3.7.3"
  }
 },
 "nbformat": 4,
 "nbformat_minor": 4
}
